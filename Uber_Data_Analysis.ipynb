{
 "cells": [
  {
   "cell_type": "markdown",
   "metadata": {
    "id": "4cbgwZWWfWpp"
   },
   "source": [
    "# New Section"
   ]
  },
  {
   "cell_type": "markdown",
   "metadata": {
    "id": "RugL6m8tNG87"
   },
   "source": [
    "# Import relevant libraries and define settings for plotting"
   ]
  },
  {
   "cell_type": "code",
   "execution_count": 2,
   "metadata": {
    "colab": {
     "base_uri": "https://localhost:8080/",
     "height": 119
    },
    "id": "tAb77yZ9fzMG",
    "outputId": "175cb50d-3f47-4ed4-ef68-b33bf9cc717c"
   },
   "outputs": [
    {
     "name": "stdout",
     "output_type": "stream",
     "text": [
      "3.6.13 |Anaconda, Inc.| (default, Feb 23 2021, 12:58:59) \n",
      "[GCC Clang 10.0.0 ]\n",
      "Numpy version:\n",
      "Pandas version:\n",
      "Matplotlib version:\n",
      "Seaborn version:\n"
     ]
    }
   ],
   "source": [
    "#Import relevant libraries and define settings for plotting.\n",
    "%matplotlib inline\n",
    "import sys\n",
    "print(sys.version)\n",
    "\n",
    "import numpy as np\n",
    "print ('Numpy version:'), np.__version__\n",
    "\n",
    "import pandas as pd\n",
    "print ('Pandas version:'), pd.__version__\n",
    "\n",
    "import matplotlib as mpl\n",
    "import matplotlib.pyplot as plt\n",
    "print ('Matplotlib version:'), mpl.__version__\n",
    "\n",
    "import seaborn as sns\n",
    "print ('Seaborn version:'), sns.__version__\n",
    "\n",
    "import datetime\n",
    "import time\n",
    "\n",
    "sns.set()\n",
    "pal = sns.hls_palette(10, h=.5)\n",
    "sns.set_palette(pal)\n",
    "\n",
    "#Avoid display of scientific notation and show precision of 4 decimals:\n",
    "pd.set_option('display.float_format', lambda x: '%.4f' % x)"
   ]
  },
  {
   "cell_type": "code",
   "execution_count": 4,
   "metadata": {},
   "outputs": [
    {
     "name": "stdout",
     "output_type": "stream",
     "text": [
      "--2021-11-22 12:03:25--  https://s3.amazonaws.com/nyc-tlc/misc/uber_nyc_data.csv\n",
      "Resolving s3.amazonaws.com... 52.217.109.22\n",
      "Connecting to s3.amazonaws.com|52.217.109.22|:443... connected.\n",
      "HTTP request sent, awaiting response... 200 OK\n",
      "Length: 1473327561 (1.4G) [application/octet-stream]\n",
      "Saving to: 'uber_nyc_data.csv'\n",
      "\n",
      "uber_nyc_data.csv   100%[===================>]   1.37G  1.56MB/s    in 14m 50s \n",
      "\n",
      "2021-11-22 12:18:15 (1.58 MB/s) - 'uber_nyc_data.csv' saved [1473327561/1473327561]\n",
      "\n"
     ]
    }
   ],
   "source": [
    "!wget https://s3.amazonaws.com/nyc-tlc/misc/uber_nyc_data.csv"
   ]
  },
  {
   "cell_type": "code",
   "execution_count": 3,
   "metadata": {
    "colab": {
     "base_uri": "https://localhost:8080/",
     "height": 204
    },
    "id": "qL7JYXUtGxa5",
    "outputId": "f83928eb-091a-49fc-8b04-2a82569ea3b7"
   },
   "outputs": [],
   "source": [
    "df_uber = pd.read_csv('uber_nyc_data.csv')"
   ]
  },
  {
   "cell_type": "code",
   "execution_count": 4,
   "metadata": {
    "colab": {
     "base_uri": "https://localhost:8080/",
     "height": 204
    },
    "id": "rG-aeF1dGxmY",
    "outputId": "264f5b2b-52a4-479a-858b-b79c2070a53c"
   },
   "outputs": [
    {
     "data": {
      "text/html": [
       "<div>\n",
       "<style scoped>\n",
       "    .dataframe tbody tr th:only-of-type {\n",
       "        vertical-align: middle;\n",
       "    }\n",
       "\n",
       "    .dataframe tbody tr th {\n",
       "        vertical-align: top;\n",
       "    }\n",
       "\n",
       "    .dataframe thead th {\n",
       "        text-align: right;\n",
       "    }\n",
       "</style>\n",
       "<table border=\"1\" class=\"dataframe\">\n",
       "  <thead>\n",
       "    <tr style=\"text-align: right;\">\n",
       "      <th></th>\n",
       "      <th>id</th>\n",
       "      <th>origin_taz</th>\n",
       "      <th>destination_taz</th>\n",
       "      <th>pickup_datetime</th>\n",
       "      <th>trip_distance</th>\n",
       "      <th>trip_duration</th>\n",
       "    </tr>\n",
       "  </thead>\n",
       "  <tbody>\n",
       "    <tr>\n",
       "      <th>0</th>\n",
       "      <td>252581</td>\n",
       "      <td>7C</td>\n",
       "      <td>6A</td>\n",
       "      <td>2014-09-01 09:00:00</td>\n",
       "      <td>4.2500</td>\n",
       "      <td>0:15:11</td>\n",
       "    </tr>\n",
       "    <tr>\n",
       "      <th>1</th>\n",
       "      <td>252582</td>\n",
       "      <td>7B</td>\n",
       "      <td>15</td>\n",
       "      <td>2014-09-01 18:00:00</td>\n",
       "      <td>10.1700</td>\n",
       "      <td>0:34:05</td>\n",
       "    </tr>\n",
       "    <tr>\n",
       "      <th>2</th>\n",
       "      <td>252583</td>\n",
       "      <td>11</td>\n",
       "      <td>2A</td>\n",
       "      <td>2014-09-01 17:00:00</td>\n",
       "      <td>4.0200</td>\n",
       "      <td>0:17:06</td>\n",
       "    </tr>\n",
       "    <tr>\n",
       "      <th>3</th>\n",
       "      <td>252584</td>\n",
       "      <td>3B</td>\n",
       "      <td>4A</td>\n",
       "      <td>2014-09-01 13:00:00</td>\n",
       "      <td>1.4600</td>\n",
       "      <td>0:06:32</td>\n",
       "    </tr>\n",
       "    <tr>\n",
       "      <th>4</th>\n",
       "      <td>252585</td>\n",
       "      <td>2A</td>\n",
       "      <td>10</td>\n",
       "      <td>2014-09-01 14:00:00</td>\n",
       "      <td>8.3100</td>\n",
       "      <td>0:26:17</td>\n",
       "    </tr>\n",
       "  </tbody>\n",
       "</table>\n",
       "</div>"
      ],
      "text/plain": [
       "       id origin_taz destination_taz      pickup_datetime  trip_distance  \\\n",
       "0  252581         7C              6A  2014-09-01 09:00:00         4.2500   \n",
       "1  252582         7B              15  2014-09-01 18:00:00        10.1700   \n",
       "2  252583         11              2A  2014-09-01 17:00:00         4.0200   \n",
       "3  252584         3B              4A  2014-09-01 13:00:00         1.4600   \n",
       "4  252585         2A              10  2014-09-01 14:00:00         8.3100   \n",
       "\n",
       "  trip_duration  \n",
       "0       0:15:11  \n",
       "1       0:34:05  \n",
       "2       0:17:06  \n",
       "3       0:06:32  \n",
       "4       0:26:17  "
      ]
     },
     "execution_count": 4,
     "metadata": {},
     "output_type": "execute_result"
    }
   ],
   "source": [
    "df_uber.head()"
   ]
  },
  {
   "cell_type": "code",
   "execution_count": 5,
   "metadata": {
    "colab": {
     "base_uri": "https://localhost:8080/",
     "height": 34
    },
    "id": "VwWiS6-pGxp3",
    "outputId": "62809b82-97b5-4b19-8424-4bab3b157b28"
   },
   "outputs": [
    {
     "data": {
      "text/plain": [
       "30925738"
      ]
     },
     "execution_count": 5,
     "metadata": {},
     "output_type": "execute_result"
    }
   ],
   "source": [
    "#The ID is unique\n",
    "len(df_uber.id.unique())"
   ]
  },
  {
   "cell_type": "markdown",
   "metadata": {
    "id": "f-KtBfgfOX3c"
   },
   "source": [
    "## Check for missing or possibly erroneous data."
   ]
  },
  {
   "cell_type": "code",
   "execution_count": 6,
   "metadata": {
    "colab": {
     "base_uri": "https://localhost:8080/",
     "height": 34
    },
    "id": "p_AWO64zGxtL",
    "outputId": "adb0721d-d91b-41f2-e5d7-fa5c9de1a354"
   },
   "outputs": [
    {
     "data": {
      "text/plain": [
       "0"
      ]
     },
     "execution_count": 6,
     "metadata": {},
     "output_type": "execute_result"
    }
   ],
   "source": [
    "#There are no duplicated rows (this takes a while to run):\n",
    "len(df_uber[df_uber.duplicated() == True])"
   ]
  },
  {
   "cell_type": "code",
   "execution_count": 7,
   "metadata": {
    "colab": {
     "base_uri": "https://localhost:8080/",
     "height": 136
    },
    "id": "n4kQ9LFAGxwX",
    "outputId": "29c9b6a9-67ed-4a76-a593-b7dd238c6915"
   },
   "outputs": [
    {
     "data": {
      "text/plain": [
       "id                       0\n",
       "origin_taz               0\n",
       "destination_taz    1273023\n",
       "pickup_datetime          0\n",
       "trip_distance           38\n",
       "trip_duration           38\n",
       "dtype: int64"
      ]
     },
     "execution_count": 7,
     "metadata": {},
     "output_type": "execute_result"
    }
   ],
   "source": [
    "#Show total null values per column. Use .any() in lieu of .sum() to just show which columns.\n",
    "df_uber.isnull().sum() #Note: ~1.3 million destination entries (4%) are null (missing)"
   ]
  },
  {
   "cell_type": "code",
   "execution_count": 8,
   "metadata": {
    "colab": {
     "base_uri": "https://localhost:8080/",
     "height": 68
    },
    "id": "wqmZxfjjGxy7",
    "outputId": "f0c1f66b-ffb4-455d-a5e7-da311c26c72f"
   },
   "outputs": [
    {
     "data": {
      "text/plain": [
       "array(['7C', '7B', '11', '3B', '2A', '5B', '10', '2B', '9', '6B', '15',\n",
       "       '4C', '5A', '8', '14', '4A', '7A', '1', '16', '3A', '2C', '6A',\n",
       "       '12', '13', '3C', '4B', '5C', '17'], dtype=object)"
      ]
     },
     "execution_count": 8,
     "metadata": {},
     "output_type": "execute_result"
    }
   ],
   "source": [
    "arr1 = df_uber.origin_taz.unique() #28 unique origin codes\n",
    "arr1"
   ]
  },
  {
   "cell_type": "code",
   "execution_count": 9,
   "metadata": {
    "colab": {
     "base_uri": "https://localhost:8080/",
     "height": 68
    },
    "id": "iPanEBSiGx2t",
    "outputId": "7723ba3b-d4ed-46d3-923d-c19dd4d572f3"
   },
   "outputs": [
    {
     "data": {
      "text/plain": [
       "array(['6A', '15', '2A', '4A', '10', '4C', '7A', '3C', '5B', '14', '8',\n",
       "       nan, '7C', '12', '2C', '1', '6B', '5C', '9', '3A', '2B', '11',\n",
       "       '7B', '5A', '13', '4B', '18', '16', '3B', '17'], dtype=object)"
      ]
     },
     "execution_count": 9,
     "metadata": {},
     "output_type": "execute_result"
    }
   ],
   "source": [
    "arr2 = df_uber.destination_taz.unique() #30 unique destination codes, same as origin except for nan and 18.\n",
    "arr2"
   ]
  },
  {
   "cell_type": "code",
   "execution_count": 10,
   "metadata": {
    "colab": {
     "base_uri": "https://localhost:8080/",
     "height": 34
    },
    "id": "oeqydE0GGx5Z",
    "outputId": "e63897e4-2974-42cf-861e-07e826891d8f"
   },
   "outputs": [
    {
     "data": {
      "text/plain": [
       "{'18', nan}"
      ]
     },
     "execution_count": 10,
     "metadata": {},
     "output_type": "execute_result"
    }
   ],
   "source": [
    "set(arr2) - set(arr1) #maybe code 18 represents EWR airport?"
   ]
  },
  {
   "cell_type": "code",
   "execution_count": 11,
   "metadata": {
    "colab": {
     "base_uri": "https://localhost:8080/",
     "height": 204
    },
    "id": "AnnRlDeHGx8L",
    "outputId": "1655d7ff-345d-4872-d982-0533d3bd2167"
   },
   "outputs": [
    {
     "data": {
      "text/html": [
       "<div>\n",
       "<style scoped>\n",
       "    .dataframe tbody tr th:only-of-type {\n",
       "        vertical-align: middle;\n",
       "    }\n",
       "\n",
       "    .dataframe tbody tr th {\n",
       "        vertical-align: top;\n",
       "    }\n",
       "\n",
       "    .dataframe thead th {\n",
       "        text-align: right;\n",
       "    }\n",
       "</style>\n",
       "<table border=\"1\" class=\"dataframe\">\n",
       "  <thead>\n",
       "    <tr style=\"text-align: right;\">\n",
       "      <th></th>\n",
       "      <th>id</th>\n",
       "      <th>origin_taz</th>\n",
       "      <th>destination_taz</th>\n",
       "      <th>pickup_datetime</th>\n",
       "      <th>trip_distance</th>\n",
       "      <th>trip_duration</th>\n",
       "    </tr>\n",
       "  </thead>\n",
       "  <tbody>\n",
       "    <tr>\n",
       "      <th>15</th>\n",
       "      <td>252596</td>\n",
       "      <td>6B</td>\n",
       "      <td>NaN</td>\n",
       "      <td>2014-09-01 17:00:00</td>\n",
       "      <td>11.6700</td>\n",
       "      <td>0:23:45</td>\n",
       "    </tr>\n",
       "    <tr>\n",
       "      <th>32</th>\n",
       "      <td>252613</td>\n",
       "      <td>9</td>\n",
       "      <td>NaN</td>\n",
       "      <td>2014-09-01 16:00:00</td>\n",
       "      <td>80.6900</td>\n",
       "      <td>1:59:37</td>\n",
       "    </tr>\n",
       "    <tr>\n",
       "      <th>63</th>\n",
       "      <td>252644</td>\n",
       "      <td>9</td>\n",
       "      <td>NaN</td>\n",
       "      <td>2014-09-01 18:00:00</td>\n",
       "      <td>23.0700</td>\n",
       "      <td>1:03:37</td>\n",
       "    </tr>\n",
       "    <tr>\n",
       "      <th>141</th>\n",
       "      <td>252722</td>\n",
       "      <td>9</td>\n",
       "      <td>NaN</td>\n",
       "      <td>2014-09-01 10:00:00</td>\n",
       "      <td>21.7300</td>\n",
       "      <td>0:41:12</td>\n",
       "    </tr>\n",
       "    <tr>\n",
       "      <th>148</th>\n",
       "      <td>252729</td>\n",
       "      <td>4B</td>\n",
       "      <td>NaN</td>\n",
       "      <td>2014-09-01 10:00:00</td>\n",
       "      <td>4.6200</td>\n",
       "      <td>0:14:55</td>\n",
       "    </tr>\n",
       "  </tbody>\n",
       "</table>\n",
       "</div>"
      ],
      "text/plain": [
       "         id origin_taz destination_taz      pickup_datetime  trip_distance  \\\n",
       "15   252596         6B             NaN  2014-09-01 17:00:00        11.6700   \n",
       "32   252613          9             NaN  2014-09-01 16:00:00        80.6900   \n",
       "63   252644          9             NaN  2014-09-01 18:00:00        23.0700   \n",
       "141  252722          9             NaN  2014-09-01 10:00:00        21.7300   \n",
       "148  252729         4B             NaN  2014-09-01 10:00:00         4.6200   \n",
       "\n",
       "    trip_duration  \n",
       "15        0:23:45  \n",
       "32        1:59:37  \n",
       "63        1:03:37  \n",
       "141       0:41:12  \n",
       "148       0:14:55  "
      ]
     },
     "execution_count": 11,
     "metadata": {},
     "output_type": "execute_result"
    }
   ],
   "source": [
    "#Check some of the data with missing destination. \n",
    "#One idea to fill missing values would be predict destination based on the other features.\n",
    "df_uber[df_uber.destination_taz.isnull()].head()"
   ]
  },
  {
   "cell_type": "code",
   "execution_count": 12,
   "metadata": {
    "colab": {
     "base_uri": "https://localhost:8080/",
     "height": 204
    },
    "id": "X2WoTyovGx-q",
    "outputId": "329fe2f2-9277-4370-a2cf-a4259e773d84"
   },
   "outputs": [
    {
     "data": {
      "text/html": [
       "<div>\n",
       "<style scoped>\n",
       "    .dataframe tbody tr th:only-of-type {\n",
       "        vertical-align: middle;\n",
       "    }\n",
       "\n",
       "    .dataframe tbody tr th {\n",
       "        vertical-align: top;\n",
       "    }\n",
       "\n",
       "    .dataframe thead th {\n",
       "        text-align: right;\n",
       "    }\n",
       "</style>\n",
       "<table border=\"1\" class=\"dataframe\">\n",
       "  <thead>\n",
       "    <tr style=\"text-align: right;\">\n",
       "      <th></th>\n",
       "      <th>id</th>\n",
       "      <th>origin_taz</th>\n",
       "      <th>destination_taz</th>\n",
       "      <th>pickup_datetime</th>\n",
       "      <th>trip_distance</th>\n",
       "      <th>trip_duration</th>\n",
       "    </tr>\n",
       "  </thead>\n",
       "  <tbody>\n",
       "    <tr>\n",
       "      <th>15155317</th>\n",
       "      <td>39535</td>\n",
       "      <td>2A</td>\n",
       "      <td>11</td>\n",
       "      <td>2015-04-25 12:00:00</td>\n",
       "      <td>nan</td>\n",
       "      <td>NaN</td>\n",
       "    </tr>\n",
       "    <tr>\n",
       "      <th>15245057</th>\n",
       "      <td>1009076</td>\n",
       "      <td>2A</td>\n",
       "      <td>2A</td>\n",
       "      <td>2015-04-26 01:00:00</td>\n",
       "      <td>nan</td>\n",
       "      <td>NaN</td>\n",
       "    </tr>\n",
       "    <tr>\n",
       "      <th>16519652</th>\n",
       "      <td>15028665</td>\n",
       "      <td>2A</td>\n",
       "      <td>7C</td>\n",
       "      <td>2015-04-29 21:00:00</td>\n",
       "      <td>nan</td>\n",
       "      <td>NaN</td>\n",
       "    </tr>\n",
       "    <tr>\n",
       "      <th>17148253</th>\n",
       "      <td>22250173</td>\n",
       "      <td>2A</td>\n",
       "      <td>2A</td>\n",
       "      <td>2015-04-12 02:00:00</td>\n",
       "      <td>nan</td>\n",
       "      <td>NaN</td>\n",
       "    </tr>\n",
       "    <tr>\n",
       "      <th>17297563</th>\n",
       "      <td>23716998</td>\n",
       "      <td>2C</td>\n",
       "      <td>11</td>\n",
       "      <td>2015-04-25 13:00:00</td>\n",
       "      <td>nan</td>\n",
       "      <td>NaN</td>\n",
       "    </tr>\n",
       "  </tbody>\n",
       "</table>\n",
       "</div>"
      ],
      "text/plain": [
       "                id origin_taz destination_taz      pickup_datetime  \\\n",
       "15155317     39535         2A              11  2015-04-25 12:00:00   \n",
       "15245057   1009076         2A              2A  2015-04-26 01:00:00   \n",
       "16519652  15028665         2A              7C  2015-04-29 21:00:00   \n",
       "17148253  22250173         2A              2A  2015-04-12 02:00:00   \n",
       "17297563  23716998         2C              11  2015-04-25 13:00:00   \n",
       "\n",
       "          trip_distance trip_duration  \n",
       "15155317            nan           NaN  \n",
       "15245057            nan           NaN  \n",
       "16519652            nan           NaN  \n",
       "17148253            nan           NaN  \n",
       "17297563            nan           NaN  "
      ]
     },
     "execution_count": 12,
     "metadata": {},
     "output_type": "execute_result"
    }
   ],
   "source": [
    "#There are 38 records with values missing for trip distance and duration, none of which are missing the destination.\n",
    "df38 = df_uber[df_uber.trip_duration.isnull() & df_uber.trip_distance.isnull()]\n",
    "df38.head()"
   ]
  },
  {
   "cell_type": "code",
   "execution_count": 13,
   "metadata": {
    "colab": {
     "base_uri": "https://localhost:8080/",
     "height": 34
    },
    "id": "f7rMr6czGyEK",
    "outputId": "2fa6e395-6129-4951-8773-f0ffb3456e70"
   },
   "outputs": [
    {
     "data": {
      "text/plain": [
       "0"
      ]
     },
     "execution_count": 13,
     "metadata": {},
     "output_type": "execute_result"
    }
   ],
   "source": [
    "#All cases for which trip_duration is null match the cases for which trip_distance is also null:\n",
    "len(df_uber[(df_uber.trip_duration.isnull() == False) & (df_uber.trip_distance.isnull())])"
   ]
  },
  {
   "cell_type": "markdown",
   "metadata": {
    "id": "oZk-w8rzPLjC"
   },
   "source": [
    "\n",
    "# Parse the pickup_datetime column to datetime type and create related features."
   ]
  },
  {
   "cell_type": "code",
   "execution_count": 14,
   "metadata": {
    "colab": {
     "base_uri": "https://localhost:8080/",
     "height": 34
    },
    "id": "Pmha6rFEGyG7",
    "outputId": "d6650529-a37b-4cac-db9b-45606754f8da"
   },
   "outputs": [
    {
     "data": {
      "text/plain": [
       "0"
      ]
     },
     "execution_count": 14,
     "metadata": {},
     "output_type": "execute_result"
    }
   ],
   "source": [
    "#None of the pickup time data offer minutes or seconds precision\n",
    "len(df_uber[df_uber.pickup_datetime.apply(lambda x: x[-5:] == '00:00') == False])"
   ]
  },
  {
   "cell_type": "code",
   "execution_count": 15,
   "metadata": {
    "id": "RyOi7k-7GyLr"
   },
   "outputs": [],
   "source": [
    "def dateParser(s):\n",
    "    \"\"\"\n",
    "    Function that takes a string in the format yyyy-mm-dd hh:mm:ss, and\n",
    "    returns the same as a datetime object.\n",
    "    \"\"\"\n",
    "    return datetime.datetime(int(s[0:4]), int(s[5:7]), int(s[8:10]), int(s[11:13]))\n",
    "\n",
    "#Other methods were tried, all slower (the slowest being parsing while reading file in Pandas):\n",
    "#return datetime.strptime(s, \"%Y-%m-%d %H:%M:%S.%f\")\n",
    "#return np.datetime64(s) equivalent to: np.array(df_uber.pickup_datetime[0]).astype(np.datetime64)\n",
    "#return pandas.Timestamp(s, \"%Y-%m-%d %H:%M:%S.%f\", tz='utc' )\n",
    "#source: http://stackoverflow.com/questions/11136006/python-pandas-what-is-the-fastest-way-to-create-a-datetime-index"
   ]
  },
  {
   "cell_type": "code",
   "execution_count": 16,
   "metadata": {
    "colab": {
     "base_uri": "https://localhost:8080/",
     "height": 34
    },
    "id": "CEW9ExRHGyPc",
    "outputId": "6fea3447-d9b4-4936-cf2a-982207b9b990"
   },
   "outputs": [
    {
     "data": {
      "text/plain": [
       "33.06264090538025"
      ]
     },
     "execution_count": 16,
     "metadata": {},
     "output_type": "execute_result"
    }
   ],
   "source": [
    "#Apply parser to data\n",
    "t0 = time.time()\n",
    "df_uber['pu_date_hour'] = df_uber.pickup_datetime.apply(dateParser)\n",
    "time.time() - t0"
   ]
  },
  {
   "cell_type": "code",
   "execution_count": 17,
   "metadata": {
    "colab": {
     "base_uri": "https://localhost:8080/",
     "height": 34
    },
    "id": "pafL7Li0jyXW",
    "outputId": "985bca34-5aed-4339-bb3b-2ae6fd36be42"
   },
   "outputs": [
    {
     "name": "stdout",
     "output_type": "stream",
     "text": [
      "2014-09-01 00:00:00 2015-09-01 00:00:00 365 days 00:00:00\n"
     ]
    }
   ],
   "source": [
    "\n",
    "#Data encompasses exactly 365 days from Sept 1st, 2014 to Sep 1st, 2015.\n",
    "beginning = df_uber.pu_date_hour.min()\n",
    "end = df_uber.pu_date_hour.max()\n",
    "print (beginning, end, end - beginning)"
   ]
  },
  {
   "cell_type": "code",
   "execution_count": 18,
   "metadata": {
    "id": "MyGnd1FgJ0Do"
   },
   "outputs": [],
   "source": [
    "#Drop repeated column\n",
    "df_uber = df_uber.drop('pickup_datetime', axis=1)"
   ]
  },
  {
   "cell_type": "markdown",
   "metadata": {
    "id": "K6K074CqPczW"
   },
   "source": [
    "# Get the federal holidays for the period (useful for analyzing data later)"
   ]
  },
  {
   "cell_type": "code",
   "execution_count": 19,
   "metadata": {
    "colab": {
     "base_uri": "https://localhost:8080/",
     "height": 204
    },
    "id": "zFtW3R8JJ0Gk",
    "outputId": "15c4d772-bbe9-4ff2-9044-688c26120114"
   },
   "outputs": [
    {
     "data": {
      "text/plain": [
       "2014-09-01                     Labor Day\n",
       "2014-10-13                  Columbus Day\n",
       "2014-11-11                  Veterans Day\n",
       "2014-11-27                  Thanksgiving\n",
       "2014-12-25                     Christmas\n",
       "2015-01-01                 New Years Day\n",
       "2015-01-19    Martin Luther King Jr. Day\n",
       "2015-02-16                Presidents Day\n",
       "2015-05-25                  Memorial Day\n",
       "2015-07-03                      July 4th\n",
       "dtype: object"
      ]
     },
     "execution_count": 19,
     "metadata": {},
     "output_type": "execute_result"
    }
   ],
   "source": [
    "#Get all federal holidays in the period\n",
    "from pandas.tseries.holiday import USFederalHolidayCalendar\n",
    "\n",
    "#if return_name is True, then name is series value and date is the series index, otherwise date is series value.\n",
    "holidays = USFederalHolidayCalendar().holidays(beginning, end, return_name = True) \n",
    "holidays"
   ]
  },
  {
   "cell_type": "code",
   "execution_count": 20,
   "metadata": {
    "colab": {
     "base_uri": "https://localhost:8080/",
     "height": 34
    },
    "id": "Fn5V02vGJ0Jm",
    "outputId": "cba54593-65aa-47bb-a36a-f98876e22a95"
   },
   "outputs": [
    {
     "data": {
      "text/plain": [
       "Index(['Mon', 'Mon', 'Tue', 'Thu', 'Thu', 'Thu', 'Mon', 'Mon', 'Mon', 'Fri'], dtype='object')"
      ]
     },
     "execution_count": 20,
     "metadata": {},
     "output_type": "execute_result"
    }
   ],
   "source": [
    "#Extract the weekday for each holiday\n",
    "holidays.index.map(lambda x: x.strftime('%a'))"
   ]
  },
  {
   "cell_type": "code",
   "execution_count": 21,
   "metadata": {
    "colab": {
     "base_uri": "https://localhost:8080/",
     "height": 204
    },
    "id": "isSIlujKJ0Mj",
    "outputId": "fe54e4e1-8824-43c5-92f2-39918c358da5"
   },
   "outputs": [
    {
     "data": {
      "text/plain": [
       "2014-08-31       Day Before Labor Day\n",
       "2014-09-01                  Labor Day\n",
       "2014-09-02        Day After Labor Day\n",
       "2014-10-12    Day Before Columbus Day\n",
       "2014-10-13               Columbus Day\n",
       "2014-10-14     Day After Columbus Day\n",
       "2014-11-10    Day Before Veterans Day\n",
       "2014-11-11               Veterans Day\n",
       "2014-11-12     Day After Veterans Day\n",
       "2014-11-26    Day Before Thanksgiving\n",
       "dtype: object"
      ]
     },
     "execution_count": 21,
     "metadata": {},
     "output_type": "execute_result"
    }
   ],
   "source": [
    "#For completeness, let's add the day before and after the holidays (better: add day after if Thursday)\n",
    "holidays_all = pd.concat([holidays, \"Day After \" + holidays.shift(1, 'D'), \"Day Before \" + holidays.shift(-1, 'D')])\n",
    "holidays_all = holidays_all.sort_index()\n",
    "holidays_all.head(10)"
   ]
  },
  {
   "cell_type": "markdown",
   "metadata": {
    "id": "V4IPYpISPzMi"
   },
   "source": [
    "# Create other date and time features."
   ]
  },
  {
   "cell_type": "code",
   "execution_count": 22,
   "metadata": {
    "colab": {
     "base_uri": "https://localhost:8080/",
     "height": 34
    },
    "id": "NDjja1rxJ0PV",
    "outputId": "8bf12cce-6b31-4374-b248-0e5dd1d2292d"
   },
   "outputs": [
    {
     "data": {
      "text/plain": [
       "37.594797134399414"
      ]
     },
     "execution_count": 22,
     "metadata": {},
     "output_type": "execute_result"
    }
   ],
   "source": [
    "#Create a column with the date, without the time. This will be useful later.\n",
    "t0 = time.time()\n",
    "df_uber['pu_date'] = pd.Series(map(lambda x: x.astype('datetime64[D]'), df_uber['pu_date_hour'].values))\n",
    "#df_uber['pu_date'] = df_uber['pu_date_hour'].dt.date #this is way less memory effective and 11 sec slower to execute\n",
    "time.time() - t0"
   ]
  },
  {
   "cell_type": "code",
   "execution_count": 24,
   "metadata": {
    "id": "23DQZ6Y1J0SC"
   },
   "outputs": [],
   "source": [
    "#Get month and year from pick up timestamp\n",
    "df_uber['year'] = df_uber['pu_date_hour'].dt.year\n",
    "df_uber['month'] = df_uber['pu_date_hour'].dt.month"
   ]
  },
  {
   "cell_type": "code",
   "execution_count": 25,
   "metadata": {
    "colab": {
     "base_uri": "https://localhost:8080/",
     "height": 34
    },
    "id": "Vo2OduONJ0VV",
    "outputId": "920fea20-e1f2-421d-af42-9b8c1ec61c8f"
   },
   "outputs": [
    {
     "data": {
      "text/plain": [
       "0.7655839920043945"
      ]
     },
     "execution_count": 25,
     "metadata": {},
     "output_type": "execute_result"
    }
   ],
   "source": [
    "\n",
    "#Get trip pick up day of the month\n",
    "t0 = time.time()\n",
    "df_uber['day'] = df_uber['pu_date_hour'].dt.day #.apply(lambda x: x.day) = 105 seconds vs < 2 seconds with dt\n",
    "time.time() - t0"
   ]
  },
  {
   "cell_type": "code",
   "execution_count": 26,
   "metadata": {
    "colab": {
     "base_uri": "https://localhost:8080/",
     "height": 34
    },
    "id": "Tg43CU3pKb7C",
    "outputId": "86087d6a-9bed-4ac8-ad79-b4fb5f931214"
   },
   "outputs": [
    {
     "data": {
      "text/plain": [
       "0.8130991458892822"
      ]
     },
     "execution_count": 26,
     "metadata": {},
     "output_type": "execute_result"
    }
   ],
   "source": [
    "#Get trip pick up hour from timestamp\n",
    "t0 = time.time()\n",
    "df_uber['hour'] = df_uber['pu_date_hour'].dt.hour #< 2 seconds vs 101 seconds using apply lambda\n",
    "time.time() - t0"
   ]
  },
  {
   "cell_type": "code",
   "execution_count": 27,
   "metadata": {
    "colab": {
     "base_uri": "https://localhost:8080/",
     "height": 34
    },
    "id": "wjNZr7JaKb_Q",
    "outputId": "4ccbab7c-4e49-488c-da73-5b0bfc015ed4"
   },
   "outputs": [
    {
     "data": {
      "text/plain": [
       "1.114119052886963"
      ]
     },
     "execution_count": 27,
     "metadata": {},
     "output_type": "execute_result"
    }
   ],
   "source": [
    "#Get trip pick up weekday from timestamp\n",
    "t0 = time.time()\n",
    "df_uber['weekday'] = df_uber['pu_date_hour'].dt.dayofweek\n",
    "time.time() - t0"
   ]
  },
  {
   "cell_type": "code",
   "execution_count": 28,
   "metadata": {
    "colab": {
     "base_uri": "https://localhost:8080/",
     "height": 153
    },
    "id": "1lrTog3PKcC0",
    "outputId": "87e252e4-ca4d-4b27-a026-184ba88399d4"
   },
   "outputs": [
    {
     "data": {
      "text/plain": [
       "5    5142832\n",
       "4    4805002\n",
       "3    4625511\n",
       "6    4331195\n",
       "2    4301537\n",
       "1    4010434\n",
       "0    3709227\n",
       "Name: weekday, dtype: int64"
      ]
     },
     "execution_count": 28,
     "metadata": {},
     "output_type": "execute_result"
    }
   ],
   "source": [
    "df_uber.weekday.value_counts() #Monday = 0, Sunday = 6"
   ]
  },
  {
   "cell_type": "code",
   "execution_count": 29,
   "metadata": {
    "colab": {
     "base_uri": "https://localhost:8080/",
     "height": 309
    },
    "id": "rs5raQ0KKcGV",
    "outputId": "b95e9926-fedc-43e6-aa32-28243e2500fd"
   },
   "outputs": [
    {
     "data": {
      "text/html": [
       "<div>\n",
       "<style scoped>\n",
       "    .dataframe tbody tr th:only-of-type {\n",
       "        vertical-align: middle;\n",
       "    }\n",
       "\n",
       "    .dataframe tbody tr th {\n",
       "        vertical-align: top;\n",
       "    }\n",
       "\n",
       "    .dataframe thead th {\n",
       "        text-align: right;\n",
       "    }\n",
       "</style>\n",
       "<table border=\"1\" class=\"dataframe\">\n",
       "  <thead>\n",
       "    <tr style=\"text-align: right;\">\n",
       "      <th></th>\n",
       "      <th>id</th>\n",
       "      <th>origin_taz</th>\n",
       "      <th>destination_taz</th>\n",
       "      <th>trip_distance</th>\n",
       "      <th>trip_duration</th>\n",
       "      <th>pu_date_hour</th>\n",
       "      <th>pu_date</th>\n",
       "      <th>year</th>\n",
       "      <th>month</th>\n",
       "      <th>day</th>\n",
       "      <th>hour</th>\n",
       "      <th>weekday</th>\n",
       "    </tr>\n",
       "  </thead>\n",
       "  <tbody>\n",
       "    <tr>\n",
       "      <th>0</th>\n",
       "      <td>252581</td>\n",
       "      <td>7C</td>\n",
       "      <td>6A</td>\n",
       "      <td>4.2500</td>\n",
       "      <td>0:15:11</td>\n",
       "      <td>2014-09-01 09:00:00</td>\n",
       "      <td>2014-09-01</td>\n",
       "      <td>2014</td>\n",
       "      <td>9</td>\n",
       "      <td>1</td>\n",
       "      <td>9</td>\n",
       "      <td>0</td>\n",
       "    </tr>\n",
       "    <tr>\n",
       "      <th>1</th>\n",
       "      <td>252582</td>\n",
       "      <td>7B</td>\n",
       "      <td>15</td>\n",
       "      <td>10.1700</td>\n",
       "      <td>0:34:05</td>\n",
       "      <td>2014-09-01 18:00:00</td>\n",
       "      <td>2014-09-01</td>\n",
       "      <td>2014</td>\n",
       "      <td>9</td>\n",
       "      <td>1</td>\n",
       "      <td>18</td>\n",
       "      <td>0</td>\n",
       "    </tr>\n",
       "    <tr>\n",
       "      <th>2</th>\n",
       "      <td>252583</td>\n",
       "      <td>11</td>\n",
       "      <td>2A</td>\n",
       "      <td>4.0200</td>\n",
       "      <td>0:17:06</td>\n",
       "      <td>2014-09-01 17:00:00</td>\n",
       "      <td>2014-09-01</td>\n",
       "      <td>2014</td>\n",
       "      <td>9</td>\n",
       "      <td>1</td>\n",
       "      <td>17</td>\n",
       "      <td>0</td>\n",
       "    </tr>\n",
       "    <tr>\n",
       "      <th>3</th>\n",
       "      <td>252584</td>\n",
       "      <td>3B</td>\n",
       "      <td>4A</td>\n",
       "      <td>1.4600</td>\n",
       "      <td>0:06:32</td>\n",
       "      <td>2014-09-01 13:00:00</td>\n",
       "      <td>2014-09-01</td>\n",
       "      <td>2014</td>\n",
       "      <td>9</td>\n",
       "      <td>1</td>\n",
       "      <td>13</td>\n",
       "      <td>0</td>\n",
       "    </tr>\n",
       "    <tr>\n",
       "      <th>4</th>\n",
       "      <td>252585</td>\n",
       "      <td>2A</td>\n",
       "      <td>10</td>\n",
       "      <td>8.3100</td>\n",
       "      <td>0:26:17</td>\n",
       "      <td>2014-09-01 14:00:00</td>\n",
       "      <td>2014-09-01</td>\n",
       "      <td>2014</td>\n",
       "      <td>9</td>\n",
       "      <td>1</td>\n",
       "      <td>14</td>\n",
       "      <td>0</td>\n",
       "    </tr>\n",
       "  </tbody>\n",
       "</table>\n",
       "</div>"
      ],
      "text/plain": [
       "       id origin_taz destination_taz  trip_distance trip_duration  \\\n",
       "0  252581         7C              6A         4.2500       0:15:11   \n",
       "1  252582         7B              15        10.1700       0:34:05   \n",
       "2  252583         11              2A         4.0200       0:17:06   \n",
       "3  252584         3B              4A         1.4600       0:06:32   \n",
       "4  252585         2A              10         8.3100       0:26:17   \n",
       "\n",
       "         pu_date_hour    pu_date  year  month  day  hour  weekday  \n",
       "0 2014-09-01 09:00:00 2014-09-01  2014      9    1     9        0  \n",
       "1 2014-09-01 18:00:00 2014-09-01  2014      9    1    18        0  \n",
       "2 2014-09-01 17:00:00 2014-09-01  2014      9    1    17        0  \n",
       "3 2014-09-01 13:00:00 2014-09-01  2014      9    1    13        0  \n",
       "4 2014-09-01 14:00:00 2014-09-01  2014      9    1    14        0  "
      ]
     },
     "execution_count": 29,
     "metadata": {},
     "output_type": "execute_result"
    }
   ],
   "source": [
    "df_uber.head()"
   ]
  },
  {
   "cell_type": "code",
   "execution_count": 30,
   "metadata": {
    "colab": {
     "base_uri": "https://localhost:8080/",
     "height": 340
    },
    "id": "KuIcyNHLKcJn",
    "outputId": "fcce7a48-dc5d-4cd9-c2ea-6b1392d9e6f6"
   },
   "outputs": [
    {
     "name": "stdout",
     "output_type": "stream",
     "text": [
      "<class 'pandas.core.frame.DataFrame'>\n",
      "RangeIndex: 30925738 entries, 0 to 30925737\n",
      "Data columns (total 12 columns):\n",
      " #   Column           Dtype         \n",
      "---  ------           -----         \n",
      " 0   id               int64         \n",
      " 1   origin_taz       object        \n",
      " 2   destination_taz  object        \n",
      " 3   trip_distance    float64       \n",
      " 4   trip_duration    object        \n",
      " 5   pu_date_hour     datetime64[ns]\n",
      " 6   pu_date          datetime64[ns]\n",
      " 7   year             int64         \n",
      " 8   month            int64         \n",
      " 9   day              int64         \n",
      " 10  hour             int64         \n",
      " 11  weekday          int64         \n",
      "dtypes: datetime64[ns](2), float64(1), int64(6), object(3)\n",
      "memory usage: 2.8+ GB\n"
     ]
    }
   ],
   "source": [
    "df_uber.info()"
   ]
  },
  {
   "cell_type": "markdown",
   "metadata": {
    "id": "r6tVtIVhQA7j"
   },
   "source": [
    "# Transform trip duration data."
   ]
  },
  {
   "cell_type": "code",
   "execution_count": 31,
   "metadata": {
    "id": "5fMAXolDKcNl"
   },
   "outputs": [],
   "source": [
    "uniq_dur = df_uber[df_uber.trip_duration.isnull() == False].trip_duration.unique() #19393"
   ]
  },
  {
   "cell_type": "code",
   "execution_count": 32,
   "metadata": {
    "colab": {
     "base_uri": "https://localhost:8080/",
     "height": 34
    },
    "id": "A1UK-fXzKcRP",
    "outputId": "30b80f1f-3336-45f3-eb1f-19557d63a8cf"
   },
   "outputs": [
    {
     "name": "stdout",
     "output_type": "stream",
     "text": [
      "386\n"
     ]
    }
   ],
   "source": [
    "#Among unique duration strings, find how many represent >= 10h of duration:\n",
    "long_duration = [] #>= 10 hours or 600 minutes\n",
    "for item in uniq_dur:\n",
    "    if len(item) != 7:\n",
    "        long_duration.append(item)\n",
    "\n",
    "#long_duration\n",
    "print (len(long_duration))"
   ]
  },
  {
   "cell_type": "code",
   "execution_count": 33,
   "metadata": {
    "colab": {
     "base_uri": "https://localhost:8080/",
     "height": 136
    },
    "id": "hbQ5VdzVK6AN",
    "outputId": "ef2d5e9a-0d7b-482b-946e-1ae1b37668e6"
   },
   "outputs": [
    {
     "name": "stdout",
     "output_type": "stream",
     "text": [
      "172032:14:50\n",
      "172032:39:03\n",
      "136:25:12\n",
      "172032:17:45\n",
      "172032:19:27\n",
      "119:53:35\n",
      "120:49:05\n"
     ]
    }
   ],
   "source": [
    "#Check for the most unusual strings for trip duration: some erroneous entries need to be addressed\n",
    "for item in long_duration:\n",
    "    if len(item) > 8:\n",
    "        print (item)"
   ]
  },
  {
   "cell_type": "code",
   "execution_count": 34,
   "metadata": {
    "id": "4vnx-Q_lK6C6"
   },
   "outputs": [],
   "source": [
    "def duration_to_minutes(s):\n",
    "    \"\"\"\n",
    "    Function that takes a string with the hh:mm:ss format and\n",
    "    returns the integer equivalent of the total time in minutes, \n",
    "    or zero for missing values in a Pandas dataframe.\n",
    "    \"\"\"\n",
    "    if pd.isnull(s):\n",
    "        val = 0 #note: this fills with 0 the 38 instances with null (missing) values\n",
    "    else:\n",
    "        hms = s.split(':')\n",
    "        val = int(hms[0])*60 + int(hms[1]) + int(hms[2])/60.0\n",
    "    return val"
   ]
  },
  {
   "cell_type": "code",
   "execution_count": 35,
   "metadata": {
    "colab": {
     "base_uri": "https://localhost:8080/",
     "height": 34
    },
    "id": "Jo1UIwzSK6F4",
    "outputId": "3af10b99-75bc-46c5-ce2f-b124384ae3ba"
   },
   "outputs": [
    {
     "data": {
      "text/plain": [
       "30.8536057472229"
      ]
     },
     "execution_count": 35,
     "metadata": {},
     "output_type": "execute_result"
    }
   ],
   "source": [
    "#Transform the trip duration string into trip duration in minutes:\n",
    "t0 = time.time()\n",
    "df_uber['duration_min'] = df_uber.trip_duration.apply(duration_to_minutes) \n",
    "time.time() - t0"
   ]
  },
  {
   "cell_type": "code",
   "execution_count": 36,
   "metadata": {
    "colab": {
     "base_uri": "https://localhost:8080/",
     "height": 309
    },
    "id": "p8xdGfsaK6H7",
    "outputId": "fc461434-2875-40ce-fc9b-47f31482d08c"
   },
   "outputs": [
    {
     "data": {
      "text/html": [
       "<div>\n",
       "<style scoped>\n",
       "    .dataframe tbody tr th:only-of-type {\n",
       "        vertical-align: middle;\n",
       "    }\n",
       "\n",
       "    .dataframe tbody tr th {\n",
       "        vertical-align: top;\n",
       "    }\n",
       "\n",
       "    .dataframe thead th {\n",
       "        text-align: right;\n",
       "    }\n",
       "</style>\n",
       "<table border=\"1\" class=\"dataframe\">\n",
       "  <thead>\n",
       "    <tr style=\"text-align: right;\">\n",
       "      <th></th>\n",
       "      <th>id</th>\n",
       "      <th>origin_taz</th>\n",
       "      <th>destination_taz</th>\n",
       "      <th>trip_distance</th>\n",
       "      <th>trip_duration</th>\n",
       "      <th>pu_date_hour</th>\n",
       "      <th>pu_date</th>\n",
       "      <th>year</th>\n",
       "      <th>month</th>\n",
       "      <th>day</th>\n",
       "      <th>hour</th>\n",
       "      <th>weekday</th>\n",
       "      <th>duration_min</th>\n",
       "    </tr>\n",
       "  </thead>\n",
       "  <tbody>\n",
       "    <tr>\n",
       "      <th>0</th>\n",
       "      <td>252581</td>\n",
       "      <td>7C</td>\n",
       "      <td>6A</td>\n",
       "      <td>4.2500</td>\n",
       "      <td>0:15:11</td>\n",
       "      <td>2014-09-01 09:00:00</td>\n",
       "      <td>2014-09-01</td>\n",
       "      <td>2014</td>\n",
       "      <td>9</td>\n",
       "      <td>1</td>\n",
       "      <td>9</td>\n",
       "      <td>0</td>\n",
       "      <td>15.1833</td>\n",
       "    </tr>\n",
       "    <tr>\n",
       "      <th>1</th>\n",
       "      <td>252582</td>\n",
       "      <td>7B</td>\n",
       "      <td>15</td>\n",
       "      <td>10.1700</td>\n",
       "      <td>0:34:05</td>\n",
       "      <td>2014-09-01 18:00:00</td>\n",
       "      <td>2014-09-01</td>\n",
       "      <td>2014</td>\n",
       "      <td>9</td>\n",
       "      <td>1</td>\n",
       "      <td>18</td>\n",
       "      <td>0</td>\n",
       "      <td>34.0833</td>\n",
       "    </tr>\n",
       "    <tr>\n",
       "      <th>2</th>\n",
       "      <td>252583</td>\n",
       "      <td>11</td>\n",
       "      <td>2A</td>\n",
       "      <td>4.0200</td>\n",
       "      <td>0:17:06</td>\n",
       "      <td>2014-09-01 17:00:00</td>\n",
       "      <td>2014-09-01</td>\n",
       "      <td>2014</td>\n",
       "      <td>9</td>\n",
       "      <td>1</td>\n",
       "      <td>17</td>\n",
       "      <td>0</td>\n",
       "      <td>17.1000</td>\n",
       "    </tr>\n",
       "    <tr>\n",
       "      <th>3</th>\n",
       "      <td>252584</td>\n",
       "      <td>3B</td>\n",
       "      <td>4A</td>\n",
       "      <td>1.4600</td>\n",
       "      <td>0:06:32</td>\n",
       "      <td>2014-09-01 13:00:00</td>\n",
       "      <td>2014-09-01</td>\n",
       "      <td>2014</td>\n",
       "      <td>9</td>\n",
       "      <td>1</td>\n",
       "      <td>13</td>\n",
       "      <td>0</td>\n",
       "      <td>6.5333</td>\n",
       "    </tr>\n",
       "    <tr>\n",
       "      <th>4</th>\n",
       "      <td>252585</td>\n",
       "      <td>2A</td>\n",
       "      <td>10</td>\n",
       "      <td>8.3100</td>\n",
       "      <td>0:26:17</td>\n",
       "      <td>2014-09-01 14:00:00</td>\n",
       "      <td>2014-09-01</td>\n",
       "      <td>2014</td>\n",
       "      <td>9</td>\n",
       "      <td>1</td>\n",
       "      <td>14</td>\n",
       "      <td>0</td>\n",
       "      <td>26.2833</td>\n",
       "    </tr>\n",
       "  </tbody>\n",
       "</table>\n",
       "</div>"
      ],
      "text/plain": [
       "       id origin_taz destination_taz  trip_distance trip_duration  \\\n",
       "0  252581         7C              6A         4.2500       0:15:11   \n",
       "1  252582         7B              15        10.1700       0:34:05   \n",
       "2  252583         11              2A         4.0200       0:17:06   \n",
       "3  252584         3B              4A         1.4600       0:06:32   \n",
       "4  252585         2A              10         8.3100       0:26:17   \n",
       "\n",
       "         pu_date_hour    pu_date  year  month  day  hour  weekday  \\\n",
       "0 2014-09-01 09:00:00 2014-09-01  2014      9    1     9        0   \n",
       "1 2014-09-01 18:00:00 2014-09-01  2014      9    1    18        0   \n",
       "2 2014-09-01 17:00:00 2014-09-01  2014      9    1    17        0   \n",
       "3 2014-09-01 13:00:00 2014-09-01  2014      9    1    13        0   \n",
       "4 2014-09-01 14:00:00 2014-09-01  2014      9    1    14        0   \n",
       "\n",
       "   duration_min  \n",
       "0       15.1833  \n",
       "1       34.0833  \n",
       "2       17.1000  \n",
       "3        6.5333  \n",
       "4       26.2833  "
      ]
     },
     "execution_count": 36,
     "metadata": {},
     "output_type": "execute_result"
    }
   ],
   "source": [
    "df_uber.head()"
   ]
  },
  {
   "cell_type": "markdown",
   "metadata": {
    "id": "4QFUydvwQP49"
   },
   "source": [
    "# Replace missing values with mean distance and duration for respective origin-destination."
   ]
  },
  {
   "cell_type": "code",
   "execution_count": 37,
   "metadata": {
    "id": "DQHwg2NlK6K9"
   },
   "outputs": [],
   "source": [
    "#Get the mean distance and duration for each origin-destination pair\n",
    "df_DistDur = df_uber.groupby(['origin_taz', 'destination_taz'])[['trip_distance', 'duration_min']].mean()"
   ]
  },
  {
   "cell_type": "code",
   "execution_count": 38,
   "metadata": {
    "colab": {
     "base_uri": "https://localhost:8080/",
     "height": 235
    },
    "id": "YGboy78YLgRh",
    "outputId": "b02245fb-dab0-449c-c69b-85fe0aafd072"
   },
   "outputs": [
    {
     "data": {
      "text/html": [
       "<div>\n",
       "<style scoped>\n",
       "    .dataframe tbody tr th:only-of-type {\n",
       "        vertical-align: middle;\n",
       "    }\n",
       "\n",
       "    .dataframe tbody tr th {\n",
       "        vertical-align: top;\n",
       "    }\n",
       "\n",
       "    .dataframe thead th {\n",
       "        text-align: right;\n",
       "    }\n",
       "</style>\n",
       "<table border=\"1\" class=\"dataframe\">\n",
       "  <thead>\n",
       "    <tr style=\"text-align: right;\">\n",
       "      <th></th>\n",
       "      <th></th>\n",
       "      <th>trip_distance</th>\n",
       "      <th>duration_min</th>\n",
       "    </tr>\n",
       "    <tr>\n",
       "      <th>origin_taz</th>\n",
       "      <th>destination_taz</th>\n",
       "      <th></th>\n",
       "      <th></th>\n",
       "    </tr>\n",
       "  </thead>\n",
       "  <tbody>\n",
       "    <tr>\n",
       "      <th rowspan=\"5\" valign=\"top\">1</th>\n",
       "      <th>1</th>\n",
       "      <td>1.4219</td>\n",
       "      <td>10.5655</td>\n",
       "    </tr>\n",
       "    <tr>\n",
       "      <th>10</th>\n",
       "      <td>3.6508</td>\n",
       "      <td>17.9776</td>\n",
       "    </tr>\n",
       "    <tr>\n",
       "      <th>11</th>\n",
       "      <td>5.0937</td>\n",
       "      <td>22.4899</td>\n",
       "    </tr>\n",
       "    <tr>\n",
       "      <th>12</th>\n",
       "      <td>8.8878</td>\n",
       "      <td>29.1024</td>\n",
       "    </tr>\n",
       "    <tr>\n",
       "      <th>13</th>\n",
       "      <td>11.5831</td>\n",
       "      <td>32.1568</td>\n",
       "    </tr>\n",
       "  </tbody>\n",
       "</table>\n",
       "</div>"
      ],
      "text/plain": [
       "                            trip_distance  duration_min\n",
       "origin_taz destination_taz                             \n",
       "1          1                       1.4219       10.5655\n",
       "           10                      3.6508       17.9776\n",
       "           11                      5.0937       22.4899\n",
       "           12                      8.8878       29.1024\n",
       "           13                     11.5831       32.1568"
      ]
     },
     "execution_count": 38,
     "metadata": {},
     "output_type": "execute_result"
    }
   ],
   "source": [
    "df_DistDur.head()"
   ]
  },
  {
   "cell_type": "code",
   "execution_count": 39,
   "metadata": {
    "id": "ZS2S3vZ8LgZj"
   },
   "outputs": [],
   "source": [
    "#Replace 38 missing values with the average distance and duration for the respective origin-destination pair\n",
    "for i in df38.index:\n",
    "    orig = df_uber.loc[i, 'origin_taz']\n",
    "    dest = df_uber.loc[i, 'destination_taz']\n",
    "    df_uber.loc[i, 'trip_distance'] = df_DistDur.loc[orig, dest].trip_distance\n",
    "    df_uber.loc[i, 'duration_min'] = df_DistDur.loc[orig, dest].duration_min"
   ]
  },
  {
   "cell_type": "markdown",
   "metadata": {
    "id": "M_JNeLXAQjkf"
   },
   "source": [
    "# Calculate average speed for each trip."
   ]
  },
  {
   "cell_type": "code",
   "execution_count": 40,
   "metadata": {
    "id": "ENH1H3EWLgdL"
   },
   "outputs": [],
   "source": [
    "#Calculate average trip speed (mph) to help in understanding outliers (like trips with duration >10 h):\n",
    "df_uber['trip_mph_avg'] = df_uber.trip_distance/(df_uber.duration_min/60.0)"
   ]
  },
  {
   "cell_type": "code",
   "execution_count": 41,
   "metadata": {
    "colab": {
     "base_uri": "https://localhost:8080/",
     "height": 309
    },
    "id": "YEpc8YaNLggL",
    "outputId": "a40c5557-0dba-40e2-f7aa-078018c27180"
   },
   "outputs": [
    {
     "data": {
      "text/html": [
       "<div>\n",
       "<style scoped>\n",
       "    .dataframe tbody tr th:only-of-type {\n",
       "        vertical-align: middle;\n",
       "    }\n",
       "\n",
       "    .dataframe tbody tr th {\n",
       "        vertical-align: top;\n",
       "    }\n",
       "\n",
       "    .dataframe thead th {\n",
       "        text-align: right;\n",
       "    }\n",
       "</style>\n",
       "<table border=\"1\" class=\"dataframe\">\n",
       "  <thead>\n",
       "    <tr style=\"text-align: right;\">\n",
       "      <th></th>\n",
       "      <th>id</th>\n",
       "      <th>origin_taz</th>\n",
       "      <th>destination_taz</th>\n",
       "      <th>trip_distance</th>\n",
       "      <th>trip_duration</th>\n",
       "      <th>pu_date_hour</th>\n",
       "      <th>pu_date</th>\n",
       "      <th>year</th>\n",
       "      <th>month</th>\n",
       "      <th>day</th>\n",
       "      <th>hour</th>\n",
       "      <th>weekday</th>\n",
       "      <th>duration_min</th>\n",
       "      <th>trip_mph_avg</th>\n",
       "    </tr>\n",
       "  </thead>\n",
       "  <tbody>\n",
       "    <tr>\n",
       "      <th>15155317</th>\n",
       "      <td>39535</td>\n",
       "      <td>2A</td>\n",
       "      <td>11</td>\n",
       "      <td>3.9368</td>\n",
       "      <td>NaN</td>\n",
       "      <td>2015-04-25 12:00:00</td>\n",
       "      <td>2015-04-25</td>\n",
       "      <td>2015</td>\n",
       "      <td>4</td>\n",
       "      <td>25</td>\n",
       "      <td>12</td>\n",
       "      <td>5</td>\n",
       "      <td>19.7321</td>\n",
       "      <td>11.9708</td>\n",
       "    </tr>\n",
       "    <tr>\n",
       "      <th>15245057</th>\n",
       "      <td>1009076</td>\n",
       "      <td>2A</td>\n",
       "      <td>2A</td>\n",
       "      <td>1.3588</td>\n",
       "      <td>NaN</td>\n",
       "      <td>2015-04-26 01:00:00</td>\n",
       "      <td>2015-04-26</td>\n",
       "      <td>2015</td>\n",
       "      <td>4</td>\n",
       "      <td>26</td>\n",
       "      <td>1</td>\n",
       "      <td>6</td>\n",
       "      <td>10.9195</td>\n",
       "      <td>7.4660</td>\n",
       "    </tr>\n",
       "    <tr>\n",
       "      <th>16519652</th>\n",
       "      <td>15028665</td>\n",
       "      <td>2A</td>\n",
       "      <td>7C</td>\n",
       "      <td>9.0394</td>\n",
       "      <td>NaN</td>\n",
       "      <td>2015-04-29 21:00:00</td>\n",
       "      <td>2015-04-29</td>\n",
       "      <td>2015</td>\n",
       "      <td>4</td>\n",
       "      <td>29</td>\n",
       "      <td>21</td>\n",
       "      <td>2</td>\n",
       "      <td>30.2041</td>\n",
       "      <td>17.9566</td>\n",
       "    </tr>\n",
       "    <tr>\n",
       "      <th>17148253</th>\n",
       "      <td>22250173</td>\n",
       "      <td>2A</td>\n",
       "      <td>2A</td>\n",
       "      <td>1.3588</td>\n",
       "      <td>NaN</td>\n",
       "      <td>2015-04-12 02:00:00</td>\n",
       "      <td>2015-04-12</td>\n",
       "      <td>2015</td>\n",
       "      <td>4</td>\n",
       "      <td>12</td>\n",
       "      <td>2</td>\n",
       "      <td>6</td>\n",
       "      <td>10.9195</td>\n",
       "      <td>7.4660</td>\n",
       "    </tr>\n",
       "    <tr>\n",
       "      <th>17297563</th>\n",
       "      <td>23716998</td>\n",
       "      <td>2C</td>\n",
       "      <td>11</td>\n",
       "      <td>4.8331</td>\n",
       "      <td>NaN</td>\n",
       "      <td>2015-04-25 13:00:00</td>\n",
       "      <td>2015-04-25</td>\n",
       "      <td>2015</td>\n",
       "      <td>4</td>\n",
       "      <td>25</td>\n",
       "      <td>13</td>\n",
       "      <td>5</td>\n",
       "      <td>24.3851</td>\n",
       "      <td>11.8918</td>\n",
       "    </tr>\n",
       "  </tbody>\n",
       "</table>\n",
       "</div>"
      ],
      "text/plain": [
       "                id origin_taz destination_taz  trip_distance trip_duration  \\\n",
       "15155317     39535         2A              11         3.9368           NaN   \n",
       "15245057   1009076         2A              2A         1.3588           NaN   \n",
       "16519652  15028665         2A              7C         9.0394           NaN   \n",
       "17148253  22250173         2A              2A         1.3588           NaN   \n",
       "17297563  23716998         2C              11         4.8331           NaN   \n",
       "\n",
       "                pu_date_hour    pu_date  year  month  day  hour  weekday  \\\n",
       "15155317 2015-04-25 12:00:00 2015-04-25  2015      4   25    12        5   \n",
       "15245057 2015-04-26 01:00:00 2015-04-26  2015      4   26     1        6   \n",
       "16519652 2015-04-29 21:00:00 2015-04-29  2015      4   29    21        2   \n",
       "17148253 2015-04-12 02:00:00 2015-04-12  2015      4   12     2        6   \n",
       "17297563 2015-04-25 13:00:00 2015-04-25  2015      4   25    13        5   \n",
       "\n",
       "          duration_min  trip_mph_avg  \n",
       "15155317       19.7321       11.9708  \n",
       "15245057       10.9195        7.4660  \n",
       "16519652       30.2041       17.9566  \n",
       "17148253       10.9195        7.4660  \n",
       "17297563       24.3851       11.8918  "
      ]
     },
     "execution_count": 41,
     "metadata": {},
     "output_type": "execute_result"
    }
   ],
   "source": [
    "#Check that trip_distance and duration_min have been replaced, and trip speed has been calculated:\n",
    "df_uber.iloc[df38.index, :].head()"
   ]
  },
  {
   "cell_type": "code",
   "execution_count": 42,
   "metadata": {
    "id": "iX_obIwULgjV"
   },
   "outputs": [],
   "source": [
    "#Drop redundant trip_duration columns\n",
    "df_uber = df_uber.drop('trip_duration', axis=1)\n",
    "df_uber = df_uber.drop('pu_date_hour', axis=1)"
   ]
  },
  {
   "cell_type": "markdown",
   "metadata": {
    "id": "he8oyu4EQsne"
   },
   "source": [
    "# Calculate Estimated Revenue per Trip."
   ]
  },
  {
   "cell_type": "code",
   "execution_count": 43,
   "metadata": {
    "id": "iM3HMPSyLgme"
   },
   "outputs": [],
   "source": [
    "#Source: http://uberestimate.com/prices/New-York-City/ for Uber X\n",
    "base_fare = 2.55\n",
    "per_minute = 0.35\n",
    "per_mile = 1.75\n",
    "min_fare = 8"
   ]
  },
  {
   "cell_type": "code",
   "execution_count": 46,
   "metadata": {
    "id": "GYWE2Vu7Lgp3"
   },
   "outputs": [],
   "source": [
    "#When not possible to work with Pandas dataframe directly (due to memory usage), go back to array!\n",
    "#test = df_uber[['duration_min', 'trip_distance']].values"
   ]
  },
  {
   "cell_type": "code",
   "execution_count": 47,
   "metadata": {
    "id": "g-IxPvb9LgtG"
   },
   "outputs": [],
   "source": [
    "#def est_revenue(arr):\n",
    "  # rev = base_fare + arr[0] * per_minute + arr[1] * per_mile\n",
    "  # return rev if rev > min_fare else min_fare"
   ]
  },
  {
   "cell_type": "code",
   "execution_count": 48,
   "metadata": {
    "id": "YBlOaoEnLgwG"
   },
   "outputs": [],
   "source": [
    "#df_uber['est_revenue'] = pd.Series(map(lambda x: est_revenue(x), test))"
   ]
  },
  {
   "cell_type": "code",
   "execution_count": 44,
   "metadata": {
    "id": "kS1Y7IPdK6Nl"
   },
   "outputs": [],
   "source": [
    "#Using eval() is even more efficient for large datasets than resorting to Numpy! \n",
    "#Local variables must be followed by @. Only for arithmetic, cannot use if statement, for example.\n",
    "df_uber['est_revenue'] = df_uber.eval('@base_fare + duration_min * @per_minute + trip_distance * @per_mile')\n",
    "df_uber.loc[df_uber.est_revenue < 8, 'est_revenue'] = min_fare"
   ]
  },
  {
   "cell_type": "code",
   "execution_count": 45,
   "metadata": {
    "colab": {
     "base_uri": "https://localhost:8080/",
     "height": 309
    },
    "id": "oD8cJ0gmMGRU",
    "outputId": "61c7f8da-4677-42e2-9518-b0828cc41de0"
   },
   "outputs": [
    {
     "data": {
      "text/html": [
       "<div>\n",
       "<style scoped>\n",
       "    .dataframe tbody tr th:only-of-type {\n",
       "        vertical-align: middle;\n",
       "    }\n",
       "\n",
       "    .dataframe tbody tr th {\n",
       "        vertical-align: top;\n",
       "    }\n",
       "\n",
       "    .dataframe thead th {\n",
       "        text-align: right;\n",
       "    }\n",
       "</style>\n",
       "<table border=\"1\" class=\"dataframe\">\n",
       "  <thead>\n",
       "    <tr style=\"text-align: right;\">\n",
       "      <th></th>\n",
       "      <th>id</th>\n",
       "      <th>origin_taz</th>\n",
       "      <th>destination_taz</th>\n",
       "      <th>trip_distance</th>\n",
       "      <th>pu_date</th>\n",
       "      <th>year</th>\n",
       "      <th>month</th>\n",
       "      <th>day</th>\n",
       "      <th>hour</th>\n",
       "      <th>weekday</th>\n",
       "      <th>duration_min</th>\n",
       "      <th>trip_mph_avg</th>\n",
       "      <th>est_revenue</th>\n",
       "    </tr>\n",
       "  </thead>\n",
       "  <tbody>\n",
       "    <tr>\n",
       "      <th>0</th>\n",
       "      <td>252581</td>\n",
       "      <td>7C</td>\n",
       "      <td>6A</td>\n",
       "      <td>4.2500</td>\n",
       "      <td>2014-09-01</td>\n",
       "      <td>2014</td>\n",
       "      <td>9</td>\n",
       "      <td>1</td>\n",
       "      <td>9</td>\n",
       "      <td>0</td>\n",
       "      <td>15.1833</td>\n",
       "      <td>16.7947</td>\n",
       "      <td>15.3017</td>\n",
       "    </tr>\n",
       "    <tr>\n",
       "      <th>1</th>\n",
       "      <td>252582</td>\n",
       "      <td>7B</td>\n",
       "      <td>15</td>\n",
       "      <td>10.1700</td>\n",
       "      <td>2014-09-01</td>\n",
       "      <td>2014</td>\n",
       "      <td>9</td>\n",
       "      <td>1</td>\n",
       "      <td>18</td>\n",
       "      <td>0</td>\n",
       "      <td>34.0833</td>\n",
       "      <td>17.9032</td>\n",
       "      <td>32.2767</td>\n",
       "    </tr>\n",
       "    <tr>\n",
       "      <th>2</th>\n",
       "      <td>252583</td>\n",
       "      <td>11</td>\n",
       "      <td>2A</td>\n",
       "      <td>4.0200</td>\n",
       "      <td>2014-09-01</td>\n",
       "      <td>2014</td>\n",
       "      <td>9</td>\n",
       "      <td>1</td>\n",
       "      <td>17</td>\n",
       "      <td>0</td>\n",
       "      <td>17.1000</td>\n",
       "      <td>14.1053</td>\n",
       "      <td>15.5700</td>\n",
       "    </tr>\n",
       "    <tr>\n",
       "      <th>3</th>\n",
       "      <td>252584</td>\n",
       "      <td>3B</td>\n",
       "      <td>4A</td>\n",
       "      <td>1.4600</td>\n",
       "      <td>2014-09-01</td>\n",
       "      <td>2014</td>\n",
       "      <td>9</td>\n",
       "      <td>1</td>\n",
       "      <td>13</td>\n",
       "      <td>0</td>\n",
       "      <td>6.5333</td>\n",
       "      <td>13.4082</td>\n",
       "      <td>8.0000</td>\n",
       "    </tr>\n",
       "    <tr>\n",
       "      <th>4</th>\n",
       "      <td>252585</td>\n",
       "      <td>2A</td>\n",
       "      <td>10</td>\n",
       "      <td>8.3100</td>\n",
       "      <td>2014-09-01</td>\n",
       "      <td>2014</td>\n",
       "      <td>9</td>\n",
       "      <td>1</td>\n",
       "      <td>14</td>\n",
       "      <td>0</td>\n",
       "      <td>26.2833</td>\n",
       "      <td>18.9702</td>\n",
       "      <td>26.2917</td>\n",
       "    </tr>\n",
       "  </tbody>\n",
       "</table>\n",
       "</div>"
      ],
      "text/plain": [
       "       id origin_taz destination_taz  trip_distance    pu_date  year  month  \\\n",
       "0  252581         7C              6A         4.2500 2014-09-01  2014      9   \n",
       "1  252582         7B              15        10.1700 2014-09-01  2014      9   \n",
       "2  252583         11              2A         4.0200 2014-09-01  2014      9   \n",
       "3  252584         3B              4A         1.4600 2014-09-01  2014      9   \n",
       "4  252585         2A              10         8.3100 2014-09-01  2014      9   \n",
       "\n",
       "   day  hour  weekday  duration_min  trip_mph_avg  est_revenue  \n",
       "0    1     9        0       15.1833       16.7947      15.3017  \n",
       "1    1    18        0       34.0833       17.9032      32.2767  \n",
       "2    1    17        0       17.1000       14.1053      15.5700  \n",
       "3    1    13        0        6.5333       13.4082       8.0000  \n",
       "4    1    14        0       26.2833       18.9702      26.2917  "
      ]
     },
     "execution_count": 45,
     "metadata": {},
     "output_type": "execute_result"
    }
   ],
   "source": [
    "df_uber.head()"
   ]
  },
  {
   "cell_type": "markdown",
   "metadata": {
    "id": "v86_FVxFQ5dl"
   },
   "source": [
    "# Queries for Checking Data Consistency.\n",
    "\n",
    "# A closer look of the anomalous cases of trip duration."
   ]
  },
  {
   "cell_type": "code",
   "execution_count": 49,
   "metadata": {
    "colab": {
     "base_uri": "https://localhost:8080/",
     "height": 51
    },
    "id": "k8K47w_cMGUE",
    "outputId": "46ba15c5-5816-458e-904a-61fa18304c14"
   },
   "outputs": [
    {
     "name": "stdout",
     "output_type": "stream",
     "text": [
      "7\n"
     ]
    },
    {
     "data": {
      "text/plain": [
       "78069.74916666666"
      ]
     },
     "execution_count": 49,
     "metadata": {},
     "output_type": "execute_result"
    }
   ],
   "source": [
    "#Check for very long duration entries, and effect on revenue numbers:\n",
    "\n",
    "#>=100h:\n",
    "print (len(df_uber[(df_uber.duration_min >= 6000)])) #7\n",
    "\n",
    "#Greater than 100h: 7 entries (erroneous): system error? fraud? Total revenue is relevant: $14,459,978 (2.4% of total)\n",
    "#172032:14:50 #probable system error: distance < 10 miles\n",
    "#172032:39:03 #probable system error: distance < 10 miles\n",
    "#136:25:12 #short distance\n",
    "#172032:17:45 #probable system error: distance < 10 miles\n",
    "#172032:19:27 #probable system error: distance < 10 miles\n",
    "#119:53:35 #long distance, incorrect destination?\n",
    "#120:49:05 #long distance, this entry has missing destination\n",
    "\n",
    "#>16h and <100h : 116 entries\n",
    "df_uber[(df_uber.duration_min > 960) & (df_uber.duration_min < 6000)].est_revenue.sum() #$78,070 total revenue\n",
    "\n",
    "#The effect on revenue is relevant only for the trips higher than 100h of duration, which are most likely a result of \n",
    "#some system error (as seen above), or perhaps fraud, therefore these 7 entries will be excluded from the dataset for\n",
    "#analysis. However, assuming that driving more than 16h (960 minutes) non-stop per day represents unreliable data, \n",
    "#these additional 116 cases will also be excluded from analysis. These 123 data points warrant more in-depth internal\n",
    "#investigation to bring light to what may have caused them."
   ]
  },
  {
   "cell_type": "code",
   "execution_count": 50,
   "metadata": {
    "colab": {
     "base_uri": "https://localhost:8080/",
     "height": 326
    },
    "id": "xSw7-ta-MGW3",
    "outputId": "13dc2385-8893-4385-8929-e8b1e2fa5f0f"
   },
   "outputs": [
    {
     "name": "stdout",
     "output_type": "stream",
     "text": [
      "24866\n"
     ]
    },
    {
     "data": {
      "text/html": [
       "<div>\n",
       "<style scoped>\n",
       "    .dataframe tbody tr th:only-of-type {\n",
       "        vertical-align: middle;\n",
       "    }\n",
       "\n",
       "    .dataframe tbody tr th {\n",
       "        vertical-align: top;\n",
       "    }\n",
       "\n",
       "    .dataframe thead th {\n",
       "        text-align: right;\n",
       "    }\n",
       "</style>\n",
       "<table border=\"1\" class=\"dataframe\">\n",
       "  <thead>\n",
       "    <tr style=\"text-align: right;\">\n",
       "      <th></th>\n",
       "      <th>id</th>\n",
       "      <th>origin_taz</th>\n",
       "      <th>destination_taz</th>\n",
       "      <th>trip_distance</th>\n",
       "      <th>pu_date</th>\n",
       "      <th>year</th>\n",
       "      <th>month</th>\n",
       "      <th>day</th>\n",
       "      <th>hour</th>\n",
       "      <th>weekday</th>\n",
       "      <th>duration_min</th>\n",
       "      <th>trip_mph_avg</th>\n",
       "      <th>est_revenue</th>\n",
       "    </tr>\n",
       "  </thead>\n",
       "  <tbody>\n",
       "    <tr>\n",
       "      <th>21726</th>\n",
       "      <td>274307</td>\n",
       "      <td>4B</td>\n",
       "      <td>8</td>\n",
       "      <td>0.0000</td>\n",
       "      <td>2014-09-29</td>\n",
       "      <td>2014</td>\n",
       "      <td>9</td>\n",
       "      <td>29</td>\n",
       "      <td>17</td>\n",
       "      <td>0</td>\n",
       "      <td>0.0000</td>\n",
       "      <td>nan</td>\n",
       "      <td>8.0000</td>\n",
       "    </tr>\n",
       "    <tr>\n",
       "      <th>21847</th>\n",
       "      <td>274428</td>\n",
       "      <td>4C</td>\n",
       "      <td>2A</td>\n",
       "      <td>0.0000</td>\n",
       "      <td>2014-09-29</td>\n",
       "      <td>2014</td>\n",
       "      <td>9</td>\n",
       "      <td>29</td>\n",
       "      <td>17</td>\n",
       "      <td>0</td>\n",
       "      <td>0.0000</td>\n",
       "      <td>nan</td>\n",
       "      <td>8.0000</td>\n",
       "    </tr>\n",
       "    <tr>\n",
       "      <th>21909</th>\n",
       "      <td>274490</td>\n",
       "      <td>5C</td>\n",
       "      <td>6A</td>\n",
       "      <td>0.0000</td>\n",
       "      <td>2014-09-29</td>\n",
       "      <td>2014</td>\n",
       "      <td>9</td>\n",
       "      <td>29</td>\n",
       "      <td>19</td>\n",
       "      <td>0</td>\n",
       "      <td>0.0000</td>\n",
       "      <td>nan</td>\n",
       "      <td>8.0000</td>\n",
       "    </tr>\n",
       "    <tr>\n",
       "      <th>22179</th>\n",
       "      <td>274760</td>\n",
       "      <td>11</td>\n",
       "      <td>4A</td>\n",
       "      <td>0.0000</td>\n",
       "      <td>2014-09-29</td>\n",
       "      <td>2014</td>\n",
       "      <td>9</td>\n",
       "      <td>29</td>\n",
       "      <td>17</td>\n",
       "      <td>0</td>\n",
       "      <td>0.0000</td>\n",
       "      <td>nan</td>\n",
       "      <td>8.0000</td>\n",
       "    </tr>\n",
       "    <tr>\n",
       "      <th>22359</th>\n",
       "      <td>274940</td>\n",
       "      <td>3C</td>\n",
       "      <td>1</td>\n",
       "      <td>0.0000</td>\n",
       "      <td>2014-09-30</td>\n",
       "      <td>2014</td>\n",
       "      <td>9</td>\n",
       "      <td>30</td>\n",
       "      <td>14</td>\n",
       "      <td>1</td>\n",
       "      <td>0.0000</td>\n",
       "      <td>nan</td>\n",
       "      <td>8.0000</td>\n",
       "    </tr>\n",
       "  </tbody>\n",
       "</table>\n",
       "</div>"
      ],
      "text/plain": [
       "           id origin_taz destination_taz  trip_distance    pu_date  year  \\\n",
       "21726  274307         4B               8         0.0000 2014-09-29  2014   \n",
       "21847  274428         4C              2A         0.0000 2014-09-29  2014   \n",
       "21909  274490         5C              6A         0.0000 2014-09-29  2014   \n",
       "22179  274760         11              4A         0.0000 2014-09-29  2014   \n",
       "22359  274940         3C               1         0.0000 2014-09-30  2014   \n",
       "\n",
       "       month  day  hour  weekday  duration_min  trip_mph_avg  est_revenue  \n",
       "21726      9   29    17        0        0.0000           nan       8.0000  \n",
       "21847      9   29    17        0        0.0000           nan       8.0000  \n",
       "21909      9   29    19        0        0.0000           nan       8.0000  \n",
       "22179      9   29    17        0        0.0000           nan       8.0000  \n",
       "22359      9   30    14        1        0.0000           nan       8.0000  "
      ]
     },
     "execution_count": 50,
     "metadata": {},
     "output_type": "execute_result"
    }
   ],
   "source": [
    "#Were the trips with distance and duration equal to zero actually cancelled (didn't happen)? \n",
    "\n",
    "print (len(df_uber[(df_uber.duration_min == 0) & (df_uber.trip_distance == 0)])) #24866\n",
    "#There is at least one case almost daily. The 24866 cases represent a revenue of $198,928, based on $8 minimum fare.\n",
    "\n",
    "#Note that origin and destination are the same, except for 910 trips: did these trips in fact occur?\n",
    "df_uber[(df_uber.duration_min == 0) & (df_uber.trip_distance == 0) & (df_uber.origin_taz != df_uber.destination_taz)].\\\n",
    "head()#910\n",
    "\n",
    "#There is generally a fee associated with trip cancellation, so unless these trips represent a system error or fraud,\n",
    "#there was no loss of the minimum fare revenue."
   ]
  },
  {
   "cell_type": "code",
   "execution_count": 51,
   "metadata": {
    "colab": {
     "base_uri": "https://localhost:8080/",
     "height": 566
    },
    "id": "EWYkR81_MGbI",
    "outputId": "f1cf4a4d-0719-4c1e-8fea-99f65efdf43c"
   },
   "outputs": [
    {
     "name": "stdout",
     "output_type": "stream",
     "text": [
      "85515\n"
     ]
    },
    {
     "data": {
      "text/html": [
       "<div>\n",
       "<style scoped>\n",
       "    .dataframe tbody tr th:only-of-type {\n",
       "        vertical-align: middle;\n",
       "    }\n",
       "\n",
       "    .dataframe tbody tr th {\n",
       "        vertical-align: top;\n",
       "    }\n",
       "\n",
       "    .dataframe thead th {\n",
       "        text-align: right;\n",
       "    }\n",
       "</style>\n",
       "<table border=\"1\" class=\"dataframe\">\n",
       "  <thead>\n",
       "    <tr style=\"text-align: right;\">\n",
       "      <th></th>\n",
       "      <th>id</th>\n",
       "      <th>origin_taz</th>\n",
       "      <th>destination_taz</th>\n",
       "      <th>trip_distance</th>\n",
       "      <th>pu_date</th>\n",
       "      <th>year</th>\n",
       "      <th>month</th>\n",
       "      <th>day</th>\n",
       "      <th>hour</th>\n",
       "      <th>weekday</th>\n",
       "      <th>duration_min</th>\n",
       "      <th>trip_mph_avg</th>\n",
       "      <th>est_revenue</th>\n",
       "    </tr>\n",
       "  </thead>\n",
       "  <tbody>\n",
       "    <tr>\n",
       "      <th>882890</th>\n",
       "      <td>18153735</td>\n",
       "      <td>1</td>\n",
       "      <td>2A</td>\n",
       "      <td>0.0000</td>\n",
       "      <td>2014-09-28</td>\n",
       "      <td>2014</td>\n",
       "      <td>9</td>\n",
       "      <td>28</td>\n",
       "      <td>1</td>\n",
       "      <td>6</td>\n",
       "      <td>7.1167</td>\n",
       "      <td>0.0000</td>\n",
       "      <td>8.0000</td>\n",
       "    </tr>\n",
       "    <tr>\n",
       "      <th>3223424</th>\n",
       "      <td>29754237</td>\n",
       "      <td>4C</td>\n",
       "      <td>6A</td>\n",
       "      <td>0.0000</td>\n",
       "      <td>2014-10-05</td>\n",
       "      <td>2014</td>\n",
       "      <td>10</td>\n",
       "      <td>5</td>\n",
       "      <td>20</td>\n",
       "      <td>6</td>\n",
       "      <td>7.5167</td>\n",
       "      <td>0.0000</td>\n",
       "      <td>8.0000</td>\n",
       "    </tr>\n",
       "    <tr>\n",
       "      <th>18154210</th>\n",
       "      <td>2023861</td>\n",
       "      <td>1</td>\n",
       "      <td>4C</td>\n",
       "      <td>0.0000</td>\n",
       "      <td>2015-05-28</td>\n",
       "      <td>2015</td>\n",
       "      <td>5</td>\n",
       "      <td>28</td>\n",
       "      <td>12</td>\n",
       "      <td>3</td>\n",
       "      <td>27.2000</td>\n",
       "      <td>0.0000</td>\n",
       "      <td>12.0700</td>\n",
       "    </tr>\n",
       "    <tr>\n",
       "      <th>18829282</th>\n",
       "      <td>8785823</td>\n",
       "      <td>4B</td>\n",
       "      <td>8</td>\n",
       "      <td>0.0000</td>\n",
       "      <td>2015-05-26</td>\n",
       "      <td>2015</td>\n",
       "      <td>5</td>\n",
       "      <td>26</td>\n",
       "      <td>16</td>\n",
       "      <td>1</td>\n",
       "      <td>38.7833</td>\n",
       "      <td>0.0000</td>\n",
       "      <td>16.1242</td>\n",
       "    </tr>\n",
       "    <tr>\n",
       "      <th>19414939</th>\n",
       "      <td>14586763</td>\n",
       "      <td>4C</td>\n",
       "      <td>5C</td>\n",
       "      <td>0.0000</td>\n",
       "      <td>2015-05-28</td>\n",
       "      <td>2015</td>\n",
       "      <td>5</td>\n",
       "      <td>28</td>\n",
       "      <td>18</td>\n",
       "      <td>3</td>\n",
       "      <td>11.0167</td>\n",
       "      <td>0.0000</td>\n",
       "      <td>8.0000</td>\n",
       "    </tr>\n",
       "    <tr>\n",
       "      <th>20674992</th>\n",
       "      <td>27149481</td>\n",
       "      <td>4C</td>\n",
       "      <td>1</td>\n",
       "      <td>0.0000</td>\n",
       "      <td>2015-05-28</td>\n",
       "      <td>2015</td>\n",
       "      <td>5</td>\n",
       "      <td>28</td>\n",
       "      <td>11</td>\n",
       "      <td>3</td>\n",
       "      <td>32.8500</td>\n",
       "      <td>0.0000</td>\n",
       "      <td>14.0475</td>\n",
       "    </tr>\n",
       "    <tr>\n",
       "      <th>21376632</th>\n",
       "      <td>3045165</td>\n",
       "      <td>1</td>\n",
       "      <td>6B</td>\n",
       "      <td>0.0000</td>\n",
       "      <td>2015-06-28</td>\n",
       "      <td>2015</td>\n",
       "      <td>6</td>\n",
       "      <td>28</td>\n",
       "      <td>23</td>\n",
       "      <td>6</td>\n",
       "      <td>32.8167</td>\n",
       "      <td>0.0000</td>\n",
       "      <td>14.0358</td>\n",
       "    </tr>\n",
       "    <tr>\n",
       "      <th>21472913</th>\n",
       "      <td>4006319</td>\n",
       "      <td>15</td>\n",
       "      <td>4A</td>\n",
       "      <td>0.0000</td>\n",
       "      <td>2015-06-26</td>\n",
       "      <td>2015</td>\n",
       "      <td>6</td>\n",
       "      <td>26</td>\n",
       "      <td>10</td>\n",
       "      <td>4</td>\n",
       "      <td>55.7333</td>\n",
       "      <td>0.0000</td>\n",
       "      <td>22.0567</td>\n",
       "    </tr>\n",
       "    <tr>\n",
       "      <th>21517547</th>\n",
       "      <td>4482860</td>\n",
       "      <td>1</td>\n",
       "      <td>5C</td>\n",
       "      <td>0.0000</td>\n",
       "      <td>2015-06-23</td>\n",
       "      <td>2015</td>\n",
       "      <td>6</td>\n",
       "      <td>23</td>\n",
       "      <td>13</td>\n",
       "      <td>1</td>\n",
       "      <td>22.3500</td>\n",
       "      <td>0.0000</td>\n",
       "      <td>10.3725</td>\n",
       "    </tr>\n",
       "    <tr>\n",
       "      <th>21727436</th>\n",
       "      <td>6421520</td>\n",
       "      <td>6B</td>\n",
       "      <td>NaN</td>\n",
       "      <td>0.0000</td>\n",
       "      <td>2015-06-26</td>\n",
       "      <td>2015</td>\n",
       "      <td>6</td>\n",
       "      <td>26</td>\n",
       "      <td>9</td>\n",
       "      <td>4</td>\n",
       "      <td>78.2333</td>\n",
       "      <td>0.0000</td>\n",
       "      <td>29.9317</td>\n",
       "    </tr>\n",
       "  </tbody>\n",
       "</table>\n",
       "</div>"
      ],
      "text/plain": [
       "                id origin_taz destination_taz  trip_distance    pu_date  year  \\\n",
       "882890    18153735          1              2A         0.0000 2014-09-28  2014   \n",
       "3223424   29754237         4C              6A         0.0000 2014-10-05  2014   \n",
       "18154210   2023861          1              4C         0.0000 2015-05-28  2015   \n",
       "18829282   8785823         4B               8         0.0000 2015-05-26  2015   \n",
       "19414939  14586763         4C              5C         0.0000 2015-05-28  2015   \n",
       "20674992  27149481         4C               1         0.0000 2015-05-28  2015   \n",
       "21376632   3045165          1              6B         0.0000 2015-06-28  2015   \n",
       "21472913   4006319         15              4A         0.0000 2015-06-26  2015   \n",
       "21517547   4482860          1              5C         0.0000 2015-06-23  2015   \n",
       "21727436   6421520         6B             NaN         0.0000 2015-06-26  2015   \n",
       "\n",
       "          month  day  hour  weekday  duration_min  trip_mph_avg  est_revenue  \n",
       "882890        9   28     1        6        7.1167        0.0000       8.0000  \n",
       "3223424      10    5    20        6        7.5167        0.0000       8.0000  \n",
       "18154210      5   28    12        3       27.2000        0.0000      12.0700  \n",
       "18829282      5   26    16        1       38.7833        0.0000      16.1242  \n",
       "19414939      5   28    18        3       11.0167        0.0000       8.0000  \n",
       "20674992      5   28    11        3       32.8500        0.0000      14.0475  \n",
       "21376632      6   28    23        6       32.8167        0.0000      14.0358  \n",
       "21472913      6   26    10        4       55.7333        0.0000      22.0567  \n",
       "21517547      6   23    13        1       22.3500        0.0000      10.3725  \n",
       "21727436      6   26     9        4       78.2333        0.0000      29.9317  "
      ]
     },
     "execution_count": 51,
     "metadata": {},
     "output_type": "execute_result"
    }
   ],
   "source": [
    "#Check cases with distance equal to zero but duration greater than zero:\n",
    "\n",
    "print (len(df_uber[(df_uber.duration_min > 0) & (df_uber.trip_distance == 0)])) #85515\n",
    "\n",
    "#The median duration for trips with zero distance is 10 seconds (mean= 2.4 minutes), so most of these 85,515 cases \n",
    "#possibly represent trips that were cancelled right after they were registered.\n",
    "\n",
    "#3873 trips of the 85,515 cases show pick up and drop off in different taxi zones \n",
    "#(median duration: 10 seconds, mean: 4.5 minutes).\n",
    "\n",
    "#Let's check the small dataset (277) out of the 3873 cases with duration > 5 minutes, but distance equal to zero:\n",
    "#Maybe these cases represent some error with registering the distance traveled?\n",
    "df_uber[(df_uber.duration_min >= 5) & (df_uber.trip_distance == 0) &(df_uber.origin_taz != df_uber.destination_taz)]\\\n",
    ".head(10)"
   ]
  },
  {
   "cell_type": "markdown",
   "metadata": {
    "id": "49h9UR4QRpDs"
   },
   "source": [
    "# A closer look of the anomalous cases for the calculated average trip speed."
   ]
  },
  {
   "cell_type": "code",
   "execution_count": 52,
   "metadata": {
    "colab": {
     "base_uri": "https://localhost:8080/",
     "height": 566
    },
    "id": "-IIebGCpMGeR",
    "outputId": "a20f12f4-81c1-4df4-f091-cad28ddc1443"
   },
   "outputs": [
    {
     "name": "stdout",
     "output_type": "stream",
     "text": [
      "262666\n"
     ]
    },
    {
     "data": {
      "text/html": [
       "<div>\n",
       "<style scoped>\n",
       "    .dataframe tbody tr th:only-of-type {\n",
       "        vertical-align: middle;\n",
       "    }\n",
       "\n",
       "    .dataframe tbody tr th {\n",
       "        vertical-align: top;\n",
       "    }\n",
       "\n",
       "    .dataframe thead th {\n",
       "        text-align: right;\n",
       "    }\n",
       "</style>\n",
       "<table border=\"1\" class=\"dataframe\">\n",
       "  <thead>\n",
       "    <tr style=\"text-align: right;\">\n",
       "      <th></th>\n",
       "      <th>id</th>\n",
       "      <th>origin_taz</th>\n",
       "      <th>destination_taz</th>\n",
       "      <th>trip_distance</th>\n",
       "      <th>pu_date</th>\n",
       "      <th>year</th>\n",
       "      <th>month</th>\n",
       "      <th>day</th>\n",
       "      <th>hour</th>\n",
       "      <th>weekday</th>\n",
       "      <th>duration_min</th>\n",
       "      <th>trip_mph_avg</th>\n",
       "      <th>est_revenue</th>\n",
       "    </tr>\n",
       "  </thead>\n",
       "  <tbody>\n",
       "    <tr>\n",
       "      <th>82</th>\n",
       "      <td>252663</td>\n",
       "      <td>14</td>\n",
       "      <td>14</td>\n",
       "      <td>0.0200</td>\n",
       "      <td>2014-09-01</td>\n",
       "      <td>2014</td>\n",
       "      <td>9</td>\n",
       "      <td>1</td>\n",
       "      <td>11</td>\n",
       "      <td>0</td>\n",
       "      <td>1.3333</td>\n",
       "      <td>0.9000</td>\n",
       "      <td>8.0000</td>\n",
       "    </tr>\n",
       "    <tr>\n",
       "      <th>120</th>\n",
       "      <td>252701</td>\n",
       "      <td>2A</td>\n",
       "      <td>2A</td>\n",
       "      <td>1.5100</td>\n",
       "      <td>2014-09-01</td>\n",
       "      <td>2014</td>\n",
       "      <td>9</td>\n",
       "      <td>1</td>\n",
       "      <td>20</td>\n",
       "      <td>0</td>\n",
       "      <td>33.8833</td>\n",
       "      <td>2.6739</td>\n",
       "      <td>17.0517</td>\n",
       "    </tr>\n",
       "    <tr>\n",
       "      <th>271</th>\n",
       "      <td>252852</td>\n",
       "      <td>8</td>\n",
       "      <td>8</td>\n",
       "      <td>0.0000</td>\n",
       "      <td>2014-09-01</td>\n",
       "      <td>2014</td>\n",
       "      <td>9</td>\n",
       "      <td>1</td>\n",
       "      <td>16</td>\n",
       "      <td>0</td>\n",
       "      <td>0.5000</td>\n",
       "      <td>0.0000</td>\n",
       "      <td>8.0000</td>\n",
       "    </tr>\n",
       "    <tr>\n",
       "      <th>542</th>\n",
       "      <td>253123</td>\n",
       "      <td>4C</td>\n",
       "      <td>4C</td>\n",
       "      <td>0.0500</td>\n",
       "      <td>2014-09-02</td>\n",
       "      <td>2014</td>\n",
       "      <td>9</td>\n",
       "      <td>2</td>\n",
       "      <td>17</td>\n",
       "      <td>1</td>\n",
       "      <td>1.1000</td>\n",
       "      <td>2.7273</td>\n",
       "      <td>8.0000</td>\n",
       "    </tr>\n",
       "    <tr>\n",
       "      <th>554</th>\n",
       "      <td>253135</td>\n",
       "      <td>2A</td>\n",
       "      <td>2A</td>\n",
       "      <td>0.0000</td>\n",
       "      <td>2014-09-02</td>\n",
       "      <td>2014</td>\n",
       "      <td>9</td>\n",
       "      <td>2</td>\n",
       "      <td>9</td>\n",
       "      <td>1</td>\n",
       "      <td>2.6833</td>\n",
       "      <td>0.0000</td>\n",
       "      <td>8.0000</td>\n",
       "    </tr>\n",
       "    <tr>\n",
       "      <th>605</th>\n",
       "      <td>253186</td>\n",
       "      <td>2A</td>\n",
       "      <td>2A</td>\n",
       "      <td>0.0500</td>\n",
       "      <td>2014-09-02</td>\n",
       "      <td>2014</td>\n",
       "      <td>9</td>\n",
       "      <td>2</td>\n",
       "      <td>20</td>\n",
       "      <td>1</td>\n",
       "      <td>1.4500</td>\n",
       "      <td>2.0690</td>\n",
       "      <td>8.0000</td>\n",
       "    </tr>\n",
       "    <tr>\n",
       "      <th>839</th>\n",
       "      <td>253420</td>\n",
       "      <td>2A</td>\n",
       "      <td>2A</td>\n",
       "      <td>0.4700</td>\n",
       "      <td>2014-09-02</td>\n",
       "      <td>2014</td>\n",
       "      <td>9</td>\n",
       "      <td>2</td>\n",
       "      <td>13</td>\n",
       "      <td>1</td>\n",
       "      <td>10.5833</td>\n",
       "      <td>2.6646</td>\n",
       "      <td>8.0000</td>\n",
       "    </tr>\n",
       "    <tr>\n",
       "      <th>896</th>\n",
       "      <td>253477</td>\n",
       "      <td>5C</td>\n",
       "      <td>6B</td>\n",
       "      <td>0.9900</td>\n",
       "      <td>2014-09-02</td>\n",
       "      <td>2014</td>\n",
       "      <td>9</td>\n",
       "      <td>2</td>\n",
       "      <td>17</td>\n",
       "      <td>1</td>\n",
       "      <td>22.1833</td>\n",
       "      <td>2.6777</td>\n",
       "      <td>12.0467</td>\n",
       "    </tr>\n",
       "    <tr>\n",
       "      <th>945</th>\n",
       "      <td>253526</td>\n",
       "      <td>14</td>\n",
       "      <td>14</td>\n",
       "      <td>0.0400</td>\n",
       "      <td>2014-09-02</td>\n",
       "      <td>2014</td>\n",
       "      <td>9</td>\n",
       "      <td>2</td>\n",
       "      <td>2</td>\n",
       "      <td>1</td>\n",
       "      <td>1.4000</td>\n",
       "      <td>1.7143</td>\n",
       "      <td>8.0000</td>\n",
       "    </tr>\n",
       "    <tr>\n",
       "      <th>1260</th>\n",
       "      <td>253841</td>\n",
       "      <td>4A</td>\n",
       "      <td>4A</td>\n",
       "      <td>0.0600</td>\n",
       "      <td>2014-09-02</td>\n",
       "      <td>2014</td>\n",
       "      <td>9</td>\n",
       "      <td>2</td>\n",
       "      <td>20</td>\n",
       "      <td>1</td>\n",
       "      <td>1.3500</td>\n",
       "      <td>2.6667</td>\n",
       "      <td>8.0000</td>\n",
       "    </tr>\n",
       "  </tbody>\n",
       "</table>\n",
       "</div>"
      ],
      "text/plain": [
       "          id origin_taz destination_taz  trip_distance    pu_date  year  \\\n",
       "82    252663         14              14         0.0200 2014-09-01  2014   \n",
       "120   252701         2A              2A         1.5100 2014-09-01  2014   \n",
       "271   252852          8               8         0.0000 2014-09-01  2014   \n",
       "542   253123         4C              4C         0.0500 2014-09-02  2014   \n",
       "554   253135         2A              2A         0.0000 2014-09-02  2014   \n",
       "605   253186         2A              2A         0.0500 2014-09-02  2014   \n",
       "839   253420         2A              2A         0.4700 2014-09-02  2014   \n",
       "896   253477         5C              6B         0.9900 2014-09-02  2014   \n",
       "945   253526         14              14         0.0400 2014-09-02  2014   \n",
       "1260  253841         4A              4A         0.0600 2014-09-02  2014   \n",
       "\n",
       "      month  day  hour  weekday  duration_min  trip_mph_avg  est_revenue  \n",
       "82        9    1    11        0        1.3333        0.9000       8.0000  \n",
       "120       9    1    20        0       33.8833        2.6739      17.0517  \n",
       "271       9    1    16        0        0.5000        0.0000       8.0000  \n",
       "542       9    2    17        1        1.1000        2.7273       8.0000  \n",
       "554       9    2     9        1        2.6833        0.0000       8.0000  \n",
       "605       9    2    20        1        1.4500        2.0690       8.0000  \n",
       "839       9    2    13        1       10.5833        2.6646       8.0000  \n",
       "896       9    2    17        1       22.1833        2.6777      12.0467  \n",
       "945       9    2     2        1        1.4000        1.7143       8.0000  \n",
       "1260      9    2    20        1        1.3500        2.6667       8.0000  "
      ]
     },
     "execution_count": 52,
     "metadata": {},
     "output_type": "execute_result"
    }
   ],
   "source": [
    "#Check the trips with average speed slower than walking (3mph).\n",
    "\n",
    "print (len(df_uber[df_uber.trip_mph_avg <= 3])) #262,666 cases\n",
    "\n",
    "#Considering that some really bad traffic is possible, let's check the proportion of cases that fall under \n",
    "#2 miles or less traveled distance:\n",
    "df_uber[(df_uber.trip_mph_avg <= 3) & (df_uber.trip_distance <= 2)].head(10) #246,225, or ~94% of all trips with < 3mph\n",
    "\n",
    "#0.8% of cases from the entire dataset have calculated speed < 3mph : really bad traffic cases, interrupted trips, \n",
    "#or fraud? We will assume they're mostly really bad traffic cases or interrupted trips for this analysis."
   ]
  },
  {
   "cell_type": "code",
   "execution_count": 53,
   "metadata": {
    "colab": {
     "base_uri": "https://localhost:8080/",
     "height": 549
    },
    "id": "QyAB9piVMGjE",
    "outputId": "073a0747-726c-4ab9-ddcc-6ac868425709"
   },
   "outputs": [
    {
     "data": {
      "text/html": [
       "<div>\n",
       "<style scoped>\n",
       "    .dataframe tbody tr th:only-of-type {\n",
       "        vertical-align: middle;\n",
       "    }\n",
       "\n",
       "    .dataframe tbody tr th {\n",
       "        vertical-align: top;\n",
       "    }\n",
       "\n",
       "    .dataframe thead th {\n",
       "        text-align: right;\n",
       "    }\n",
       "</style>\n",
       "<table border=\"1\" class=\"dataframe\">\n",
       "  <thead>\n",
       "    <tr style=\"text-align: right;\">\n",
       "      <th></th>\n",
       "      <th>id</th>\n",
       "      <th>origin_taz</th>\n",
       "      <th>destination_taz</th>\n",
       "      <th>trip_distance</th>\n",
       "      <th>pu_date</th>\n",
       "      <th>year</th>\n",
       "      <th>month</th>\n",
       "      <th>day</th>\n",
       "      <th>hour</th>\n",
       "      <th>weekday</th>\n",
       "      <th>duration_min</th>\n",
       "      <th>trip_mph_avg</th>\n",
       "      <th>est_revenue</th>\n",
       "    </tr>\n",
       "  </thead>\n",
       "  <tbody>\n",
       "    <tr>\n",
       "      <th>539</th>\n",
       "      <td>253120</td>\n",
       "      <td>5B</td>\n",
       "      <td>10</td>\n",
       "      <td>8.3400</td>\n",
       "      <td>2014-09-02</td>\n",
       "      <td>2014</td>\n",
       "      <td>9</td>\n",
       "      <td>2</td>\n",
       "      <td>11</td>\n",
       "      <td>1</td>\n",
       "      <td>173.3667</td>\n",
       "      <td>2.8864</td>\n",
       "      <td>77.8233</td>\n",
       "    </tr>\n",
       "    <tr>\n",
       "      <th>7798</th>\n",
       "      <td>260379</td>\n",
       "      <td>6A</td>\n",
       "      <td>6A</td>\n",
       "      <td>6.0100</td>\n",
       "      <td>2014-09-11</td>\n",
       "      <td>2014</td>\n",
       "      <td>9</td>\n",
       "      <td>11</td>\n",
       "      <td>12</td>\n",
       "      <td>3</td>\n",
       "      <td>128.1500</td>\n",
       "      <td>2.8139</td>\n",
       "      <td>57.9200</td>\n",
       "    </tr>\n",
       "    <tr>\n",
       "      <th>14734</th>\n",
       "      <td>267315</td>\n",
       "      <td>6B</td>\n",
       "      <td>5C</td>\n",
       "      <td>9.0800</td>\n",
       "      <td>2014-09-19</td>\n",
       "      <td>2014</td>\n",
       "      <td>9</td>\n",
       "      <td>19</td>\n",
       "      <td>13</td>\n",
       "      <td>4</td>\n",
       "      <td>196.2500</td>\n",
       "      <td>2.7761</td>\n",
       "      <td>87.1275</td>\n",
       "    </tr>\n",
       "    <tr>\n",
       "      <th>14996</th>\n",
       "      <td>267577</td>\n",
       "      <td>4C</td>\n",
       "      <td>6A</td>\n",
       "      <td>5.4800</td>\n",
       "      <td>2014-09-20</td>\n",
       "      <td>2014</td>\n",
       "      <td>9</td>\n",
       "      <td>20</td>\n",
       "      <td>15</td>\n",
       "      <td>5</td>\n",
       "      <td>110.7000</td>\n",
       "      <td>2.9702</td>\n",
       "      <td>50.8850</td>\n",
       "    </tr>\n",
       "    <tr>\n",
       "      <th>17131</th>\n",
       "      <td>269712</td>\n",
       "      <td>2A</td>\n",
       "      <td>NaN</td>\n",
       "      <td>4.8800</td>\n",
       "      <td>2014-09-21</td>\n",
       "      <td>2014</td>\n",
       "      <td>9</td>\n",
       "      <td>21</td>\n",
       "      <td>20</td>\n",
       "      <td>6</td>\n",
       "      <td>100.4667</td>\n",
       "      <td>2.9144</td>\n",
       "      <td>46.2533</td>\n",
       "    </tr>\n",
       "    <tr>\n",
       "      <th>21955</th>\n",
       "      <td>274536</td>\n",
       "      <td>6B</td>\n",
       "      <td>6B</td>\n",
       "      <td>2.9700</td>\n",
       "      <td>2014-09-29</td>\n",
       "      <td>2014</td>\n",
       "      <td>9</td>\n",
       "      <td>29</td>\n",
       "      <td>12</td>\n",
       "      <td>0</td>\n",
       "      <td>91.0833</td>\n",
       "      <td>1.9565</td>\n",
       "      <td>39.6267</td>\n",
       "    </tr>\n",
       "    <tr>\n",
       "      <th>22567</th>\n",
       "      <td>275148</td>\n",
       "      <td>4C</td>\n",
       "      <td>4C</td>\n",
       "      <td>1.3700</td>\n",
       "      <td>2014-09-30</td>\n",
       "      <td>2014</td>\n",
       "      <td>9</td>\n",
       "      <td>30</td>\n",
       "      <td>14</td>\n",
       "      <td>1</td>\n",
       "      <td>106.4833</td>\n",
       "      <td>0.7720</td>\n",
       "      <td>42.2167</td>\n",
       "    </tr>\n",
       "    <tr>\n",
       "      <th>24080</th>\n",
       "      <td>736706</td>\n",
       "      <td>6B</td>\n",
       "      <td>3A</td>\n",
       "      <td>6.0500</td>\n",
       "      <td>2014-09-02</td>\n",
       "      <td>2014</td>\n",
       "      <td>9</td>\n",
       "      <td>2</td>\n",
       "      <td>16</td>\n",
       "      <td>1</td>\n",
       "      <td>243.2167</td>\n",
       "      <td>1.4925</td>\n",
       "      <td>98.2633</td>\n",
       "    </tr>\n",
       "    <tr>\n",
       "      <th>27977</th>\n",
       "      <td>740603</td>\n",
       "      <td>4C</td>\n",
       "      <td>2B</td>\n",
       "      <td>4.9900</td>\n",
       "      <td>2014-09-07</td>\n",
       "      <td>2014</td>\n",
       "      <td>9</td>\n",
       "      <td>7</td>\n",
       "      <td>18</td>\n",
       "      <td>6</td>\n",
       "      <td>129.9500</td>\n",
       "      <td>2.3040</td>\n",
       "      <td>56.7650</td>\n",
       "    </tr>\n",
       "    <tr>\n",
       "      <th>29077</th>\n",
       "      <td>741703</td>\n",
       "      <td>4A</td>\n",
       "      <td>5A</td>\n",
       "      <td>7.9400</td>\n",
       "      <td>2014-09-08</td>\n",
       "      <td>2014</td>\n",
       "      <td>9</td>\n",
       "      <td>8</td>\n",
       "      <td>15</td>\n",
       "      <td>0</td>\n",
       "      <td>208.4500</td>\n",
       "      <td>2.2854</td>\n",
       "      <td>89.4025</td>\n",
       "    </tr>\n",
       "  </tbody>\n",
       "</table>\n",
       "</div>"
      ],
      "text/plain": [
       "           id origin_taz destination_taz  trip_distance    pu_date  year  \\\n",
       "539    253120         5B              10         8.3400 2014-09-02  2014   \n",
       "7798   260379         6A              6A         6.0100 2014-09-11  2014   \n",
       "14734  267315         6B              5C         9.0800 2014-09-19  2014   \n",
       "14996  267577         4C              6A         5.4800 2014-09-20  2014   \n",
       "17131  269712         2A             NaN         4.8800 2014-09-21  2014   \n",
       "21955  274536         6B              6B         2.9700 2014-09-29  2014   \n",
       "22567  275148         4C              4C         1.3700 2014-09-30  2014   \n",
       "24080  736706         6B              3A         6.0500 2014-09-02  2014   \n",
       "27977  740603         4C              2B         4.9900 2014-09-07  2014   \n",
       "29077  741703         4A              5A         7.9400 2014-09-08  2014   \n",
       "\n",
       "       month  day  hour  weekday  duration_min  trip_mph_avg  est_revenue  \n",
       "539        9    2    11        1      173.3667        2.8864      77.8233  \n",
       "7798       9   11    12        3      128.1500        2.8139      57.9200  \n",
       "14734      9   19    13        4      196.2500        2.7761      87.1275  \n",
       "14996      9   20    15        5      110.7000        2.9702      50.8850  \n",
       "17131      9   21    20        6      100.4667        2.9144      46.2533  \n",
       "21955      9   29    12        0       91.0833        1.9565      39.6267  \n",
       "22567      9   30    14        1      106.4833        0.7720      42.2167  \n",
       "24080      9    2    16        1      243.2167        1.4925      98.2633  \n",
       "27977      9    7    18        6      129.9500        2.3040      56.7650  \n",
       "29077      9    8    15        0      208.4500        2.2854      89.4025  "
      ]
     },
     "execution_count": 53,
     "metadata": {},
     "output_type": "execute_result"
    }
   ],
   "source": [
    "\n",
    "#Among the trips with very slow speed (< 3 mph), the most suspicious cases are perhaps those that show very long\n",
    "#duration. Let's say that 1.5h would have been enough, in most situations, to get outside of some traffic gridlock, \n",
    "#then part of these cases should be investigated more in depth, especially because they represent a significant \n",
    "#share of the revenue ($850K).\n",
    "\n",
    "df_uber[(df_uber.trip_mph_avg <= 3) & (df_uber.duration_min > 90) & (df_uber.duration_min <= 960)].head(10)#8393 cases\n",
    "\n",
    "#Due to the lack of specific domain knowledge about the system that has generated this data, and unavailability of \n",
    "#more detailed trip information, these cases will be disregarded as suspicious in this analysis. It's possible, \n",
    "#for example, that some of the cases represent a driver waiting for a passenger during a trip, even though this is \n",
    "#not a typical behaviour in ride sharing."
   ]
  },
  {
   "cell_type": "markdown",
   "metadata": {
    "id": "1pO7cOfpSApT"
   },
   "source": [
    "# Filter Dataset, Define Functions, and Load Methods to be Used to Create Visualizations."
   ]
  },
  {
   "cell_type": "code",
   "execution_count": 54,
   "metadata": {
    "colab": {
     "base_uri": "https://localhost:8080/",
     "height": 34
    },
    "id": "yF9WpRkaMoW1",
    "outputId": "08e16adb-ac5e-4095-82e8-a9a6efb8a7cb"
   },
   "outputs": [
    {
     "data": {
      "text/plain": [
       "1852"
      ]
     },
     "execution_count": 54,
     "metadata": {},
     "output_type": "execute_result"
    }
   ],
   "source": [
    "#A few data points represent the zeroth hour of Sep, 2015, extending the time period beyond exactly 365 days:\n",
    "len(df_uber[df_uber.pu_date == datetime.datetime(2015, 9, 1)]) #1852 data points to be censored for convenience."
   ]
  },
  {
   "cell_type": "code",
   "execution_count": 55,
   "metadata": {
    "id": "6BtB6ombMocY"
   },
   "outputs": [],
   "source": [
    "#Create dataframe to be used for visualization with exactly 365 days of data, and max trip duration of 16h:\n",
    "df_viz = df_uber[(df_uber.pu_date != datetime.datetime(2015, 9, 1)) & (df_uber.duration_min <= 960)].copy() #1975 cases"
   ]
  },
  {
   "cell_type": "code",
   "execution_count": 56,
   "metadata": {
    "colab": {
     "base_uri": "https://localhost:8080/",
     "height": 297
    },
    "id": "PYILKnNyMois",
    "outputId": "2f670700-a27c-4e45-c970-d0ea550ace6a"
   },
   "outputs": [
    {
     "data": {
      "text/html": [
       "<div>\n",
       "<style scoped>\n",
       "    .dataframe tbody tr th:only-of-type {\n",
       "        vertical-align: middle;\n",
       "    }\n",
       "\n",
       "    .dataframe tbody tr th {\n",
       "        vertical-align: top;\n",
       "    }\n",
       "\n",
       "    .dataframe thead th {\n",
       "        text-align: right;\n",
       "    }\n",
       "</style>\n",
       "<table border=\"1\" class=\"dataframe\">\n",
       "  <thead>\n",
       "    <tr style=\"text-align: right;\">\n",
       "      <th></th>\n",
       "      <th>duration_min</th>\n",
       "      <th>trip_distance</th>\n",
       "      <th>trip_mph_avg</th>\n",
       "      <th>est_revenue</th>\n",
       "    </tr>\n",
       "  </thead>\n",
       "  <tbody>\n",
       "    <tr>\n",
       "      <th>count</th>\n",
       "      <td>30923763.0000</td>\n",
       "      <td>30923763.0000</td>\n",
       "      <td>30898897.0000</td>\n",
       "      <td>30923763.0000</td>\n",
       "    </tr>\n",
       "    <tr>\n",
       "      <th>mean</th>\n",
       "      <td>20.9923</td>\n",
       "      <td>5.1996</td>\n",
       "      <td>13.5071</td>\n",
       "      <td>19.2419</td>\n",
       "    </tr>\n",
       "    <tr>\n",
       "      <th>std</th>\n",
       "      <td>16.0846</td>\n",
       "      <td>6.1308</td>\n",
       "      <td>11.7569</td>\n",
       "      <td>15.0809</td>\n",
       "    </tr>\n",
       "    <tr>\n",
       "      <th>min</th>\n",
       "      <td>0.0000</td>\n",
       "      <td>0.0000</td>\n",
       "      <td>0.0000</td>\n",
       "      <td>8.0000</td>\n",
       "    </tr>\n",
       "    <tr>\n",
       "      <th>25%</th>\n",
       "      <td>10.8500</td>\n",
       "      <td>1.6900</td>\n",
       "      <td>8.4098</td>\n",
       "      <td>9.5733</td>\n",
       "    </tr>\n",
       "    <tr>\n",
       "      <th>50%</th>\n",
       "      <td>17.2333</td>\n",
       "      <td>3.0900</td>\n",
       "      <td>11.4488</td>\n",
       "      <td>14.3508</td>\n",
       "    </tr>\n",
       "    <tr>\n",
       "      <th>75%</th>\n",
       "      <td>26.6833</td>\n",
       "      <td>6.2300</td>\n",
       "      <td>16.2667</td>\n",
       "      <td>23.0308</td>\n",
       "    </tr>\n",
       "    <tr>\n",
       "      <th>max</th>\n",
       "      <td>959.3000</td>\n",
       "      <td>568.5700</td>\n",
       "      <td>22548.0000</td>\n",
       "      <td>1225.8583</td>\n",
       "    </tr>\n",
       "  </tbody>\n",
       "</table>\n",
       "</div>"
      ],
      "text/plain": [
       "       duration_min  trip_distance  trip_mph_avg   est_revenue\n",
       "count 30923763.0000  30923763.0000 30898897.0000 30923763.0000\n",
       "mean        20.9923         5.1996       13.5071       19.2419\n",
       "std         16.0846         6.1308       11.7569       15.0809\n",
       "min          0.0000         0.0000        0.0000        8.0000\n",
       "25%         10.8500         1.6900        8.4098        9.5733\n",
       "50%         17.2333         3.0900       11.4488       14.3508\n",
       "75%         26.6833         6.2300       16.2667       23.0308\n",
       "max        959.3000       568.5700    22548.0000     1225.8583"
      ]
     },
     "execution_count": 56,
     "metadata": {},
     "output_type": "execute_result"
    }
   ],
   "source": [
    "#Descriptive statistics for numerical features:\n",
    "df_viz[['duration_min', 'trip_distance', 'trip_mph_avg', 'est_revenue']].describe()"
   ]
  },
  {
   "cell_type": "code",
   "execution_count": 57,
   "metadata": {
    "colab": {
     "base_uri": "https://localhost:8080/",
     "height": 34
    },
    "id": "4Z41uFPFMomH",
    "outputId": "795d4b13-54b2-4565-d520-73483996e721"
   },
   "outputs": [
    {
     "data": {
      "text/plain": [
       "3368404"
      ]
     },
     "execution_count": 57,
     "metadata": {},
     "output_type": "execute_result"
    }
   ],
   "source": [
    "len(df_viz[(df_viz.month==8)&(df_viz.year==2015)])"
   ]
  },
  {
   "cell_type": "code",
   "execution_count": 58,
   "metadata": {
    "id": "7wR8fdbAMop3"
   },
   "outputs": [],
   "source": [
    "import matplotlib.mlab as mlab"
   ]
  },
  {
   "cell_type": "code",
   "execution_count": 59,
   "metadata": {
    "colab": {
     "base_uri": "https://localhost:8080/",
     "height": 173
    },
    "id": "T7Zj3PkjMGlp",
    "outputId": "1b02ae3c-0102-4253-f196-d26010efe631"
   },
   "outputs": [
    {
     "name": "stdout",
     "output_type": "stream",
     "text": [
      "\u001b[33mWARNING: The directory '/Users/seshikiran_reddy_kapa/Library/Caches/pip' or its parent directory is not owned or is not writable by the current user. The cache has been disabled. Check the permissions and owner of that directory. If executing pip with sudo, you should use sudo's -H flag.\u001b[0m\n",
      "Collecting plotly\n",
      "  Downloading plotly-5.4.0-py2.py3-none-any.whl (25.3 MB)\n",
      "\u001b[K     |████████████████████████████████| 25.3 MB 3.9 MB/s eta 0:00:01\n",
      "\u001b[31mERROR: Could not find a version that satisfies the requirement as (from versions: none)\u001b[0m\n",
      "\u001b[31mERROR: No matching distribution found for as\u001b[0m\n",
      "\u001b[?25h"
     ]
    }
   ],
   "source": [
    "!pip install plotly as py"
   ]
  },
  {
   "cell_type": "code",
   "execution_count": 60,
   "metadata": {
    "colab": {
     "base_uri": "https://localhost:8080/",
     "height": 258
    },
    "id": "1uvcwtoxMGoY",
    "outputId": "811ff1f0-3127-468f-9c30-206e436dd3b7"
   },
   "outputs": [
    {
     "name": "stdout",
     "output_type": "stream",
     "text": [
      "\u001b[33mWARNING: The directory '/Users/seshikiran_reddy_kapa/Library/Caches/pip' or its parent directory is not owned or is not writable by the current user. The cache has been disabled. Check the permissions and owner of that directory. If executing pip with sudo, you should use sudo's -H flag.\u001b[0m\n",
      "Collecting chart_studio\n",
      "  Downloading chart_studio-1.1.0-py3-none-any.whl (64 kB)\n",
      "\u001b[K     |████████████████████████████████| 64 kB 2.7 MB/s eta 0:00:011\n",
      "\u001b[?25hRequirement already satisfied: six in /Users/seshikiran_reddy_kapa/opt/anaconda3/envs/keras_env/lib/python3.6/site-packages (from chart_studio) (1.16.0)\n",
      "Collecting retrying>=1.3.3\n",
      "  Downloading retrying-1.3.3.tar.gz (10 kB)\n",
      "Collecting requests\n",
      "  Downloading requests-2.26.0-py2.py3-none-any.whl (62 kB)\n",
      "\u001b[K     |████████████████████████████████| 62 kB 15.1 MB/s eta 0:00:01\n",
      "\u001b[?25hCollecting plotly\n",
      "  Downloading plotly-5.4.0-py2.py3-none-any.whl (25.3 MB)\n",
      "\u001b[K     |████████████████████████████████| 25.3 MB 9.8 MB/s eta 0:00:01\n",
      "\u001b[?25hCollecting tenacity>=6.2.0\n",
      "  Downloading tenacity-8.0.1-py3-none-any.whl (24 kB)\n",
      "Collecting urllib3<1.27,>=1.21.1\n",
      "  Downloading urllib3-1.26.7-py2.py3-none-any.whl (138 kB)\n",
      "\u001b[K     |████████████████████████████████| 138 kB 36.5 MB/s eta 0:00:01\n",
      "\u001b[?25hCollecting charset-normalizer~=2.0.0\n",
      "  Downloading charset_normalizer-2.0.7-py3-none-any.whl (38 kB)\n",
      "Requirement already satisfied: certifi>=2017.4.17 in /Users/seshikiran_reddy_kapa/opt/anaconda3/envs/keras_env/lib/python3.6/site-packages (from requests->chart_studio) (2021.5.30)\n",
      "Collecting idna<4,>=2.5\n",
      "  Downloading idna-3.3-py3-none-any.whl (61 kB)\n",
      "\u001b[K     |████████████████████████████████| 61 kB 30.5 MB/s eta 0:00:01\n",
      "\u001b[?25hBuilding wheels for collected packages: retrying\n",
      "  Building wheel for retrying (setup.py) ... \u001b[?25ldone\n",
      "\u001b[?25h  Created wheel for retrying: filename=retrying-1.3.3-py3-none-any.whl size=11447 sha256=6fbb31e657815600b964b5ba7abfdd7aebc757e2ae0054e37a52905fb503aea3\n",
      "  Stored in directory: /private/tmp/pip-ephem-wheel-cache-9bozwfiy/wheels/ac/cb/8a/b27bf6323e2f4c462dcbf77d70b7c5e7868a7fbe12871770cf\n",
      "Successfully built retrying\n",
      "Installing collected packages: urllib3, tenacity, idna, charset-normalizer, retrying, requests, plotly, chart-studio\n",
      "Successfully installed charset-normalizer-2.0.7 chart-studio-1.1.0 idna-3.3 plotly-5.4.0 requests-2.26.0 retrying-1.3.3 tenacity-8.0.1 urllib3-1.26.7\n",
      "\u001b[33mWARNING: Running pip as the 'root' user can result in broken permissions and conflicting behaviour with the system package manager. It is recommended to use a virtual environment instead: https://pip.pypa.io/warnings/venv\u001b[0m\n"
     ]
    }
   ],
   "source": [
    "!pip install chart_studio"
   ]
  },
  {
   "cell_type": "code",
   "execution_count": 61,
   "metadata": {
    "id": "HTmiwp_lMGrw"
   },
   "outputs": [],
   "source": [
    "import chart_studio.plotly as py"
   ]
  },
  {
   "cell_type": "code",
   "execution_count": 62,
   "metadata": {
    "id": "cAdwVL0CTHaf"
   },
   "outputs": [],
   "source": [
    "from matplotlib.ticker import FuncFormatter #Call formatter function to format tick values\n",
    "from matplotlib.offsetbox import (OffsetImage, AnnotationBbox) #Create image box\n",
    "from matplotlib._png import read_png #Load png file\n",
    "from matplotlib.patches import Ellipse #Draw ellips"
   ]
  },
  {
   "cell_type": "code",
   "execution_count": 63,
   "metadata": {
    "id": "MLedoumpTHde"
   },
   "outputs": [],
   "source": [
    "\n",
    "#Create functions to format tick numbers\n",
    "def thousands_comma(x, pos):\n",
    "    \"\"\"\n",
    "    Args are the value and tick position. \n",
    "    Returns number with thousands comma and no decimals.\n",
    "    \"\"\"\n",
    "    return '{:,.0f}'.format(x) #this is the new syntax for formatting"
   ]
  },
  {
   "cell_type": "code",
   "execution_count": 64,
   "metadata": {
    "id": "5AFfgdLQTHg4"
   },
   "outputs": [],
   "source": [
    "def thousands_format(x, pos):\n",
    "    \"\"\"\n",
    "    Args are the value and tick position. \n",
    "    Returns number of thousands with one decimal, and K in lieu of 3 zeros.\n",
    "    \"\"\"\n",
    "    return '{:.0f}{}'.format(x * 1e-3, 'K') #old syntax: '%1.0fK' % (x * 1e-3)"
   ]
  },
  {
   "cell_type": "code",
   "execution_count": 65,
   "metadata": {
    "id": "AKRv80NrTHjR"
   },
   "outputs": [],
   "source": [
    "\n",
    "def millions_format(x, pos):\n",
    "    \"\"\"\n",
    "    Args are the value and tick position. \n",
    "    Returns number of millions with one decimal, and M in lieu of 6 zeros.\n",
    "    \"\"\"\n",
    "    return '{:.1f}{}'.format(x * 1e-6, 'M')"
   ]
  },
  {
   "cell_type": "code",
   "execution_count": 66,
   "metadata": {
    "id": "SLxttUfJTHl5"
   },
   "outputs": [],
   "source": [
    "def millions_currency(x, pos):\n",
    "    \"\"\"\n",
    "    Args are the value and tick position. \n",
    "    Returns number of millions with a $ sign, M in lieu of 6 zeros, and no decimals.\n",
    "    \"\"\"\n",
    "    return '{}{:.0f}{}'.format('$', x * 1e-6, 'M')"
   ]
  },
  {
   "cell_type": "code",
   "execution_count": 67,
   "metadata": {
    "id": "7bLH9LOETHo4"
   },
   "outputs": [],
   "source": [
    "#Define robust function to automatically add annotated labels on bar plots.\n",
    "#Inspiration from http://composition.al/blog/2015/11/29/a-better-way-to-add-labels-to-bar-charts-with-matplotlib/\n",
    "\n",
    "def annotate_labels(ax, labels_list, **kwargs):\n",
    "    \"\"\"\n",
    "    Function to automatically add labels on bar charts.\n",
    "    It takes a plot axis, an ordered list of labels, and text kwargs.\n",
    "    \"\"\"\n",
    "    \n",
    "    # Get y-axis height to calculate label position from.\n",
    "    (y_bottom, y_top) = ax.get_ylim()\n",
    "    y_height = y_top - y_bottom\n",
    "    \n",
    "    rects = ax.patches\n",
    "\n",
    "    for rect, label in zip(rects, labels_list):\n",
    "        height = rect.get_height()\n",
    "        p_height = (height / y_height) # Fraction of axis height taken up by this rectangle\n",
    "        label_position = height + (y_height * 0.01)\n",
    "        \n",
    "        # If we can fit the label above the column, do that;\n",
    "        # otherwise, put it inside the column (or else, change ylim)\n",
    "        #if p_height > 0.95:\n",
    "        #    label_position = height - (y_height * 0.05)\n",
    "        #else:\n",
    "        #    label_position = height + (y_height * 0.01)\n",
    "\n",
    "        ax.text(rect.get_x() + rect.get_width()/2., label_position, label, kwargs)\n",
    "    return None"
   ]
  },
  {
   "cell_type": "markdown",
   "metadata": {
    "id": "pyUHC_sJStJY"
   },
   "source": [
    "# Visualizing the demand: number of Uber trips per day."
   ]
  },
  {
   "cell_type": "code",
   "execution_count": 68,
   "metadata": {
    "colab": {
     "base_uri": "https://localhost:8080/",
     "height": 136
    },
    "id": "-PFJnHI-THt6",
    "outputId": "5eb32328-531f-4533-a456-cb3b51f85e77"
   },
   "outputs": [
    {
     "data": {
      "text/plain": [
       "pu_date\n",
       "2014-09-01    31592\n",
       "2014-09-02    41496\n",
       "2014-09-03    46339\n",
       "2014-09-04    53402\n",
       "2014-09-05    59718\n",
       "Name: id, dtype: int64"
      ]
     },
     "execution_count": 68,
     "metadata": {},
     "output_type": "execute_result"
    }
   ],
   "source": [
    "#Create a plotting dataframe with counts (number of trips) grouped by day:\n",
    "byDate = df_viz.groupby('pu_date')['id'].count() #365 complete entries\n",
    "byDate.head()"
   ]
  },
  {
   "cell_type": "code",
   "execution_count": 69,
   "metadata": {
    "colab": {
     "base_uri": "https://localhost:8080/",
     "height": 204
    },
    "id": "KKD4zah9THxO",
    "outputId": "6f569aa4-9ef0-4a93-de2c-6ca7e1a3d4ee"
   },
   "outputs": [
    {
     "data": {
      "text/plain": [
       "pu_date\n",
       "2014-10-28     52084\n",
       "2014-10-29     61082\n",
       "2014-10-30     66369\n",
       "2014-10-31     71787\n",
       "2014-11-01    104450\n",
       "2014-11-02     57289\n",
       "2014-11-03     50491\n",
       "2014-11-04     52395\n",
       "2014-11-05     61518\n",
       "Name: id, dtype: int64"
      ]
     },
     "execution_count": 69,
     "metadata": {},
     "output_type": "execute_result"
    }
   ],
   "source": [
    "byDate['2014-10-28': '2014-11-05'] #an uptick in rides on 11/1, the day before the NYC marathon!"
   ]
  },
  {
   "cell_type": "code",
   "execution_count": 70,
   "metadata": {
    "colab": {
     "base_uri": "https://localhost:8080/",
     "height": 34
    },
    "id": "p4aMnBf5Tnk4",
    "outputId": "6d66c061-6742-49e1-cd17-2f4f70c9b0aa"
   },
   "outputs": [
    {
     "data": {
      "text/plain": [
       "107630.82608695653"
      ]
     },
     "execution_count": 70,
     "metadata": {},
     "output_type": "execute_result"
    }
   ],
   "source": [
    "byDate['2015-06-01': '2015-08-31'].mean()"
   ]
  },
  {
   "cell_type": "code",
   "execution_count": 72,
   "metadata": {
    "colab": {
     "base_uri": "https://localhost:8080/",
     "height": 538
    },
    "id": "fLRjkn8xgj5s",
    "outputId": "a759ef1a-abe3-4f0d-8839-8cfa3ae0ec20"
   },
   "outputs": [
    {
     "data": {
      "text/plain": [
       "Text(0.5,0,'')"
      ]
     },
     "execution_count": 72,
     "metadata": {},
     "output_type": "execute_result"
    },
    {
     "data": {
      "image/png": "[encoded data removed]",
      "text/plain": [
       "<Figure size 1152x576 with 1 Axes>"
      ]
     },
     "metadata": {
      "needs_background": "light"
     },
     "output_type": "display_data"
    }
   ],
   "source": [
    "\n",
    "fig = plt.figure()\n",
    "\n",
    "ax = byDate.plot(figsize = (16, 8), fontsize = 12, ylim = (10000, 170000), color = 'navy')\n",
    "\n",
    "formatter = FuncFormatter(thousands_format)\n",
    "ax.yaxis.set_major_formatter(formatter)\n",
    "\n",
    "\n",
    "plt.title('Total Trips per Day with Annotation of Some Major Events and Holidays', fontsize= 20, color='navy')\n",
    "plt.tick_params(labelsize=14)\n",
    "plt.xlabel('')\n",
    "\n",
    "\n",
    "\n",
    "\n"
   ]
  },
  {
   "cell_type": "markdown",
   "metadata": {
    "id": "zqS5CW65S5xk"
   },
   "source": [
    "# The effect of time on demand for Uber rides: distribution per hour, weekday, and month."
   ]
  },
  {
   "cell_type": "code",
   "execution_count": 73,
   "metadata": {
    "id": "npRs0Ue9gj8l"
   },
   "outputs": [],
   "source": [
    "weekday_labels = ['Monday', 'Tuesday', 'Wednesday', 'Thursday', 'Friday', 'Saturday', 'Sunday']\n",
    "month_labels = ['Sep', 'Oct', 'Nov', 'Dec', 'Jan', 'Feb', 'Mar', 'Apr', 'May', 'Jun', 'Jul', 'Aug']"
   ]
  },
  {
   "cell_type": "code",
   "execution_count": 74,
   "metadata": {
    "colab": {
     "base_uri": "https://localhost:8080/",
     "height": 1000
    },
    "id": "HGqUTcc-gj_H",
    "outputId": "22ffb723-5e7b-4430-c7f8-2582229a1f3e"
   },
   "outputs": [
    {
     "name": "stderr",
     "output_type": "stream",
     "text": [
      "/Users/seshikiran_reddy_kapa/opt/anaconda3/envs/keras_env/lib/python3.6/site-packages/seaborn/_decorators.py:43: FutureWarning: Pass the following variable as a keyword arg: x. From version 0.12, the only valid positional argument will be `data`, and passing other arguments without an explicit keyword will result in an error or misinterpretation.\n",
      "  FutureWarning\n",
      "/Users/seshikiran_reddy_kapa/opt/anaconda3/envs/keras_env/lib/python3.6/site-packages/seaborn/_decorators.py:43: FutureWarning: Pass the following variable as a keyword arg: x. From version 0.12, the only valid positional argument will be `data`, and passing other arguments without an explicit keyword will result in an error or misinterpretation.\n",
      "  FutureWarning\n",
      "/Users/seshikiran_reddy_kapa/opt/anaconda3/envs/keras_env/lib/python3.6/site-packages/seaborn/_decorators.py:43: FutureWarning: Pass the following variable as a keyword arg: x. From version 0.12, the only valid positional argument will be `data`, and passing other arguments without an explicit keyword will result in an error or misinterpretation.\n",
      "  FutureWarning\n"
     ]
    },
    {
     "data": {
      "image/png": "[encoded data removed]",
      "text/plain": [
       "<Figure size 1080x1152 with 3 Axes>"
      ]
     },
     "metadata": {
      "needs_background": "light"
     },
     "output_type": "display_data"
    }
   ],
   "source": [
    "# Create plots comparing demand per different time categories:\n",
    "fig = plt.figure(figsize = (15,16))\n",
    "formatter = FuncFormatter(millions_format)\n",
    "\n",
    "plt.subplot(3,1,1) #this plot could have a polar format, although I'm not sure it'd be a better viz.\n",
    "ax1 = sns.countplot(df_viz.hour, order = range(24))\n",
    "ax1.yaxis.set_major_formatter(formatter)\n",
    "plt.tick_params(labelsize=13)\n",
    "plt.title('Total Number of Trips Between 9/1/2014 and 8/31/2015', fontsize=17, color='navy')\n",
    "plt.xlabel('Hour', fontsize=13)\n",
    "\n",
    "plt.subplot(3,1,2)\n",
    "ax2 = sns.countplot(df_viz.weekday, order = range(7))\n",
    "ax2.set_xticklabels(weekday_labels)\n",
    "ax2.yaxis.set_major_formatter(formatter)\n",
    "plt.tick_params(labelsize=13)\n",
    "plt.xlabel('')\n",
    "\n",
    "plt.subplot(3,1,3) #same as the line plot but with less granularity, perhaps easier to visualize the MOM growth\n",
    "ax3 = sns.countplot(df_viz.month)\n",
    "ax3.set_xticklabels(month_labels)\n",
    "ax3.yaxis.set_major_formatter(formatter)\n",
    "#plt.text(0, 3100000, 'Consistent growth in the number of trips from month to month!', color='navy', size=15)\n",
    "plt.tick_params(labelsize=13)\n",
    "plt.xlabel('')\n",
    "\n",
    "#fig.subplots_adjust(hspace=.5)\n",
    "plt.show()"
   ]
  },
  {
   "cell_type": "markdown",
   "metadata": {
    "id": "kD7_XRFvTEY3"
   },
   "source": [
    "# Estimated Monthly Base Revenue: how much was the NYC market worth in the period?"
   ]
  },
  {
   "cell_type": "code",
   "execution_count": 75,
   "metadata": {
    "id": "wRqDWnF_gjxK"
   },
   "outputs": [],
   "source": [
    "#Create dataframe with grouped revenue data:\n",
    "byDateRev = df_viz.groupby('month')['est_revenue'].sum()"
   ]
  },
  {
   "cell_type": "code",
   "execution_count": 76,
   "metadata": {
    "colab": {
     "base_uri": "https://localhost:8080/",
     "height": 34
    },
    "id": "1vUOrRksj013",
    "outputId": "53d7273b-9a81-4c5c-bc36-9f28b2296c0c"
   },
   "outputs": [
    {
     "name": "stdout",
     "output_type": "stream",
     "text": [
      "$595M Base Revenue   Uber's Base Gross Margin: $148,757,755\n"
     ]
    }
   ],
   "source": [
    "#Estimate Uber's gross margin for the entire 1 year period based on 25% share of the base revenue.\n",
    "sumRev = byDateRev.sum()\n",
    "print ('${:,.0f}M'.format(sumRev * 1e-6), \"Base Revenue   Uber's Base Gross Margin:\", '${:,.0f}'.format(sumRev * .25))"
   ]
  },
  {
   "cell_type": "code",
   "execution_count": 77,
   "metadata": {
    "colab": {
     "base_uri": "https://localhost:8080/",
     "height": 34
    },
    "id": "JFpRt0xkj07T",
    "outputId": "b186b108-0322-43ed-b6b0-ee022098120a"
   },
   "outputs": [
    {
     "data": {
      "text/plain": [
       "208735400.25"
      ]
     },
     "execution_count": 77,
     "metadata": {},
     "output_type": "execute_result"
    }
   ],
   "source": [
    "#Estimated base gross margin based on information that average UberX fare in Sep 2014 was $27 (but it has dropped):\n",
    "len(df_viz) * 27 * .25"
   ]
  },
  {
   "cell_type": "code",
   "execution_count": 78,
   "metadata": {
    "colab": {
     "base_uri": "https://localhost:8080/",
     "height": 136
    },
    "id": "S1z41B-Uj1CT",
    "outputId": "9e3b3b83-5fcc-490b-aa51-67f926ba39c8"
   },
   "outputs": [
    {
     "data": {
      "text/plain": [
       "month\n",
       "1   41457151.3925\n",
       "2   47252851.6517\n",
       "3   52154385.1658\n",
       "4   54095066.2220\n",
       "5   61539912.0576\n",
       "Name: est_revenue, dtype: float64"
      ]
     },
     "execution_count": 78,
     "metadata": {},
     "output_type": "execute_result"
    }
   ],
   "source": [
    "byDateRev.head()"
   ]
  },
  {
   "cell_type": "code",
   "execution_count": 79,
   "metadata": {
    "colab": {
     "base_uri": "https://localhost:8080/",
     "height": 508
    },
    "id": "BHNqZgCgj1Ga",
    "outputId": "2aa185fb-3c58-471b-fc5a-92cb8604b574"
   },
   "outputs": [
    {
     "name": "stderr",
     "output_type": "stream",
     "text": [
      "/Users/seshikiran_reddy_kapa/opt/anaconda3/envs/keras_env/lib/python3.6/site-packages/seaborn/_decorators.py:43: FutureWarning: Pass the following variables as keyword args: x, y. From version 0.12, the only valid positional argument will be `data`, and passing other arguments without an explicit keyword will result in an error or misinterpretation.\n",
      "  FutureWarning\n"
     ]
    },
    {
     "data": {
      "image/png": "[encoded data removed]",
      "text/plain": [
       "<Figure size 1008x504 with 1 Axes>"
      ]
     },
     "metadata": {
      "needs_background": "light"
     },
     "output_type": "display_data"
    }
   ],
   "source": [
    "#Create chart showing total base revenue per month.\n",
    "months_seq = [9,10,11,12,1,2,3,4,5,6,7,8]\n",
    "formatter = FuncFormatter(millions_currency)\n",
    "\n",
    "plt.figure(figsize = (14, 7))\n",
    "ax = sns.barplot(byDateRev.index, byDateRev.values, order = months_seq)\n",
    "ax.set_xticklabels(month_labels)\n",
    "ax.yaxis.set_major_formatter(formatter)\n",
    "\n",
    "font = {'color': 'navy', 'size': 15} #text parameters\n",
    "plt.text(0, 55000000, 'Total Base Revenue for the Period: ${:,.0f} Million'.format(sumRev * 1e-6), \n",
    "         fontdict = font) #params: x, y, text, fontdict\n",
    "plt.xlabel('')\n",
    "plt.ylabel('Revenue (Millions)', fontsize = 15)\n",
    "plt.tick_params(labelsize=13)\n",
    "plt.title('Estimated Monthly Base Revenue from Sep-2014 to Aug-2015', fontsize = 17, color='navy')\n",
    "\n",
    "plt.show()"
   ]
  },
  {
   "cell_type": "code",
   "execution_count": 80,
   "metadata": {
    "colab": {
     "base_uri": "https://localhost:8080/",
     "height": 34
    },
    "id": "3g1EEG-Nj1N5",
    "outputId": "29805a0e-35dc-4e7f-c571-0825f19fd954"
   },
   "outputs": [
    {
     "data": {
      "text/plain": [
       "19.241869694753472"
      ]
     },
     "execution_count": 80,
     "metadata": {},
     "output_type": "execute_result"
    }
   ],
   "source": [
    "\n",
    "#Mean fare from revenue estimate for the period: $19.24 (assumes all trips are Uber X)\n",
    "df_viz.est_revenue.mean()"
   ]
  },
  {
   "cell_type": "code",
   "execution_count": 81,
   "metadata": {
    "colab": {
     "base_uri": "https://localhost:8080/",
     "height": 34
    },
    "id": "XEBB0Hhq30uq",
    "outputId": "d270ecad-9efe-4d49-fea7-781209962873"
   },
   "outputs": [
    {
     "data": {
      "text/plain": [
       "21565512.055654664"
      ]
     },
     "execution_count": 81,
     "metadata": {},
     "output_type": "execute_result"
    }
   ],
   "source": [
    "#Rough estimate of revenue share from Uber Pool from 12/1/2014 to 8/31/2015 (total of 25,634,526 trips):\n",
    "rev = df_viz[(df_viz.pu_date >= datetime.datetime(2014, 12, 1)) & (df_viz.pu_date <= datetime.datetime(2015, 8, 31))].est_revenue.mean() #$19.17 mean revenue\n",
    "u_pool = rev * 0.75 * 1500000\n",
    "u_pool #$21,565,512 estimated revenue"
   ]
  },
  {
   "cell_type": "code",
   "execution_count": 82,
   "metadata": {
    "colab": {
     "base_uri": "https://localhost:8080/",
     "height": 34
    },
    "id": "DGCEZqoS4icS",
    "outputId": "8287e883-9932-4349-fde9-17a0277ebaa4"
   },
   "outputs": [
    {
     "data": {
      "text/plain": [
       "0.043886124518159604"
      ]
     },
     "execution_count": 82,
     "metadata": {},
     "output_type": "execute_result"
    }
   ],
   "source": [
    "u_pool/df_viz[(df_viz.pu_date >= datetime.datetime(2014, 12, 1)) & (df_viz.pu_date <= datetime.datetime(2015, 8, 31))].est_revenue.sum() #Uber Pool represented only about 4% of the total revenue for the period between Dec/14 and Aug/15."
   ]
  },
  {
   "cell_type": "markdown",
   "metadata": {
    "id": "qZ7XqUpnTfUP"
   },
   "source": [
    "# Month over Month Base Revenue Growth: how fast has Uber grown in the period?"
   ]
  },
  {
   "cell_type": "code",
   "execution_count": 83,
   "metadata": {
    "colab": {
     "base_uri": "https://localhost:8080/",
     "height": 221
    },
    "id": "Xm_R2gf44ij8",
    "outputId": "a4c4a613-1bf4-4329-892d-5436fbf6cdbf"
   },
   "outputs": [
    {
     "name": "stdout",
     "output_type": "stream",
     "text": [
      "Sep Revenue = $29,932,282 Growth % =  0.0\n",
      "Oct Revenue = $35,531,001 Growth % =  18.7\n",
      "Nov Revenue = $38,170,687 Growth % =  7.4\n",
      "Dec Revenue = $41,661,569 Growth % =  9.1\n",
      "Jan Revenue = $41,457,151 Growth % =  -0.5\n",
      "Feb Revenue = $47,252,852 Growth % =  14.0\n",
      "Mar Revenue = $52,154,385 Growth % =  10.4\n",
      "Apr Revenue = $54,095,066 Growth % =  3.7\n",
      "May Revenue = $61,539,912 Growth % =  13.8\n",
      "Jun Revenue = $63,667,666 Growth % =  3.5\n",
      "Jul Revenue = $63,607,348 Growth % =  -0.1\n",
      "Aug Revenue = $65,961,099 Growth % =  3.7\n"
     ]
    }
   ],
   "source": [
    "\n",
    "#Create dictionary with calculated month over month revenue percentage growth:\n",
    "dict_growth = {}\n",
    "for i in range(len(months_seq)):\n",
    "    mo = months_seq[i]\n",
    "    rev = byDateRev[mo]\n",
    "    if mo == 9:\n",
    "        growth_pct = 0\n",
    "    elif mo == 1:\n",
    "        growth_pct = ((rev/byDateRev[12]) - 1) * 100\n",
    "    else:\n",
    "        growth_pct = ((rev/byDateRev[mo - 1]) - 1) * 100\n",
    "    print (month_labels[i], 'Revenue =', '${:,.0f}'.format(rev), 'Growth % = ', '{:.1f}'.format(growth_pct))\n",
    "    dict_growth[month_labels[i]] = growth_pct"
   ]
  },
  {
   "cell_type": "code",
   "execution_count": 84,
   "metadata": {
    "colab": {
     "base_uri": "https://localhost:8080/",
     "height": 456
    },
    "id": "lk0IIDOI6Mtu",
    "outputId": "19effc88-c5ee-4ba5-8e1f-89e95c78b764"
   },
   "outputs": [
    {
     "data": {
      "image/png": "[encoded data removed]",
      "text/plain": [
       "<Figure size 1080x504 with 1 Axes>"
      ]
     },
     "metadata": {
      "needs_background": "light"
     },
     "output_type": "display_data"
    }
   ],
   "source": [
    "#Annotate Total Cummulative Growth for the Period\n",
    "\n",
    "df_plt1 = pd.DataFrame(pd.Series(dict_growth), index = month_labels, columns = ['growth_pct'])\n",
    "\n",
    "labels_list = df_plt1.growth_pct.values.round(1)\n",
    "kwargs = {'fontsize': 12, 'ha':'center', 'va': 'bottom', 'weight': 'bold', 'color': 'navy'}\n",
    "\n",
    "ax = df_plt1.plot(kind = 'bar', figsize = (15,7), fontsize = 14, rot = 0, legend=False)#df_plt2[1:] to exclude Sep\n",
    "\n",
    "ax.get_yaxis().set_ticks([])\n",
    "annotate_labels(ax, labels_list, **kwargs)\n",
    "\n",
    "plt.axhline(0, color='yellow')\n",
    "plt.title('Month Over Month Percentage Growth of Base Revenue From September 2014', \n",
    "          fontsize = 17, color='navy')\n",
    "plt.ylabel('Growth %', fontsize = 15, weight='bold', color='navy')\n",
    "plt.ylim(-2, 22)\n",
    "plt.tick_params(labelsize=15)\n",
    "\n",
    "plt.show()"
   ]
  },
  {
   "cell_type": "code",
   "execution_count": 85,
   "metadata": {
    "colab": {
     "base_uri": "https://localhost:8080/",
     "height": 418
    },
    "id": "ZljQWj4S6M2Q",
    "outputId": "8b53ed16-0b71-431c-917c-5a75bf931300"
   },
   "outputs": [
    {
     "name": "stdout",
     "output_type": "stream",
     "text": [
      "Cummulative % Growth Over Period:\n"
     ]
    },
    {
     "data": {
      "image/png": "[encoded data removed]",
      "text/plain": [
       "<Figure size 1152x432 with 1 Axes>"
      ]
     },
     "metadata": {
      "needs_background": "light"
     },
     "output_type": "display_data"
    }
   ],
   "source": [
    "\n",
    "#Plot Cummulative Base Revenue Growth Over the Period\n",
    "print ('Cummulative % Growth Over Period:'), df_plt1.growth_pct.sum()\n",
    "\n",
    "df_plt1.cumsum().plot(color = 'navy', marker = 'D', legend = False, figsize=(16, 6))\n",
    "plt.title('Cummulative Revenue Growth Percentage from September 2014', fontsize=17, weight='bold', color='navy')\n",
    "plt.tick_params(labelsize=14)\n",
    "plt.show()"
   ]
  },
  {
   "cell_type": "markdown",
   "metadata": {
    "id": "DSuozWQEToqN"
   },
   "source": [
    "# Which day of the week has the worst (slowest) traffic overall?"
   ]
  },
  {
   "cell_type": "code",
   "execution_count": 86,
   "metadata": {
    "id": "57zVqlfn6M6L"
   },
   "outputs": [],
   "source": [
    "#Create dataframe with grouped data.\n",
    "df_plt2 = df_viz.groupby('weekday')['trip_mph_avg'].median() #used median since distribution is skewed."
   ]
  },
  {
   "cell_type": "code",
   "execution_count": 87,
   "metadata": {
    "colab": {
     "base_uri": "https://localhost:8080/",
     "height": 401
    },
    "id": "Y8Vm6l2w6M8l",
    "outputId": "833077af-e033-4d2c-f9e0-d37a3234fd14"
   },
   "outputs": [
    {
     "data": {
      "image/png": "[encoded data removed]",
      "text/plain": [
       "<Figure size 864x432 with 1 Axes>"
      ]
     },
     "metadata": {
      "needs_background": "light"
     },
     "output_type": "display_data"
    }
   ],
   "source": [
    "#Create plot. Does Saturday have better traffic flow than Monday?\n",
    "\n",
    "fig = plt.figure()\n",
    "labels_list = df_plt2.values.round(1)\n",
    "kwargs = {'fontsize': 12, 'ha':'center', 'va': 'bottom', 'weight': 'bold', 'color': 'navy'}\n",
    "\n",
    "ax = df_plt2.plot(kind='bar', rot = 0, figsize = (12, 6), fontsize = 12, edgecolor='yellow', linewidth=1)\n",
    "ax.set_xticklabels(weekday_labels, weight='bold')\n",
    "\n",
    "ax.get_yaxis().set_ticks([])\n",
    "annotate_labels(ax, labels_list, **kwargs)\n",
    "\n",
    "plt.xlabel('')\n",
    "plt.ylabel('Median Trip Speed (mph)', fontsize = 14)\n",
    "plt.tick_params(labelsize=14)\n",
    "plt.title('Which day of the week has the worst traffic?', fontsize = 18, color='navy')\n",
    "plt.show()\n",
    "#plot_url = py.plot_mpl(fig)"
   ]
  },
  {
   "cell_type": "markdown",
   "metadata": {
    "id": "jgqFCch2Tw0G"
   },
   "source": [
    "# What is the median distance traveled per trip? Are there any insights we can learn from it?"
   ]
  },
  {
   "cell_type": "code",
   "execution_count": 88,
   "metadata": {
    "colab": {
     "base_uri": "https://localhost:8080/",
     "height": 415
    },
    "id": "6UREuN436NCU",
    "outputId": "a0276e0d-463b-49d1-acc6-08b16d0576ac"
   },
   "outputs": [
    {
     "data": {
      "image/png": "[encoded data removed]",
      "text/plain": [
       "<Figure size 1152x432 with 2 Axes>"
      ]
     },
     "metadata": {
      "needs_background": "light"
     },
     "output_type": "display_data"
    }
   ],
   "source": [
    "#Why is the median distance traveled around 5 AM much longer than at the other times?\n",
    "#Could it be picking up riders that would otherwise use public transportation to the outer boroughs? \n",
    "#While the subway runs 24/7 in NYC, bus services don't. It's clear though that most customer are within Manhattan.\n",
    "plt.figure(figsize = (16,6))\n",
    "\n",
    "plt.subplot(1,2,1)\n",
    "df_viz[(df_viz.weekday >= 5)].groupby('hour')['trip_distance'].median().plot(kind='bar', rot = 0, fontsize=14)\n",
    "plt.ylim(0, 9)\n",
    "plt.tick_params(labelsize=12)\n",
    "plt.ylabel('Median Trip Distance (miles)', fontsize=14, weight='bold', color='navy')\n",
    "plt.xlabel('Hour', fontsize=14, weight='bold', color='navy')\n",
    "plt.title('Weekend', fontsize=14, weight='bold', color='navy')\n",
    "\n",
    "plt.subplot(1,2,2)\n",
    "df_viz[df_viz.weekday < 5].groupby('hour')['trip_distance'].median().plot(kind='bar', rot = 0)\n",
    "plt.tick_params(labelsize=12)\n",
    "plt.xlabel('Hour', fontsize=14, weight='bold', color='navy')\n",
    "plt.title('Weekdays', fontsize=14, weight='bold', color='navy')\n",
    "\n",
    "plt.show()"
   ]
  },
  {
   "cell_type": "code",
   "execution_count": 89,
   "metadata": {
    "colab": {
     "base_uri": "https://localhost:8080/",
     "height": 719
    },
    "id": "dYLzbC_I6NE-",
    "outputId": "c6ac46af-562a-4b73-a39f-983ebec09abc"
   },
   "outputs": [
    {
     "data": {
      "image/png": "[encoded data removed]",
      "text/plain": [
       "<Figure size 1152x864 with 4 Axes>"
      ]
     },
     "metadata": {
      "needs_background": "light"
     },
     "output_type": "display_data"
    }
   ],
   "source": [
    "#Create plot similar to the above but with the count of trips per hour, comparing weekday vs weekend and \n",
    "#distances >=5 versus < 5 miles. Indeed, the plots show that there is a higher demand for trips that go beyond \n",
    "#miles (outside Manhattan) from 5 to 7 AM on weekdays, and from 6 to 8 AM on weekends (Saturday and Sunday).\n",
    "\n",
    "fig = plt.figure(figsize = (16,12))\n",
    "formatter = FuncFormatter(thousands_format)\n",
    "\n",
    "\n",
    "plt.subplot(2,2,1)\n",
    "ax1 = df_viz[(df_viz.weekday < 5) & (df_viz.trip_distance >= 5)].\\\n",
    "groupby('hour')['trip_distance'].count().plot(kind='bar', rot = 0)\n",
    "ax1.yaxis.set_major_formatter(formatter)\n",
    "ellipse = Ellipse(xy=(5, 150000), width=4, height=200000, edgecolor='red', fc='None', lw=1.5)\n",
    "ax1.add_patch(ellipse)\n",
    "plt.xlabel('Hour', fontsize=14, weight='bold', color='navy')\n",
    "plt.ylabel('Demand (number of trips)', fontsize=14, weight='bold', color='navy')\n",
    "plt.ylim(0, 1400000)\n",
    "plt.title('Weekday, 5 miles or more', fontsize=14, weight='bold', color='navy')\n",
    "\n",
    "plt.subplot(2,2,2)\n",
    "ax2 = df_viz[(df_viz.weekday < 5) & (df_viz.trip_distance < 5)].\\\n",
    "groupby('hour')['trip_distance'].count().plot(kind='bar', rot = 0)\n",
    "ax2.yaxis.set_major_formatter(formatter)\n",
    "ellipse = Ellipse(xy=(5, 150000), width=4, height=200000, edgecolor='red', fc='None', lw=1.5)\n",
    "ax2.add_patch(ellipse)\n",
    "plt.xlabel('Hour', fontsize=14, weight='bold', color='navy')\n",
    "plt.title('Weekday, less than 5 miles', fontsize=14, weight='bold', color='navy')\n",
    "\n",
    "plt.subplot(2,2,3)\n",
    "ax3 = df_viz[(df_viz.weekday >= 5) & (df_viz.trip_distance >= 5)].\\\n",
    "groupby('hour')['trip_distance'].count().plot(kind='bar', rot = 0)\n",
    "ax3.yaxis.set_major_formatter(formatter)\n",
    "ellipse = Ellipse(xy=(6.5, 50000), width=4, height=80000, edgecolor='red', fc='None', lw=1.5)\n",
    "ax3.add_patch(ellipse)\n",
    "plt.xlabel('Hour', fontsize=14, weight='bold', color='navy')\n",
    "plt.ylabel('Demand (number of trips)', fontsize=14, weight='bold', color='navy')\n",
    "plt.ylim(0, 500000)\n",
    "plt.title('Weekend, 5 miles or more', fontsize=14, weight='bold', color='navy')\n",
    "\n",
    "plt.subplot(2,2,4)\n",
    "ax4 = df_viz[(df_viz.weekday >= 5) & (df_viz.trip_distance < 5)].\\\n",
    "groupby('hour')['trip_distance'].count().plot(kind='bar', rot = 0)\n",
    "ax4.yaxis.set_major_formatter(formatter)\n",
    "ellipse = Ellipse(xy=(6.5, 50000), width=4, height=80000, edgecolor='red', fc='None', lw=1.5)\n",
    "ax4.add_patch(ellipse)\n",
    "plt.xlabel('Hour', fontsize=14, weight='bold', color='navy')\n",
    "plt.title('Weekend, less than 5 miles', fontsize=14, weight='bold', color='navy')\n",
    "\n",
    "\n",
    "fig.subplots_adjust(hspace=0.4)\n",
    "plt.show()\n",
    "#plot_url = py.plot_mpl(fig)"
   ]
  },
  {
   "cell_type": "markdown",
   "metadata": {
    "id": "UsxC9c0KT5FW"
   },
   "source": [
    "# What are the most popular pickup and drop-off taxi zones?"
   ]
  },
  {
   "cell_type": "code",
   "execution_count": 90,
   "metadata": {
    "id": "c-Ecxn966M_Z"
   },
   "outputs": [],
   "source": [
    "#CREATE INSTEAD SIDE-STACKED PLOT WITH TOP 10 PICKUP AND DROP-OFF LOCATIONS? OR TRY TOYPLOT WITH VALUE FOR EACH BAR."
   ]
  },
  {
   "cell_type": "code",
   "execution_count": 91,
   "metadata": {
    "colab": {
     "base_uri": "https://localhost:8080/",
     "height": 51
    },
    "id": "kGYORL_l7jot",
    "outputId": "58f96fa3-c31b-4260-b5d4-a72397105101"
   },
   "outputs": [
    {
     "name": "stdout",
     "output_type": "stream",
     "text": [
      "0.43922264570453473\n",
      "0.41584985632479493\n"
     ]
    }
   ],
   "source": [
    "#Percentage of trips represented by the top five origins/destinations:\n",
    "print (df_viz.origin_taz.value_counts().head(5).sum()/float(len(df_viz))) #13,583,249\n",
    "print (df_viz.destination_taz.value_counts().head(5).sum()/float(len(df_viz[df_viz.destination_taz.isnull() == False])))"
   ]
  },
  {
   "cell_type": "code",
   "execution_count": 92,
   "metadata": {
    "colab": {
     "base_uri": "https://localhost:8080/",
     "height": 34
    },
    "id": "TxhQpLVE7jsI",
    "outputId": "7a9a12de-59fb-4e4e-fe85-9874374222e1"
   },
   "outputs": [
    {
     "data": {
      "text/plain": [
       "6231353"
      ]
     },
     "execution_count": 92,
     "metadata": {},
     "output_type": "execute_result"
    }
   ],
   "source": [
    "\n",
    "#Total pickups or drop-offs within any combination of the top 5 locations: 6231353 (20% of the total trips)\n",
    "len(df_viz[(df_viz.origin_taz.isin(['2A', '15', '4C', '1', '6B']) == True) & \\\n",
    "           (df_viz.destination_taz.isin(['2A', '15', '4C', '1', '6B']) == True)])"
   ]
  },
  {
   "cell_type": "code",
   "execution_count": 93,
   "metadata": {
    "colab": {
     "base_uri": "https://localhost:8080/",
     "height": 34
    },
    "id": "CAyhpfh67jy3",
    "outputId": "3bd7d609-e8fd-4ff0-9565-64f2e1c45d9e"
   },
   "outputs": [
    {
     "data": {
      "text/plain": [
       "0.2903860697677705"
      ]
     },
     "execution_count": 93,
     "metadata": {},
     "output_type": "execute_result"
    }
   ],
   "source": [
    "#29% of all trips start or finish at 2A:\n",
    "len(df_viz[(df_viz.origin_taz == '2A') | (df_viz.destination_taz == '2A')])/(1.0*len(df_viz)) #8979830"
   ]
  },
  {
   "cell_type": "markdown",
   "metadata": {
    "id": "qIMO8WzFUAtK"
   },
   "source": [
    "# Visualizing the most popular pick up and drop off location pairs."
   ]
  },
  {
   "cell_type": "code",
   "execution_count": 94,
   "metadata": {
    "id": "zFoV4yMI7j3t"
   },
   "outputs": [],
   "source": [
    "#Define data to plot:\n",
    "df_plt3 = df_viz.pivot_table('id', aggfunc='count', index='origin_taz', columns='destination_taz')"
   ]
  },
  {
   "cell_type": "code",
   "execution_count": 95,
   "metadata": {
    "colab": {
     "base_uri": "https://localhost:8080/",
     "height": 34
    },
    "id": "rxDF3kro8VEC",
    "outputId": "64cc7b06-d4df-401e-e100-5e36161b7614"
   },
   "outputs": [
    {
     "data": {
      "text/plain": [
       "(28, 29)"
      ]
     },
     "execution_count": 95,
     "metadata": {},
     "output_type": "execute_result"
    }
   ],
   "source": [
    "df_plt3.shape"
   ]
  },
  {
   "cell_type": "code",
   "execution_count": 96,
   "metadata": {
    "colab": {
     "base_uri": "https://localhost:8080/",
     "height": 596
    },
    "id": "UTJP6-MJ8Vj3",
    "outputId": "0d072f7b-3a06-4afb-bbce-2e785a923068"
   },
   "outputs": [
    {
     "data": {
      "image/png": "[encoded data removed]",
      "text/plain": [
       "<Figure size 648x648 with 1 Axes>"
      ]
     },
     "metadata": {
      "needs_background": "light"
     },
     "output_type": "display_data"
    }
   ],
   "source": [
    "#Visualize the origin versus destination matrix via a heatmap:\n",
    "\n",
    "fig = plt.figure(figsize=(9,9))\n",
    "\n",
    "cmap = sns.cubehelix_palette(8, start=2, rot=0, dark=0, light=.9, as_cmap=True) #'YlOrRd' #ggplot:'viridis'\n",
    "\n",
    "sns.heatmap(df_plt3, cmap=cmap, linewidths=0.1, cbar=False)\n",
    "\n",
    "plt.title('Total Trips by Pickup and Drof-Off Taxi Zones', fontsize=18, color='navy')\n",
    "plt.xlabel('Destination', fontsize=15, fontname='Tahoma', color='navy')\n",
    "plt.ylabel('Origin', fontsize=15, fontname='Tahoma', color='navy')\n",
    "plt.tick_params(labelsize=11)\n",
    "plt.show()"
   ]
  },
  {
   "cell_type": "code",
   "execution_count": 97,
   "metadata": {
    "colab": {
     "base_uri": "https://localhost:8080/",
     "height": 34
    },
    "id": "lpeS1zSv8VmD",
    "outputId": "5639ddfe-2caf-4a09-8a3e-600302140660"
   },
   "outputs": [
    {
     "data": {
      "text/plain": [
       "6231353"
      ]
     },
     "execution_count": 97,
     "metadata": {},
     "output_type": "execute_result"
    }
   ],
   "source": [
    "len(df_viz[(df_viz.origin_taz.isin(['2A', '15', '4C', '1', '6B']) == True) & \\\n",
    "           (df_viz.destination_taz.isin(['2A', '15', '4C', '1', '6B']) == True)])"
   ]
  },
  {
   "cell_type": "markdown",
   "metadata": {
    "id": "ftE0FvSbULNf"
   },
   "source": [
    "\n",
    "# What is the mean time and distance to destination from the most popular pick up location?"
   ]
  },
  {
   "cell_type": "code",
   "execution_count": 98,
   "metadata": {
    "id": "EXcg6ogR8Vpd"
   },
   "outputs": [],
   "source": [
    "#Plot the mean travel time from the most popular origin, to all possible destinations.\n",
    "df_plt4 = df_viz[df_viz.origin_taz == '2A'].groupby('destination_taz')['trip_distance'].mean().sort_values()\n",
    "df_plt5 = df_viz[df_viz.origin_taz == '2A'].groupby('destination_taz')['duration_min'].mean().sort_values()"
   ]
  },
  {
   "cell_type": "code",
   "execution_count": 99,
   "metadata": {
    "colab": {
     "base_uri": "https://localhost:8080/",
     "height": 744
    },
    "id": "_KOFD67t8Vfl",
    "outputId": "c267e0ac-adc3-416f-aaae-d6ab553dbf6a"
   },
   "outputs": [
    {
     "data": {
      "image/png": "[encoded data removed]",
      "text/plain": [
       "<Figure size 1152x864 with 2 Axes>"
      ]
     },
     "metadata": {
      "needs_background": "light"
     },
     "output_type": "display_data"
    }
   ],
   "source": [
    "#Assuming 18 is EWR, and given the average driving distance from 2A, this pick up location is probably located in \n",
    "#Midtown, not in Lower Manhattan (Penn Station lat/long: 40.750568, -73.993519)\n",
    "#Straight line distance: 11 miles, Driving distance: 15 miles Difference: 36%\n",
    "#The mean time and distance to zone 18 adds further evidence that it's the EWR airport (from Midtown).\n",
    "#Based on the distance from 2A, if the origin is Midtown, then 15 is in Upper Manhattan.\n",
    "\n",
    "fig = plt.figure(figsize = (16,12))\n",
    "kwargs = {'fontsize': 12, 'ha':'center', 'va': 'bottom', 'color': 'navy'}\n",
    "\n",
    "\n",
    "plt.subplot(2,1,1)\n",
    "ax1 = sns.barplot(x=df_plt4.index, y=df_plt4.values)\n",
    "\n",
    "#ax1.set_yticks(range(0, 21, 2))\n",
    "ax1.get_yaxis().set_ticks([])\n",
    "labels_list = df_plt4.values.round(1)\n",
    "annotate_labels(ax1, labels_list, **kwargs)\n",
    "plt.title('Mean Distance to Destination from the Most Popular Pickup Zone: 2A', fontsize=17, color='navy')\n",
    "plt.ylabel('Mean Distance (Miles)', fontsize = 14)\n",
    "plt.xlabel('Drop-off Taxi Zone', fontsize=14)\n",
    "plt.tick_params(labelsize=12)\n",
    "\n",
    "\n",
    "plt.subplot(2,1,2)\n",
    "ax2 = sns.barplot(x=df_plt5.index, y=df_plt5.values)\n",
    "\n",
    "#ax2.set_yticks(range(0, 51, 5))\n",
    "ax2.get_yaxis().set_ticks([])\n",
    "labels_list = df_plt5.apply(lambda x: '{:.0f}'.format(round(x))).values\n",
    "annotate_labels(ax2, labels_list, **kwargs)\n",
    "plt.title('Mean Time to Destination from the Most Popular Pickup Zone: 2A', fontsize=17, color='navy')\n",
    "plt.ylabel('Mean Time (Minutes)', fontsize = 14)\n",
    "plt.ylim(0,55)\n",
    "plt.xlabel('Drop-off Taxi Zone', fontsize=14)\n",
    "plt.tick_params(labelsize=12)\n",
    "\n",
    "\n",
    "fig.subplots_adjust(hspace=.5)\n",
    "plt.show()\n",
    "#plot_url = py.plot_mpl(fig)"
   ]
  },
  {
   "cell_type": "markdown",
   "metadata": {
    "id": "_y292_svUUF8"
   },
   "source": [
    "\n",
    "# Visualization of Variable Distributions and Bivariate Relationships.\n",
    "# Distribution of trip distance"
   ]
  },
  {
   "cell_type": "code",
   "execution_count": 100,
   "metadata": {
    "colab": {
     "base_uri": "https://localhost:8080/",
     "height": 34
    },
    "id": "42i7GfbJ9bCE",
    "outputId": "7ad8f79d-35cb-435d-dcec-fc544ac80af5"
   },
   "outputs": [
    {
     "data": {
      "text/plain": [
       "(568.57, 2593.08)"
      ]
     },
     "execution_count": 100,
     "metadata": {},
     "output_type": "execute_result"
    }
   ],
   "source": [
    "df_viz.trip_distance.max(), df_uber.trip_distance.max()"
   ]
  },
  {
   "cell_type": "code",
   "execution_count": 101,
   "metadata": {
    "colab": {
     "base_uri": "https://localhost:8080/",
     "height": 68
    },
    "id": "9NKk8B9P9bPk",
    "outputId": "3e085976-0f23-4aa8-8685-1f48e3a9f628"
   },
   "outputs": [
    {
     "data": {
      "text/plain": [
       "(array([12709212,  8364039,  3566741,  2035261,  1296836,   672674,\n",
       "          705998,   747728,   299927,   132566]),\n",
       " array([ 0. ,  2.5,  5. ,  7.5, 10. , 12.5, 15. , 17.5, 20. , 22.5, 25. ]))"
      ]
     },
     "execution_count": 101,
     "metadata": {},
     "output_type": "execute_result"
    }
   ],
   "source": [
    "freq, bins_dist = np.histogram(df_viz.trip_distance, bins=10, range=(0, 25))\n",
    "freq, bins_dist"
   ]
  },
  {
   "cell_type": "code",
   "execution_count": 102,
   "metadata": {
    "colab": {
     "base_uri": "https://localhost:8080/",
     "height": 187
    },
    "id": "M0SIJQXZ9bTs",
    "outputId": "ffa22a63-e772-4b38-98c5-be5c83eeeba4"
   },
   "outputs": [
    {
     "name": "stdout",
     "output_type": "stream",
     "text": [
      "0.4162726243132304\n",
      "0.273952505032429\n",
      "0.11682365801401344\n",
      "0.06666215321865507\n",
      "0.042476065787861\n",
      "0.022032504555536406\n",
      "0.023123985989052038\n",
      "0.024490794301997885\n",
      "0.009823693191394893\n",
      "0.004342015595829836\n"
     ]
    }
   ],
   "source": [
    "#69% of all trips had distance < 5 miles\n",
    "for val in freq:\n",
    "    print (float(val)/sum(freq))"
   ]
  },
  {
   "cell_type": "code",
   "execution_count": 103,
   "metadata": {
    "colab": {
     "base_uri": "https://localhost:8080/",
     "height": 34
    },
    "id": "FfBaK-O69bW1",
    "outputId": "a24ce879-3e2b-4551-d224-a448e8f3b6c9"
   },
   "outputs": [
    {
     "data": {
      "text/plain": [
       "(3.09, 5.19963245654634)"
      ]
     },
     "execution_count": 103,
     "metadata": {},
     "output_type": "execute_result"
    }
   ],
   "source": [
    "df_viz.trip_distance.median(), df_viz.trip_distance.mean()"
   ]
  },
  {
   "cell_type": "code",
   "execution_count": 104,
   "metadata": {
    "colab": {
     "base_uri": "https://localhost:8080/",
     "height": 51
    },
    "id": "LCoYCcPX9bag",
    "outputId": "d4958072-5efd-4908-b75d-20722fb2fc19"
   },
   "outputs": [
    {
     "name": "stdout",
     "output_type": "stream",
     "text": [
      "0.6821384577290933\n",
      "0.3192358898883037\n"
     ]
    }
   ],
   "source": [
    "print (len(df_viz[df_viz.trip_distance <= 5])/(1.0 *len(df_viz))) #68% of trips are 5 miles or less\n",
    "print (len(df_viz[df_viz.trip_distance <= 2])/(1.0 *len(df_viz))) #32% of trips are 2 miles or less"
   ]
  },
  {
   "cell_type": "code",
   "execution_count": 105,
   "metadata": {
    "colab": {
     "base_uri": "https://localhost:8080/",
     "height": 549
    },
    "id": "jVkOa6Qc9beG",
    "outputId": "5bef059d-38b5-4420-be6e-18877c4bdbd4"
   },
   "outputs": [
    {
     "data": {
      "text/html": [
       "<div>\n",
       "<style scoped>\n",
       "    .dataframe tbody tr th:only-of-type {\n",
       "        vertical-align: middle;\n",
       "    }\n",
       "\n",
       "    .dataframe tbody tr th {\n",
       "        vertical-align: top;\n",
       "    }\n",
       "\n",
       "    .dataframe thead th {\n",
       "        text-align: right;\n",
       "    }\n",
       "</style>\n",
       "<table border=\"1\" class=\"dataframe\">\n",
       "  <thead>\n",
       "    <tr style=\"text-align: right;\">\n",
       "      <th></th>\n",
       "      <th>id</th>\n",
       "      <th>origin_taz</th>\n",
       "      <th>destination_taz</th>\n",
       "      <th>trip_distance</th>\n",
       "      <th>pu_date</th>\n",
       "      <th>year</th>\n",
       "      <th>month</th>\n",
       "      <th>day</th>\n",
       "      <th>hour</th>\n",
       "      <th>weekday</th>\n",
       "      <th>duration_min</th>\n",
       "      <th>trip_mph_avg</th>\n",
       "      <th>est_revenue</th>\n",
       "    </tr>\n",
       "  </thead>\n",
       "  <tbody>\n",
       "    <tr>\n",
       "      <th>943214</th>\n",
       "      <td>19594602</td>\n",
       "      <td>10</td>\n",
       "      <td>15</td>\n",
       "      <td>371.5500</td>\n",
       "      <td>2014-09-16</td>\n",
       "      <td>2014</td>\n",
       "      <td>9</td>\n",
       "      <td>16</td>\n",
       "      <td>10</td>\n",
       "      <td>1</td>\n",
       "      <td>474.2833</td>\n",
       "      <td>47.0035</td>\n",
       "      <td>818.7617</td>\n",
       "    </tr>\n",
       "    <tr>\n",
       "      <th>3620586</th>\n",
       "      <td>5138875</td>\n",
       "      <td>14</td>\n",
       "      <td>NaN</td>\n",
       "      <td>357.2700</td>\n",
       "      <td>2014-11-04</td>\n",
       "      <td>2014</td>\n",
       "      <td>11</td>\n",
       "      <td>4</td>\n",
       "      <td>23</td>\n",
       "      <td>1</td>\n",
       "      <td>309.5167</td>\n",
       "      <td>69.2570</td>\n",
       "      <td>736.1033</td>\n",
       "    </tr>\n",
       "    <tr>\n",
       "      <th>10581718</th>\n",
       "      <td>10072444</td>\n",
       "      <td>16</td>\n",
       "      <td>NaN</td>\n",
       "      <td>330.9000</td>\n",
       "      <td>2015-02-04</td>\n",
       "      <td>2015</td>\n",
       "      <td>2</td>\n",
       "      <td>4</td>\n",
       "      <td>18</td>\n",
       "      <td>2</td>\n",
       "      <td>648.5000</td>\n",
       "      <td>30.6153</td>\n",
       "      <td>808.6000</td>\n",
       "    </tr>\n",
       "    <tr>\n",
       "      <th>11224977</th>\n",
       "      <td>17353914</td>\n",
       "      <td>15</td>\n",
       "      <td>15</td>\n",
       "      <td>378.0100</td>\n",
       "      <td>2015-02-25</td>\n",
       "      <td>2015</td>\n",
       "      <td>2</td>\n",
       "      <td>25</td>\n",
       "      <td>15</td>\n",
       "      <td>2</td>\n",
       "      <td>600.7667</td>\n",
       "      <td>37.7528</td>\n",
       "      <td>874.3358</td>\n",
       "    </tr>\n",
       "    <tr>\n",
       "      <th>11684172</th>\n",
       "      <td>23119455</td>\n",
       "      <td>14</td>\n",
       "      <td>14</td>\n",
       "      <td>350.1500</td>\n",
       "      <td>2015-02-03</td>\n",
       "      <td>2015</td>\n",
       "      <td>2</td>\n",
       "      <td>3</td>\n",
       "      <td>18</td>\n",
       "      <td>1</td>\n",
       "      <td>559.3500</td>\n",
       "      <td>37.5597</td>\n",
       "      <td>811.0850</td>\n",
       "    </tr>\n",
       "    <tr>\n",
       "      <th>13829799</th>\n",
       "      <td>16426984</td>\n",
       "      <td>15</td>\n",
       "      <td>NaN</td>\n",
       "      <td>568.5700</td>\n",
       "      <td>2015-03-27</td>\n",
       "      <td>2015</td>\n",
       "      <td>3</td>\n",
       "      <td>27</td>\n",
       "      <td>19</td>\n",
       "      <td>4</td>\n",
       "      <td>652.3167</td>\n",
       "      <td>52.2970</td>\n",
       "      <td>1225.8583</td>\n",
       "    </tr>\n",
       "    <tr>\n",
       "      <th>16530542</th>\n",
       "      <td>15478567</td>\n",
       "      <td>7A</td>\n",
       "      <td>17</td>\n",
       "      <td>315.5700</td>\n",
       "      <td>2015-04-09</td>\n",
       "      <td>2015</td>\n",
       "      <td>4</td>\n",
       "      <td>9</td>\n",
       "      <td>1</td>\n",
       "      <td>3</td>\n",
       "      <td>248.0667</td>\n",
       "      <td>76.3271</td>\n",
       "      <td>641.6208</td>\n",
       "    </tr>\n",
       "    <tr>\n",
       "      <th>18643154</th>\n",
       "      <td>6860856</td>\n",
       "      <td>5C</td>\n",
       "      <td>16</td>\n",
       "      <td>308.4200</td>\n",
       "      <td>2015-05-31</td>\n",
       "      <td>2015</td>\n",
       "      <td>5</td>\n",
       "      <td>31</td>\n",
       "      <td>5</td>\n",
       "      <td>6</td>\n",
       "      <td>304.1833</td>\n",
       "      <td>60.8357</td>\n",
       "      <td>648.7492</td>\n",
       "    </tr>\n",
       "    <tr>\n",
       "      <th>18854980</th>\n",
       "      <td>9245564</td>\n",
       "      <td>15</td>\n",
       "      <td>15</td>\n",
       "      <td>302.7900</td>\n",
       "      <td>2015-05-10</td>\n",
       "      <td>2015</td>\n",
       "      <td>5</td>\n",
       "      <td>10</td>\n",
       "      <td>22</td>\n",
       "      <td>6</td>\n",
       "      <td>441.6667</td>\n",
       "      <td>41.1337</td>\n",
       "      <td>687.0158</td>\n",
       "    </tr>\n",
       "    <tr>\n",
       "      <th>18949729</th>\n",
       "      <td>10208984</td>\n",
       "      <td>4A</td>\n",
       "      <td>7C</td>\n",
       "      <td>335.3000</td>\n",
       "      <td>2015-05-09</td>\n",
       "      <td>2015</td>\n",
       "      <td>5</td>\n",
       "      <td>9</td>\n",
       "      <td>16</td>\n",
       "      <td>5</td>\n",
       "      <td>813.6667</td>\n",
       "      <td>24.7251</td>\n",
       "      <td>874.1083</td>\n",
       "    </tr>\n",
       "  </tbody>\n",
       "</table>\n",
       "</div>"
      ],
      "text/plain": [
       "                id origin_taz destination_taz  trip_distance    pu_date  year  \\\n",
       "943214    19594602         10              15       371.5500 2014-09-16  2014   \n",
       "3620586    5138875         14             NaN       357.2700 2014-11-04  2014   \n",
       "10581718  10072444         16             NaN       330.9000 2015-02-04  2015   \n",
       "11224977  17353914         15              15       378.0100 2015-02-25  2015   \n",
       "11684172  23119455         14              14       350.1500 2015-02-03  2015   \n",
       "13829799  16426984         15             NaN       568.5700 2015-03-27  2015   \n",
       "16530542  15478567         7A              17       315.5700 2015-04-09  2015   \n",
       "18643154   6860856         5C              16       308.4200 2015-05-31  2015   \n",
       "18854980   9245564         15              15       302.7900 2015-05-10  2015   \n",
       "18949729  10208984         4A              7C       335.3000 2015-05-09  2015   \n",
       "\n",
       "          month  day  hour  weekday  duration_min  trip_mph_avg  est_revenue  \n",
       "943214        9   16    10        1      474.2833       47.0035     818.7617  \n",
       "3620586      11    4    23        1      309.5167       69.2570     736.1033  \n",
       "10581718      2    4    18        2      648.5000       30.6153     808.6000  \n",
       "11224977      2   25    15        2      600.7667       37.7528     874.3358  \n",
       "11684172      2    3    18        1      559.3500       37.5597     811.0850  \n",
       "13829799      3   27    19        4      652.3167       52.2970    1225.8583  \n",
       "16530542      4    9     1        3      248.0667       76.3271     641.6208  \n",
       "18643154      5   31     5        6      304.1833       60.8357     648.7492  \n",
       "18854980      5   10    22        6      441.6667       41.1337     687.0158  \n",
       "18949729      5    9    16        5      813.6667       24.7251     874.1083  "
      ]
     },
     "execution_count": 105,
     "metadata": {},
     "output_type": "execute_result"
    }
   ],
   "source": [
    "#Vey long distance trips (>= 300 miles):\n",
    "df_viz[df_viz.trip_distance >= 300].head(10) #45 total"
   ]
  },
  {
   "cell_type": "markdown",
   "metadata": {
    "id": "xWcKvSl6Uemr"
   },
   "source": [
    "\n",
    "# Distribution of trip duration (in minutes)"
   ]
  },
  {
   "cell_type": "code",
   "execution_count": 106,
   "metadata": {
    "colab": {
     "base_uri": "https://localhost:8080/",
     "height": 170
    },
    "id": "rIXqK3bl-oG1",
    "outputId": "ef98ecbf-91a5-4c50-8d45-4465ed92ac76"
   },
   "outputs": [
    {
     "data": {
      "text/plain": [
       "count   30923763.0000\n",
       "mean          20.9923\n",
       "std           16.0846\n",
       "min            0.0000\n",
       "25%           10.8500\n",
       "50%           17.2333\n",
       "75%           26.6833\n",
       "max          959.3000\n",
       "Name: duration_min, dtype: float64"
      ]
     },
     "execution_count": 106,
     "metadata": {},
     "output_type": "execute_result"
    }
   ],
   "source": [
    "#Median trip duration is ~ 17 minutes\n",
    "df_viz.duration_min.describe()"
   ]
  },
  {
   "cell_type": "code",
   "execution_count": 107,
   "metadata": {
    "colab": {
     "base_uri": "https://localhost:8080/",
     "height": 68
    },
    "id": "c4vvZmix-oKL",
    "outputId": "588405f1-bf3a-456b-e9ca-649756c327bf"
   },
   "outputs": [
    {
     "data": {
      "text/plain": [
       "(array([1235100, 5391133, 6311894, 5266617, 3929001, 2777037, 1878313,\n",
       "        1256118,  852522,  589907]),\n",
       " array([ 0.,  5., 10., 15., 20., 25., 30., 35., 40., 45., 50.]))"
      ]
     },
     "execution_count": 107,
     "metadata": {},
     "output_type": "execute_result"
    }
   ],
   "source": [
    "freq, bins_dur = np.histogram(df_viz.duration_min, bins=10, range=(0, 50))\n",
    "freq, bins_dur"
   ]
  },
  {
   "cell_type": "markdown",
   "metadata": {
    "id": "n_BJPLP6UnEO"
   },
   "source": [
    "\n",
    "# Plot of the histograms for trip distance and duration"
   ]
  },
  {
   "cell_type": "code",
   "execution_count": 108,
   "metadata": {
    "colab": {
     "base_uri": "https://localhost:8080/",
     "height": 455
    },
    "id": "oP8xrsLb-oOW",
    "outputId": "fc069325-ee0c-4817-b5a8-497a5a5afd4f"
   },
   "outputs": [
    {
     "data": {
      "image/png": "[encoded data removed]",
      "text/plain": [
       "<Figure size 1152x504 with 2 Axes>"
      ]
     },
     "metadata": {
      "needs_background": "light"
     },
     "output_type": "display_data"
    }
   ],
   "source": [
    "#Here we plot the distribution of trip duration next to the histogram of trip distance for comparison.\n",
    "fig = plt.figure(figsize=(16, 7))\n",
    "\n",
    "formatter = FuncFormatter(millions_format)\n",
    "\n",
    "plt.subplot(1,2,1)\n",
    "ax1 = df_viz.trip_distance.dropna().hist(bins=bins_dist)\n",
    "ax1.yaxis.set_major_formatter(formatter)\n",
    "\n",
    "plt.xlabel('Distance (miles)', fontsize=14, weight='bold')\n",
    "plt.ylabel('Counts', fontsize=14, weight='bold')\n",
    "plt.tick_params(labelsize=14)\n",
    "plt.title('Distribution of Trip Distance', color='navy', fontsize=16)\n",
    "\n",
    "\n",
    "plt.subplot(1,2,2)\n",
    "ax2 = df_viz.duration_min.hist(bins=bins_dur)\n",
    "ax2.yaxis.set_major_formatter(formatter)\n",
    "ax2.set_xticks(bins_dur) #bins are in 5 minutes intervals.\n",
    "\n",
    "plt.xlabel('Duration (minutes)', fontsize=14, weight='bold')\n",
    "plt.ylabel('')\n",
    "plt.tick_params(labelsize=14)\n",
    "plt.title('Distribution of Trip Duration', color='navy', fontsize=16)\n",
    "\n",
    "plt.show()"
   ]
  },
  {
   "cell_type": "markdown",
   "metadata": {
    "id": "7l1i_3NxUubW"
   },
   "source": [
    "# Trip Distance versus Trip Duration"
   ]
  },
  {
   "cell_type": "code",
   "execution_count": 109,
   "metadata": {
    "colab": {
     "base_uri": "https://localhost:8080/",
     "height": 190
    },
    "id": "3yjbwPWi-oRH",
    "outputId": "e09340dd-187d-445d-ae01-ad90c85dd4a1"
   },
   "outputs": [
    {
     "name": "stderr",
     "output_type": "stream",
     "text": [
      "/Users/seshikiran_reddy_kapa/opt/anaconda3/envs/keras_env/lib/python3.6/site-packages/ipykernel_launcher.py:2: FutureWarning: Indexing with multiple keys (implicitly converted to a tuple of keys) will be deprecated, use a list instead.\n",
      "  \n"
     ]
    },
    {
     "data": {
      "text/plain": [
       "array([[ 1.4180704 , 10.56080168],\n",
       "       [ 3.65081289, 17.97784922],\n",
       "       [ 5.09364295, 22.49040273],\n",
       "       ...,\n",
       "       [19.84848465, 44.5050345 ],\n",
       "       [12.19842835, 29.74001046],\n",
       "       [ 2.52056516,  9.87329898]])"
      ]
     },
     "execution_count": 109,
     "metadata": {},
     "output_type": "execute_result"
    }
   ],
   "source": [
    "#Create data to plot with average distance and duration grouped by origin-destination location pairs:\n",
    "df_plt6 = df_viz.groupby(['origin_taz', 'destination_taz'])['trip_distance', 'duration_min'].mean()\n",
    "df_plt6.values"
   ]
  },
  {
   "cell_type": "code",
   "execution_count": 110,
   "metadata": {
    "colab": {
     "base_uri": "https://localhost:8080/",
     "height": 34
    },
    "id": "CCvChlcf9bg9",
    "outputId": "612cff32-c7ba-430a-fdd0-059231c36f70"
   },
   "outputs": [
    {
     "data": {
      "text/plain": [
       "(812, 2)"
      ]
     },
     "execution_count": 110,
     "metadata": {},
     "output_type": "execute_result"
    }
   ],
   "source": [
    "df_plt6.shape #distance, duration (x, y): Fit function to replace 7 incorrect duration entries with estimate."
   ]
  },
  {
   "cell_type": "code",
   "execution_count": 111,
   "metadata": {
    "colab": {
     "base_uri": "https://localhost:8080/",
     "height": 488
    },
    "id": "FRg_NruF_Jo8",
    "outputId": "50982a73-604d-4175-9a09-4d49cf7ce3fd"
   },
   "outputs": [
    {
     "data": {
      "image/png": "[encoded data removed]",
      "text/plain": [
       "<Figure size 1008x504 with 1 Axes>"
      ]
     },
     "metadata": {
      "needs_background": "light"
     },
     "output_type": "display_data"
    }
   ],
   "source": [
    "#Create plot.\n",
    "distance = df_plt6.values[:,:1]\n",
    "duration = df_plt6.values[:,1:]\n",
    "duration_hat = pd.Series(distance.reshape(812,)).apply(lambda x: 10*np.sqrt(x))\n",
    "\n",
    "plt.figure(figsize = (14,7))\n",
    "cmap = sns.dark_palette('cyan', 3, reverse = True, as_cmap=True)\n",
    "\n",
    "plt.scatter(distance, duration, c=distance, cmap= cmap) # it looks like a 10*sqrt(x) power distribution\n",
    "plt.scatter(distance, duration_hat, color='red', s=8)\n",
    "\n",
    "font = {'color': 'red', 'size': 14, 'family': 'Tahoma'}\n",
    "plt.text(31, 40, 'y = 10 * sqrt(x)', fontdict = font) \n",
    "plt.xlim(0, 40)\n",
    "plt.xlabel('Distance', fontsize = 14, weight='bold')\n",
    "plt.ylabel('Duration (Minutes)', fontsize = 14, weight='bold')\n",
    "plt.tick_params(labelsize=14)\n",
    "plt.title('Average Trip Duration and Distance per Origin-Destination Pair', fontsize = 16, color='navy')\n",
    "\n",
    "\n",
    "plt.show()"
   ]
  },
  {
   "cell_type": "code",
   "execution_count": 112,
   "metadata": {
    "colab": {
     "base_uri": "https://localhost:8080/",
     "height": 545
    },
    "id": "boryeLqJ_Jv_",
    "outputId": "2830ebc1-1a6d-44af-a85f-8f8317d5a495"
   },
   "outputs": [
    {
     "data": {
      "text/html": [
       "<div>\n",
       "<style scoped>\n",
       "    .dataframe tbody tr th:only-of-type {\n",
       "        vertical-align: middle;\n",
       "    }\n",
       "\n",
       "    .dataframe tbody tr th {\n",
       "        vertical-align: top;\n",
       "    }\n",
       "\n",
       "    .dataframe thead th {\n",
       "        text-align: right;\n",
       "    }\n",
       "</style>\n",
       "<table border=\"1\" class=\"dataframe\">\n",
       "  <thead>\n",
       "    <tr style=\"text-align: right;\">\n",
       "      <th></th>\n",
       "      <th></th>\n",
       "      <th>trip_distance</th>\n",
       "      <th>duration_min</th>\n",
       "    </tr>\n",
       "    <tr>\n",
       "      <th>origin_taz</th>\n",
       "      <th>destination_taz</th>\n",
       "      <th></th>\n",
       "      <th></th>\n",
       "    </tr>\n",
       "  </thead>\n",
       "  <tbody>\n",
       "    <tr>\n",
       "      <th>13</th>\n",
       "      <th>18</th>\n",
       "      <td>28.0717</td>\n",
       "      <td>53.1685</td>\n",
       "    </tr>\n",
       "    <tr>\n",
       "      <th rowspan=\"2\" valign=\"top\">14</th>\n",
       "      <th>17</th>\n",
       "      <td>27.8808</td>\n",
       "      <td>57.4252</td>\n",
       "    </tr>\n",
       "    <tr>\n",
       "      <th>18</th>\n",
       "      <td>29.9431</td>\n",
       "      <td>62.5171</td>\n",
       "    </tr>\n",
       "    <tr>\n",
       "      <th rowspan=\"2\" valign=\"top\">16</th>\n",
       "      <th>17</th>\n",
       "      <td>31.0922</td>\n",
       "      <td>62.5046</td>\n",
       "    </tr>\n",
       "    <tr>\n",
       "      <th>18</th>\n",
       "      <td>28.3292</td>\n",
       "      <td>45.5679</td>\n",
       "    </tr>\n",
       "    <tr>\n",
       "      <th rowspan=\"4\" valign=\"top\">17</th>\n",
       "      <th>14</th>\n",
       "      <td>27.4876</td>\n",
       "      <td>57.8793</td>\n",
       "    </tr>\n",
       "    <tr>\n",
       "      <th>16</th>\n",
       "      <td>39.4353</td>\n",
       "      <td>81.2769</td>\n",
       "    </tr>\n",
       "    <tr>\n",
       "      <th>7C</th>\n",
       "      <td>25.2298</td>\n",
       "      <td>57.2576</td>\n",
       "    </tr>\n",
       "    <tr>\n",
       "      <th>9</th>\n",
       "      <td>25.5005</td>\n",
       "      <td>46.6947</td>\n",
       "    </tr>\n",
       "    <tr>\n",
       "      <th>7A</th>\n",
       "      <th>17</th>\n",
       "      <td>29.5695</td>\n",
       "      <td>59.6055</td>\n",
       "    </tr>\n",
       "    <tr>\n",
       "      <th>7C</th>\n",
       "      <th>17</th>\n",
       "      <td>26.9832</td>\n",
       "      <td>58.3610</td>\n",
       "    </tr>\n",
       "    <tr>\n",
       "      <th rowspan=\"2\" valign=\"top\">8</th>\n",
       "      <th>17</th>\n",
       "      <td>25.7619</td>\n",
       "      <td>55.7408</td>\n",
       "    </tr>\n",
       "    <tr>\n",
       "      <th>18</th>\n",
       "      <td>29.5376</td>\n",
       "      <td>59.4060</td>\n",
       "    </tr>\n",
       "    <tr>\n",
       "      <th rowspan=\"2\" valign=\"top\">9</th>\n",
       "      <th>17</th>\n",
       "      <td>27.4381</td>\n",
       "      <td>49.9894</td>\n",
       "    </tr>\n",
       "    <tr>\n",
       "      <th>18</th>\n",
       "      <td>36.9205</td>\n",
       "      <td>65.9577</td>\n",
       "    </tr>\n",
       "  </tbody>\n",
       "</table>\n",
       "</div>"
      ],
      "text/plain": [
       "                            trip_distance  duration_min\n",
       "origin_taz destination_taz                             \n",
       "13         18                     28.0717       53.1685\n",
       "14         17                     27.8808       57.4252\n",
       "           18                     29.9431       62.5171\n",
       "16         17                     31.0922       62.5046\n",
       "           18                     28.3292       45.5679\n",
       "17         14                     27.4876       57.8793\n",
       "           16                     39.4353       81.2769\n",
       "           7C                     25.2298       57.2576\n",
       "           9                      25.5005       46.6947\n",
       "7A         17                     29.5695       59.6055\n",
       "7C         17                     26.9832       58.3610\n",
       "8          17                     25.7619       55.7408\n",
       "           18                     29.5376       59.4060\n",
       "9          17                     27.4381       49.9894\n",
       "           18                     36.9205       65.9577"
      ]
     },
     "execution_count": 112,
     "metadata": {},
     "output_type": "execute_result"
    }
   ],
   "source": [
    "\n",
    "df_plt6[df_plt6.trip_distance > 25] #origin and destination pairs whose distance between them is greater than 25 miles"
   ]
  },
  {
   "cell_type": "markdown",
   "metadata": {
    "id": "_g6ZLeGJU3qa"
   },
   "source": [
    "\n",
    "# Distribution of the average speed per trip"
   ]
  },
  {
   "cell_type": "code",
   "execution_count": 113,
   "metadata": {
    "colab": {
     "base_uri": "https://localhost:8080/",
     "height": 170
    },
    "id": "alkvqMWw_JzQ",
    "outputId": "61563175-24e7-4bab-a1bb-80cf3dad2f01"
   },
   "outputs": [
    {
     "data": {
      "text/plain": [
       "count   30898897.0000\n",
       "mean          13.5071\n",
       "std           11.7569\n",
       "min            0.0000\n",
       "25%            8.4098\n",
       "50%           11.4488\n",
       "75%           16.2667\n",
       "max        22548.0000\n",
       "Name: trip_mph_avg, dtype: float64"
      ]
     },
     "execution_count": 113,
     "metadata": {},
     "output_type": "execute_result"
    }
   ],
   "source": [
    "#Note: this uses processed data (24904 (0.08%) entries with null or zero in duration resulted in null value for speed)\n",
    "df_viz.trip_mph_avg.describe()"
   ]
  },
  {
   "cell_type": "code",
   "execution_count": 114,
   "metadata": {
    "colab": {
     "base_uri": "https://localhost:8080/",
     "height": 156
    },
    "id": "-pbbaVED_J28",
    "outputId": "7a06083c-10af-47fb-ae70-de2f1a93afdd"
   },
   "outputs": [
    {
     "data": {
      "text/plain": [
       "(array([ 1313433, 10564782,  9861693,  4248216,  2152654,  1281911,\n",
       "          767746,   434298,   196149,    61858]),\n",
       " array([ 0.,  5., 10., 15., 20., 25., 30., 35., 40., 45., 50.]))"
      ]
     },
     "execution_count": 114,
     "metadata": {},
     "output_type": "execute_result"
    }
   ],
   "source": [
    "freq, bins = np.histogram(df_viz.trip_mph_avg, bins=10, range=(0, 50))\n",
    "freq, bins"
   ]
  },
  {
   "cell_type": "code",
   "execution_count": 115,
   "metadata": {
    "colab": {
     "base_uri": "https://localhost:8080/",
     "height": 308
    },
    "id": "ElE-Wi-y_J8g",
    "outputId": "39f02d34-55e1-445c-db13-e553079af314"
   },
   "outputs": [
    {
     "data": {
      "image/png": "[encoded data removed]",
      "text/plain": [
       "<Figure size 432x288 with 1 Axes>"
      ]
     },
     "metadata": {
      "needs_background": "light"
     },
     "output_type": "display_data"
    }
   ],
   "source": [
    "\n",
    "fig, ax = plt.subplots(1,1)\n",
    "\n",
    "formatter = FuncFormatter(millions_format)\n",
    "\n",
    "ax.hist(df_viz.trip_mph_avg.dropna(), bins)\n",
    "ax.yaxis.set_major_formatter(formatter)\n",
    "\n",
    "plt.xlabel('Average Speed (mph)', fontsize=14, weight='bold')\n",
    "plt.ylabel('Counts', fontsize=14, weight='bold')\n",
    "plt.tick_params(labelsize=14)\n",
    "plt.title('Distribution of Average Speed', color='navy', fontsize=16)\n",
    "plt.show()"
   ]
  },
  {
   "cell_type": "code",
   "execution_count": 116,
   "metadata": {
    "colab": {
     "base_uri": "https://localhost:8080/",
     "height": 136
    },
    "id": "dNU2IV7gAcdF",
    "outputId": "6d91aacd-48fa-48ae-caec-8d28483cbe4e"
   },
   "outputs": [
    {
     "data": {
      "text/plain": [
       "hour\n",
       "0   14.3002\n",
       "1   15.3747\n",
       "2   16.1274\n",
       "3   16.6125\n",
       "4   19.5019\n",
       "Name: trip_mph_avg, dtype: float64"
      ]
     },
     "execution_count": 116,
     "metadata": {},
     "output_type": "execute_result"
    }
   ],
   "source": [
    "#Median trip average speed during weekdays:\n",
    "df_plt7 = df_viz[df_viz.weekday < 5].groupby('hour')['trip_mph_avg'].median()\n",
    "df_plt7.head()"
   ]
  },
  {
   "cell_type": "code",
   "execution_count": 117,
   "metadata": {
    "colab": {
     "base_uri": "https://localhost:8080/",
     "height": 417
    },
    "id": "EnFKrzhtAcgM",
    "outputId": "5edd1f6f-c311-4c50-f031-97ec6e62f42f"
   },
   "outputs": [
    {
     "data": {
      "image/png": "[encoded data removed]",
      "text/plain": [
       "<Figure size 1008x432 with 1 Axes>"
      ]
     },
     "metadata": {
      "needs_background": "light"
     },
     "output_type": "display_data"
    }
   ],
   "source": [
    "#Plot Peak Hour Median Trip Average Speed During Weekdays:\n",
    "\n",
    "plt.figure(figsize =(14, 6))\n",
    "kwargs = {'fontsize': 12, 'ha':'center', 'va': 'top', 'color': 'navy', 'weight': 'bold'}\n",
    "\n",
    "#weekdays only: rush hour traffic 7-9 + 16-18\n",
    "ax = df_plt7.plot(marker = 'o', color = 'navy')\n",
    "\n",
    "for x, y in zip(df_plt7.index, df_plt7.values):\n",
    "    ax.annotate('{:.0f}'.format(y), xy=(x, y), xytext= (0, 24), textcoords='offset points', **kwargs)\n",
    "\n",
    "\n",
    "ax.get_yaxis().set_ticks([]) #hide tick labels on y-axis\n",
    "plt.fill([7,9,9,7], [0,0,30,30], 'cyan', alpha=0.2)\n",
    "plt.fill([16,18,18,16], [0,0,30,30], 'cyan', alpha=0.2)\n",
    "plt.xticks(range(24))\n",
    "plt.xlabel('Hour', fontsize=14)\n",
    "plt.ylabel('Trip Average Speed', fontsize=14)\n",
    "plt.ylim(5, 30)\n",
    "plt.xlim(-0.5, 23.5)\n",
    "plt.tick_params(labelsize=14)\n",
    "plt.title('Weekday Average Speed per Hour of the Day - Highlight for Peak Traffic', fontsize = 16, color='navy')\n",
    "plt.show()"
   ]
  },
  {
   "cell_type": "code",
   "execution_count": 118,
   "metadata": {
    "id": "Koc7BcvSAcmC"
   },
   "outputs": [],
   "source": [
    "\n",
    "def is_peak_hour(x):\n",
    "    \"\"\" \n",
    "    Function that takes an array(x) with two integers representing \n",
    "    hour of the day and weekday, respectively, and\n",
    "    returns 1 if it's peak hour as defined, 0 otherwise.\n",
    "    \"\"\"\n",
    "    return 1 if x[0] in (7,8,9,16,17,18) and x[1] < 5 else 0 #total peak hour periods = 6h"
   ]
  },
  {
   "cell_type": "code",
   "execution_count": 119,
   "metadata": {
    "id": "nJrAmwwzAcrl"
   },
   "outputs": [],
   "source": [
    "df_viz['peak_hour'] = pd.Series(map(lambda x: is_peak_hour(x), df_viz.loc[:, ['hour', 'weekday']].values))"
   ]
  },
  {
   "cell_type": "code",
   "execution_count": 120,
   "metadata": {
    "colab": {
     "base_uri": "https://localhost:8080/",
     "height": 309
    },
    "id": "IqbISFQ6Acpb",
    "outputId": "feaf4939-d211-4385-a779-1a38b17a0292"
   },
   "outputs": [
    {
     "data": {
      "text/html": [
       "<div>\n",
       "<style scoped>\n",
       "    .dataframe tbody tr th:only-of-type {\n",
       "        vertical-align: middle;\n",
       "    }\n",
       "\n",
       "    .dataframe tbody tr th {\n",
       "        vertical-align: top;\n",
       "    }\n",
       "\n",
       "    .dataframe thead th {\n",
       "        text-align: right;\n",
       "    }\n",
       "</style>\n",
       "<table border=\"1\" class=\"dataframe\">\n",
       "  <thead>\n",
       "    <tr style=\"text-align: right;\">\n",
       "      <th></th>\n",
       "      <th>id</th>\n",
       "      <th>origin_taz</th>\n",
       "      <th>destination_taz</th>\n",
       "      <th>trip_distance</th>\n",
       "      <th>pu_date</th>\n",
       "      <th>year</th>\n",
       "      <th>month</th>\n",
       "      <th>day</th>\n",
       "      <th>hour</th>\n",
       "      <th>weekday</th>\n",
       "      <th>duration_min</th>\n",
       "      <th>trip_mph_avg</th>\n",
       "      <th>est_revenue</th>\n",
       "      <th>peak_hour</th>\n",
       "    </tr>\n",
       "  </thead>\n",
       "  <tbody>\n",
       "    <tr>\n",
       "      <th>0</th>\n",
       "      <td>252581</td>\n",
       "      <td>7C</td>\n",
       "      <td>6A</td>\n",
       "      <td>4.2500</td>\n",
       "      <td>2014-09-01</td>\n",
       "      <td>2014</td>\n",
       "      <td>9</td>\n",
       "      <td>1</td>\n",
       "      <td>9</td>\n",
       "      <td>0</td>\n",
       "      <td>15.1833</td>\n",
       "      <td>16.7947</td>\n",
       "      <td>15.3017</td>\n",
       "      <td>1.0000</td>\n",
       "    </tr>\n",
       "    <tr>\n",
       "      <th>1</th>\n",
       "      <td>252582</td>\n",
       "      <td>7B</td>\n",
       "      <td>15</td>\n",
       "      <td>10.1700</td>\n",
       "      <td>2014-09-01</td>\n",
       "      <td>2014</td>\n",
       "      <td>9</td>\n",
       "      <td>1</td>\n",
       "      <td>18</td>\n",
       "      <td>0</td>\n",
       "      <td>34.0833</td>\n",
       "      <td>17.9032</td>\n",
       "      <td>32.2767</td>\n",
       "      <td>1.0000</td>\n",
       "    </tr>\n",
       "    <tr>\n",
       "      <th>2</th>\n",
       "      <td>252583</td>\n",
       "      <td>11</td>\n",
       "      <td>2A</td>\n",
       "      <td>4.0200</td>\n",
       "      <td>2014-09-01</td>\n",
       "      <td>2014</td>\n",
       "      <td>9</td>\n",
       "      <td>1</td>\n",
       "      <td>17</td>\n",
       "      <td>0</td>\n",
       "      <td>17.1000</td>\n",
       "      <td>14.1053</td>\n",
       "      <td>15.5700</td>\n",
       "      <td>1.0000</td>\n",
       "    </tr>\n",
       "    <tr>\n",
       "      <th>3</th>\n",
       "      <td>252584</td>\n",
       "      <td>3B</td>\n",
       "      <td>4A</td>\n",
       "      <td>1.4600</td>\n",
       "      <td>2014-09-01</td>\n",
       "      <td>2014</td>\n",
       "      <td>9</td>\n",
       "      <td>1</td>\n",
       "      <td>13</td>\n",
       "      <td>0</td>\n",
       "      <td>6.5333</td>\n",
       "      <td>13.4082</td>\n",
       "      <td>8.0000</td>\n",
       "      <td>0.0000</td>\n",
       "    </tr>\n",
       "    <tr>\n",
       "      <th>4</th>\n",
       "      <td>252585</td>\n",
       "      <td>2A</td>\n",
       "      <td>10</td>\n",
       "      <td>8.3100</td>\n",
       "      <td>2014-09-01</td>\n",
       "      <td>2014</td>\n",
       "      <td>9</td>\n",
       "      <td>1</td>\n",
       "      <td>14</td>\n",
       "      <td>0</td>\n",
       "      <td>26.2833</td>\n",
       "      <td>18.9702</td>\n",
       "      <td>26.2917</td>\n",
       "      <td>0.0000</td>\n",
       "    </tr>\n",
       "  </tbody>\n",
       "</table>\n",
       "</div>"
      ],
      "text/plain": [
       "       id origin_taz destination_taz  trip_distance    pu_date  year  month  \\\n",
       "0  252581         7C              6A         4.2500 2014-09-01  2014      9   \n",
       "1  252582         7B              15        10.1700 2014-09-01  2014      9   \n",
       "2  252583         11              2A         4.0200 2014-09-01  2014      9   \n",
       "3  252584         3B              4A         1.4600 2014-09-01  2014      9   \n",
       "4  252585         2A              10         8.3100 2014-09-01  2014      9   \n",
       "\n",
       "   day  hour  weekday  duration_min  trip_mph_avg  est_revenue  peak_hour  \n",
       "0    1     9        0       15.1833       16.7947      15.3017     1.0000  \n",
       "1    1    18        0       34.0833       17.9032      32.2767     1.0000  \n",
       "2    1    17        0       17.1000       14.1053      15.5700     1.0000  \n",
       "3    1    13        0        6.5333       13.4082       8.0000     0.0000  \n",
       "4    1    14        0       26.2833       18.9702      26.2917     0.0000  "
      ]
     },
     "execution_count": 120,
     "metadata": {},
     "output_type": "execute_result"
    }
   ],
   "source": [
    "df_viz.head()"
   ]
  },
  {
   "cell_type": "code",
   "execution_count": 121,
   "metadata": {
    "colab": {
     "base_uri": "https://localhost:8080/",
     "height": 507
    },
    "id": "9zZC27TnAcj0",
    "outputId": "06b1626a-c084-4f85-8bc2-96d8e3a5a4b6"
   },
   "outputs": [
    {
     "name": "stderr",
     "output_type": "stream",
     "text": [
      "/Users/seshikiran_reddy_kapa/opt/anaconda3/envs/keras_env/lib/python3.6/site-packages/seaborn/_decorators.py:43: FutureWarning: Pass the following variable as a keyword arg: x. From version 0.12, the only valid positional argument will be `data`, and passing other arguments without an explicit keyword will result in an error or misinterpretation.\n",
      "  FutureWarning\n",
      "/Users/seshikiran_reddy_kapa/opt/anaconda3/envs/keras_env/lib/python3.6/site-packages/matplotlib/legend.py:1364: UserWarning: You have mixed positional and keyword arguments, some input may be discarded.\n",
      "  warnings.warn(\"You have mixed positional and keyword \"\n"
     ]
    },
    {
     "data": {
      "image/png": "[encoded data removed]",
      "text/plain": [
       "<Figure size 1008x432 with 1 Axes>"
      ]
     },
     "metadata": {
      "needs_background": "light"
     },
     "output_type": "display_data"
    }
   ],
   "source": [
    "#Plot the total number of trips per month during peak hours and off-peak hours.\n",
    "#Count for peak hours must represent more than 25% (6h) of the total rides to be more significant than non-peak hours.\n",
    "plt.figure(figsize = (14, 6))\n",
    "formatter = FuncFormatter(millions_format)\n",
    "\n",
    "#to add labels and operate on data, use pivot instead of countplot directly with hue.\n",
    "ax = sns.countplot(df_viz['month'], hue = df_viz['peak_hour'])\n",
    "ax.set_xticklabels(month_labels)\n",
    "ax.yaxis.set_major_formatter(formatter)\n",
    "\n",
    "handles, labels = ax.get_legend_handles_labels() #will cause the warning msg that can be ignored \n",
    "plt.legend(handles, labels=['Peak', 'Off Peak'], loc='best', fontsize=13)\n",
    "plt.tick_params(labelsize=13)\n",
    "plt.xlabel('Month (2014 - 2015)', fontsize = 15, weight='bold')\n",
    "plt.ylabel('Total Trips', fontsize = 15, weight='bold')\n",
    "plt.title('Demand of Rides per Month - Peak versus Off-Peak Hours', fontsize = 17, color='navy')\n",
    "plt.show()"
   ]
  },
  {
   "cell_type": "markdown",
   "metadata": {
    "id": "Satd1dFMVF77"
   },
   "source": [
    "# Data Modeling (to be continued...)\n",
    "# Join Weather Data."
   ]
  },
  {
   "cell_type": "code",
   "execution_count": 122,
   "metadata": {
    "id": "FluOVlEjBmRT"
   },
   "outputs": [],
   "source": [
    "#Weather Data Key (Central Park, NYC Station):\n",
    "#PRCP = precipitation in inches\n",
    "#SNWD = snow depth in inches\n",
    "#SNOW = snowfall in inches\n",
    "#TMAX = max temperature in F (minimum of 2F for entire period from 2014 to 2015)\n",
    "#TMIN = min temperature in F (maximum of 97F for the entire period from 2014 to 2015)\n",
    "#AWND = average daily wind speed in MPH"
   ]
  },
  {
   "cell_type": "code",
   "execution_count": 123,
   "metadata": {
    "id": "IUHvi5IaBmdY"
   },
   "outputs": [
    {
     "ename": "FileNotFoundError",
     "evalue": "[Errno 2] No such file or directory: 'weather.csv'",
     "output_type": "error",
     "traceback": [
      "\u001b[0;31m---------------------------------------------------------------------------\u001b[0m",
      "\u001b[0;31mFileNotFoundError\u001b[0m                         Traceback (most recent call last)",
      "\u001b[0;32m<ipython-input-123-290f57d26f3a>\u001b[0m in \u001b[0;36m<module>\u001b[0;34m\u001b[0m\n\u001b[1;32m      1\u001b[0m \u001b[0;31m#Refer to data source. Use integrated weather data to forecast demand for rides.\u001b[0m\u001b[0;34m\u001b[0m\u001b[0;34m\u001b[0m\u001b[0;34m\u001b[0m\u001b[0m\n\u001b[1;32m      2\u001b[0m weather = pd.read_csv('weather.csv', na_values = -9999, parse_dates = ['DATE'], \\\n\u001b[0;32m----> 3\u001b[0;31m                       usecols = [u'DATE', u'PRCP', u'SNWD', u'SNOW', u'TMAX', u'TMIN', u'AWND'])\n\u001b[0m",
      "\u001b[0;32m~/opt/anaconda3/envs/keras_env/lib/python3.6/site-packages/pandas/io/parsers.py\u001b[0m in \u001b[0;36mread_csv\u001b[0;34m(filepath_or_buffer, sep, delimiter, header, names, index_col, usecols, squeeze, prefix, mangle_dupe_cols, dtype, engine, converters, true_values, false_values, skipinitialspace, skiprows, skipfooter, nrows, na_values, keep_default_na, na_filter, verbose, skip_blank_lines, parse_dates, infer_datetime_format, keep_date_col, date_parser, dayfirst, cache_dates, iterator, chunksize, compression, thousands, decimal, lineterminator, quotechar, quoting, doublequote, escapechar, comment, encoding, dialect, error_bad_lines, warn_bad_lines, delim_whitespace, low_memory, memory_map, float_precision)\u001b[0m\n\u001b[1;32m    686\u001b[0m     )\n\u001b[1;32m    687\u001b[0m \u001b[0;34m\u001b[0m\u001b[0m\n\u001b[0;32m--> 688\u001b[0;31m     \u001b[0;32mreturn\u001b[0m \u001b[0m_read\u001b[0m\u001b[0;34m(\u001b[0m\u001b[0mfilepath_or_buffer\u001b[0m\u001b[0;34m,\u001b[0m \u001b[0mkwds\u001b[0m\u001b[0;34m)\u001b[0m\u001b[0;34m\u001b[0m\u001b[0;34m\u001b[0m\u001b[0m\n\u001b[0m\u001b[1;32m    689\u001b[0m \u001b[0;34m\u001b[0m\u001b[0m\n\u001b[1;32m    690\u001b[0m \u001b[0;34m\u001b[0m\u001b[0m\n",
      "\u001b[0;32m~/opt/anaconda3/envs/keras_env/lib/python3.6/site-packages/pandas/io/parsers.py\u001b[0m in \u001b[0;36m_read\u001b[0;34m(filepath_or_buffer, kwds)\u001b[0m\n\u001b[1;32m    452\u001b[0m \u001b[0;34m\u001b[0m\u001b[0m\n\u001b[1;32m    453\u001b[0m     \u001b[0;31m# Create the parser.\u001b[0m\u001b[0;34m\u001b[0m\u001b[0;34m\u001b[0m\u001b[0;34m\u001b[0m\u001b[0m\n\u001b[0;32m--> 454\u001b[0;31m     \u001b[0mparser\u001b[0m \u001b[0;34m=\u001b[0m \u001b[0mTextFileReader\u001b[0m\u001b[0;34m(\u001b[0m\u001b[0mfp_or_buf\u001b[0m\u001b[0;34m,\u001b[0m \u001b[0;34m**\u001b[0m\u001b[0mkwds\u001b[0m\u001b[0;34m)\u001b[0m\u001b[0;34m\u001b[0m\u001b[0;34m\u001b[0m\u001b[0m\n\u001b[0m\u001b[1;32m    455\u001b[0m \u001b[0;34m\u001b[0m\u001b[0m\n\u001b[1;32m    456\u001b[0m     \u001b[0;32mif\u001b[0m \u001b[0mchunksize\u001b[0m \u001b[0;32mor\u001b[0m \u001b[0miterator\u001b[0m\u001b[0;34m:\u001b[0m\u001b[0;34m\u001b[0m\u001b[0;34m\u001b[0m\u001b[0m\n",
      "\u001b[0;32m~/opt/anaconda3/envs/keras_env/lib/python3.6/site-packages/pandas/io/parsers.py\u001b[0m in \u001b[0;36m__init__\u001b[0;34m(self, f, engine, **kwds)\u001b[0m\n\u001b[1;32m    946\u001b[0m             \u001b[0mself\u001b[0m\u001b[0;34m.\u001b[0m\u001b[0moptions\u001b[0m\u001b[0;34m[\u001b[0m\u001b[0;34m\"has_index_names\"\u001b[0m\u001b[0;34m]\u001b[0m \u001b[0;34m=\u001b[0m \u001b[0mkwds\u001b[0m\u001b[0;34m[\u001b[0m\u001b[0;34m\"has_index_names\"\u001b[0m\u001b[0;34m]\u001b[0m\u001b[0;34m\u001b[0m\u001b[0;34m\u001b[0m\u001b[0m\n\u001b[1;32m    947\u001b[0m \u001b[0;34m\u001b[0m\u001b[0m\n\u001b[0;32m--> 948\u001b[0;31m         \u001b[0mself\u001b[0m\u001b[0;34m.\u001b[0m\u001b[0m_make_engine\u001b[0m\u001b[0;34m(\u001b[0m\u001b[0mself\u001b[0m\u001b[0;34m.\u001b[0m\u001b[0mengine\u001b[0m\u001b[0;34m)\u001b[0m\u001b[0;34m\u001b[0m\u001b[0;34m\u001b[0m\u001b[0m\n\u001b[0m\u001b[1;32m    949\u001b[0m \u001b[0;34m\u001b[0m\u001b[0m\n\u001b[1;32m    950\u001b[0m     \u001b[0;32mdef\u001b[0m \u001b[0mclose\u001b[0m\u001b[0;34m(\u001b[0m\u001b[0mself\u001b[0m\u001b[0;34m)\u001b[0m\u001b[0;34m:\u001b[0m\u001b[0;34m\u001b[0m\u001b[0;34m\u001b[0m\u001b[0m\n",
      "\u001b[0;32m~/opt/anaconda3/envs/keras_env/lib/python3.6/site-packages/pandas/io/parsers.py\u001b[0m in \u001b[0;36m_make_engine\u001b[0;34m(self, engine)\u001b[0m\n\u001b[1;32m   1178\u001b[0m     \u001b[0;32mdef\u001b[0m \u001b[0m_make_engine\u001b[0m\u001b[0;34m(\u001b[0m\u001b[0mself\u001b[0m\u001b[0;34m,\u001b[0m \u001b[0mengine\u001b[0m\u001b[0;34m=\u001b[0m\u001b[0;34m\"c\"\u001b[0m\u001b[0;34m)\u001b[0m\u001b[0;34m:\u001b[0m\u001b[0;34m\u001b[0m\u001b[0;34m\u001b[0m\u001b[0m\n\u001b[1;32m   1179\u001b[0m         \u001b[0;32mif\u001b[0m \u001b[0mengine\u001b[0m \u001b[0;34m==\u001b[0m \u001b[0;34m\"c\"\u001b[0m\u001b[0;34m:\u001b[0m\u001b[0;34m\u001b[0m\u001b[0;34m\u001b[0m\u001b[0m\n\u001b[0;32m-> 1180\u001b[0;31m             \u001b[0mself\u001b[0m\u001b[0;34m.\u001b[0m\u001b[0m_engine\u001b[0m \u001b[0;34m=\u001b[0m \u001b[0mCParserWrapper\u001b[0m\u001b[0;34m(\u001b[0m\u001b[0mself\u001b[0m\u001b[0;34m.\u001b[0m\u001b[0mf\u001b[0m\u001b[0;34m,\u001b[0m \u001b[0;34m**\u001b[0m\u001b[0mself\u001b[0m\u001b[0;34m.\u001b[0m\u001b[0moptions\u001b[0m\u001b[0;34m)\u001b[0m\u001b[0;34m\u001b[0m\u001b[0;34m\u001b[0m\u001b[0m\n\u001b[0m\u001b[1;32m   1181\u001b[0m         \u001b[0;32melse\u001b[0m\u001b[0;34m:\u001b[0m\u001b[0;34m\u001b[0m\u001b[0;34m\u001b[0m\u001b[0m\n\u001b[1;32m   1182\u001b[0m             \u001b[0;32mif\u001b[0m \u001b[0mengine\u001b[0m \u001b[0;34m==\u001b[0m \u001b[0;34m\"python\"\u001b[0m\u001b[0;34m:\u001b[0m\u001b[0;34m\u001b[0m\u001b[0;34m\u001b[0m\u001b[0m\n",
      "\u001b[0;32m~/opt/anaconda3/envs/keras_env/lib/python3.6/site-packages/pandas/io/parsers.py\u001b[0m in \u001b[0;36m__init__\u001b[0;34m(self, src, **kwds)\u001b[0m\n\u001b[1;32m   2008\u001b[0m         \u001b[0mkwds\u001b[0m\u001b[0;34m[\u001b[0m\u001b[0;34m\"usecols\"\u001b[0m\u001b[0;34m]\u001b[0m \u001b[0;34m=\u001b[0m \u001b[0mself\u001b[0m\u001b[0;34m.\u001b[0m\u001b[0musecols\u001b[0m\u001b[0;34m\u001b[0m\u001b[0;34m\u001b[0m\u001b[0m\n\u001b[1;32m   2009\u001b[0m \u001b[0;34m\u001b[0m\u001b[0m\n\u001b[0;32m-> 2010\u001b[0;31m         \u001b[0mself\u001b[0m\u001b[0;34m.\u001b[0m\u001b[0m_reader\u001b[0m \u001b[0;34m=\u001b[0m \u001b[0mparsers\u001b[0m\u001b[0;34m.\u001b[0m\u001b[0mTextReader\u001b[0m\u001b[0;34m(\u001b[0m\u001b[0msrc\u001b[0m\u001b[0;34m,\u001b[0m \u001b[0;34m**\u001b[0m\u001b[0mkwds\u001b[0m\u001b[0;34m)\u001b[0m\u001b[0;34m\u001b[0m\u001b[0;34m\u001b[0m\u001b[0m\n\u001b[0m\u001b[1;32m   2011\u001b[0m         \u001b[0mself\u001b[0m\u001b[0;34m.\u001b[0m\u001b[0munnamed_cols\u001b[0m \u001b[0;34m=\u001b[0m \u001b[0mself\u001b[0m\u001b[0;34m.\u001b[0m\u001b[0m_reader\u001b[0m\u001b[0;34m.\u001b[0m\u001b[0munnamed_cols\u001b[0m\u001b[0;34m\u001b[0m\u001b[0;34m\u001b[0m\u001b[0m\n\u001b[1;32m   2012\u001b[0m \u001b[0;34m\u001b[0m\u001b[0m\n",
      "\u001b[0;32mpandas/_libs/parsers.pyx\u001b[0m in \u001b[0;36mpandas._libs.parsers.TextReader.__cinit__\u001b[0;34m()\u001b[0m\n",
      "\u001b[0;32mpandas/_libs/parsers.pyx\u001b[0m in \u001b[0;36mpandas._libs.parsers.TextReader._setup_parser_source\u001b[0;34m()\u001b[0m\n",
      "\u001b[0;31mFileNotFoundError\u001b[0m: [Errno 2] No such file or directory: 'weather.csv'"
     ]
    }
   ],
   "source": [
    "#Refer to data source. Use integrated weather data to forecast demand for rides.\n",
    "weather = pd.read_csv('weather.csv', na_values = -9999, parse_dates = ['DATE'], \\\n",
    "                      usecols = [u'DATE', u'PRCP', u'SNWD', u'SNOW', u'TMAX', u'TMIN', u'AWND'])"
   ]
  },
  {
   "cell_type": "code",
   "execution_count": 124,
   "metadata": {
    "colab": {
     "base_uri": "https://localhost:8080/",
     "height": 204
    },
    "id": "csZC2zy0Bmgh",
    "outputId": "d61e0eb6-ee3a-4cb6-de59-1041213e58f2"
   },
   "outputs": [
    {
     "ename": "NameError",
     "evalue": "name 'weather' is not defined",
     "output_type": "error",
     "traceback": [
      "\u001b[0;31m---------------------------------------------------------------------------\u001b[0m",
      "\u001b[0;31mNameError\u001b[0m                                 Traceback (most recent call last)",
      "\u001b[0;32m<ipython-input-124-fff991049d17>\u001b[0m in \u001b[0;36m<module>\u001b[0;34m\u001b[0m\n\u001b[0;32m----> 1\u001b[0;31m \u001b[0mweather\u001b[0m\u001b[0;34m.\u001b[0m\u001b[0mcolumns\u001b[0m \u001b[0;34m=\u001b[0m \u001b[0;34m[\u001b[0m\u001b[0;34m'pu_date'\u001b[0m\u001b[0;34m,\u001b[0m \u001b[0;34m'prcp'\u001b[0m\u001b[0;34m,\u001b[0m \u001b[0;34m'snwd'\u001b[0m\u001b[0;34m,\u001b[0m \u001b[0;34m'snow'\u001b[0m\u001b[0;34m,\u001b[0m \u001b[0;34m'tmax'\u001b[0m\u001b[0;34m,\u001b[0m \u001b[0;34m'tmin'\u001b[0m\u001b[0;34m,\u001b[0m \u001b[0;34m'awnd'\u001b[0m\u001b[0;34m]\u001b[0m\u001b[0;34m\u001b[0m\u001b[0;34m\u001b[0m\u001b[0m\n\u001b[0m\u001b[1;32m      2\u001b[0m \u001b[0mweather\u001b[0m\u001b[0;34m.\u001b[0m\u001b[0mhead\u001b[0m\u001b[0;34m(\u001b[0m\u001b[0;34m)\u001b[0m\u001b[0;34m\u001b[0m\u001b[0;34m\u001b[0m\u001b[0m\n",
      "\u001b[0;31mNameError\u001b[0m: name 'weather' is not defined"
     ]
    }
   ],
   "source": [
    "weather.columns = ['pu_date', 'prcp', 'snwd', 'snow', 'tmax', 'tmin', 'awnd']\n",
    "weather.head()"
   ]
  },
  {
   "cell_type": "code",
   "execution_count": null,
   "metadata": {
    "colab": {
     "base_uri": "https://localhost:8080/",
     "height": 85
    },
    "id": "T3dfkCtYBmnK",
    "outputId": "bad8e2d9-a83b-43c7-99c4-e4ead9d75d78"
   },
   "outputs": [
    {
     "data": {
      "text/plain": [
       "24   7.6000\n",
       "25      nan\n",
       "26   7.8000\n",
       "Name: awnd, dtype: float64"
      ]
     },
     "execution_count": 124,
     "metadata": {
      "tags": []
     },
     "output_type": "execute_result"
    }
   ],
   "source": [
    "#There are some nan missing values for wind speed:\n",
    "weather.awnd[24:27]"
   ]
  },
  {
   "cell_type": "code",
   "execution_count": null,
   "metadata": {
    "id": "iWDqhe3bBmqj"
   },
   "outputs": [],
   "source": [
    "#Merge weather data\n",
    "#avoiding unncessary sorting by key improves perfomance\n",
    "df_merged = pd.merge(df_uber, weather, on='pu_date', how='left', sort=False)"
   ]
  },
  {
   "cell_type": "code",
   "execution_count": null,
   "metadata": {
    "colab": {
     "base_uri": "https://localhost:8080/",
     "height": 309
    },
    "id": "twsTQXOgBmt-",
    "outputId": "bfe6c7bd-6750-414a-9e76-0eb10ba5c311"
   },
   "outputs": [
    {
     "data": {
      "text/html": [
       "<div>\n",
       "<style scoped>\n",
       "    .dataframe tbody tr th:only-of-type {\n",
       "        vertical-align: middle;\n",
       "    }\n",
       "\n",
       "    .dataframe tbody tr th {\n",
       "        vertical-align: top;\n",
       "    }\n",
       "\n",
       "    .dataframe thead th {\n",
       "        text-align: right;\n",
       "    }\n",
       "</style>\n",
       "<table border=\"1\" class=\"dataframe\">\n",
       "  <thead>\n",
       "    <tr style=\"text-align: right;\">\n",
       "      <th></th>\n",
       "      <th>id</th>\n",
       "      <th>origin_taz</th>\n",
       "      <th>destination_taz</th>\n",
       "      <th>trip_distance</th>\n",
       "      <th>pu_date</th>\n",
       "      <th>year</th>\n",
       "      <th>month</th>\n",
       "      <th>day</th>\n",
       "      <th>hour</th>\n",
       "      <th>weekday</th>\n",
       "      <th>duration_min</th>\n",
       "      <th>trip_mph_avg</th>\n",
       "      <th>est_revenue</th>\n",
       "      <th>prcp</th>\n",
       "      <th>snwd</th>\n",
       "      <th>snow</th>\n",
       "      <th>tmax</th>\n",
       "      <th>tmin</th>\n",
       "      <th>awnd</th>\n",
       "    </tr>\n",
       "  </thead>\n",
       "  <tbody>\n",
       "    <tr>\n",
       "      <th>0</th>\n",
       "      <td>252581</td>\n",
       "      <td>7C</td>\n",
       "      <td>6A</td>\n",
       "      <td>4.2500</td>\n",
       "      <td>2014-09-01</td>\n",
       "      <td>2014</td>\n",
       "      <td>9</td>\n",
       "      <td>1</td>\n",
       "      <td>9</td>\n",
       "      <td>0</td>\n",
       "      <td>15.1833</td>\n",
       "      <td>16.7947</td>\n",
       "      <td>15.3017</td>\n",
       "      <td>0.0000</td>\n",
       "      <td>0.0000</td>\n",
       "      <td>0.0000</td>\n",
       "      <td>88</td>\n",
       "      <td>75</td>\n",
       "      <td>2.9000</td>\n",
       "    </tr>\n",
       "    <tr>\n",
       "      <th>1</th>\n",
       "      <td>252582</td>\n",
       "      <td>7B</td>\n",
       "      <td>15</td>\n",
       "      <td>10.1700</td>\n",
       "      <td>2014-09-01</td>\n",
       "      <td>2014</td>\n",
       "      <td>9</td>\n",
       "      <td>1</td>\n",
       "      <td>18</td>\n",
       "      <td>0</td>\n",
       "      <td>34.0833</td>\n",
       "      <td>17.9032</td>\n",
       "      <td>32.2767</td>\n",
       "      <td>0.0000</td>\n",
       "      <td>0.0000</td>\n",
       "      <td>0.0000</td>\n",
       "      <td>88</td>\n",
       "      <td>75</td>\n",
       "      <td>2.9000</td>\n",
       "    </tr>\n",
       "    <tr>\n",
       "      <th>2</th>\n",
       "      <td>252583</td>\n",
       "      <td>11</td>\n",
       "      <td>2A</td>\n",
       "      <td>4.0200</td>\n",
       "      <td>2014-09-01</td>\n",
       "      <td>2014</td>\n",
       "      <td>9</td>\n",
       "      <td>1</td>\n",
       "      <td>17</td>\n",
       "      <td>0</td>\n",
       "      <td>17.1000</td>\n",
       "      <td>14.1053</td>\n",
       "      <td>15.5700</td>\n",
       "      <td>0.0000</td>\n",
       "      <td>0.0000</td>\n",
       "      <td>0.0000</td>\n",
       "      <td>88</td>\n",
       "      <td>75</td>\n",
       "      <td>2.9000</td>\n",
       "    </tr>\n",
       "    <tr>\n",
       "      <th>3</th>\n",
       "      <td>252584</td>\n",
       "      <td>3B</td>\n",
       "      <td>4A</td>\n",
       "      <td>1.4600</td>\n",
       "      <td>2014-09-01</td>\n",
       "      <td>2014</td>\n",
       "      <td>9</td>\n",
       "      <td>1</td>\n",
       "      <td>13</td>\n",
       "      <td>0</td>\n",
       "      <td>6.5333</td>\n",
       "      <td>13.4082</td>\n",
       "      <td>8.0000</td>\n",
       "      <td>0.0000</td>\n",
       "      <td>0.0000</td>\n",
       "      <td>0.0000</td>\n",
       "      <td>88</td>\n",
       "      <td>75</td>\n",
       "      <td>2.9000</td>\n",
       "    </tr>\n",
       "    <tr>\n",
       "      <th>4</th>\n",
       "      <td>252585</td>\n",
       "      <td>2A</td>\n",
       "      <td>10</td>\n",
       "      <td>8.3100</td>\n",
       "      <td>2014-09-01</td>\n",
       "      <td>2014</td>\n",
       "      <td>9</td>\n",
       "      <td>1</td>\n",
       "      <td>14</td>\n",
       "      <td>0</td>\n",
       "      <td>26.2833</td>\n",
       "      <td>18.9702</td>\n",
       "      <td>26.2917</td>\n",
       "      <td>0.0000</td>\n",
       "      <td>0.0000</td>\n",
       "      <td>0.0000</td>\n",
       "      <td>88</td>\n",
       "      <td>75</td>\n",
       "      <td>2.9000</td>\n",
       "    </tr>\n",
       "  </tbody>\n",
       "</table>\n",
       "</div>"
      ],
      "text/plain": [
       "       id origin_taz destination_taz  trip_distance  ...   snow  tmax  tmin   awnd\n",
       "0  252581         7C              6A         4.2500  ... 0.0000    88    75 2.9000\n",
       "1  252582         7B              15        10.1700  ... 0.0000    88    75 2.9000\n",
       "2  252583         11              2A         4.0200  ... 0.0000    88    75 2.9000\n",
       "3  252584         3B              4A         1.4600  ... 0.0000    88    75 2.9000\n",
       "4  252585         2A              10         8.3100  ... 0.0000    88    75 2.9000\n",
       "\n",
       "[5 rows x 19 columns]"
      ]
     },
     "execution_count": 126,
     "metadata": {
      "tags": []
     },
     "output_type": "execute_result"
    }
   ],
   "source": [
    "df_merged.head()"
   ]
  },
  {
   "cell_type": "code",
   "execution_count": null,
   "metadata": {
    "colab": {
     "base_uri": "https://localhost:8080/",
     "height": 459
    },
    "id": "9slRfJy0Bmjf",
    "outputId": "869789e5-fb87-4acd-f60a-1498935cfa42"
   },
   "outputs": [
    {
     "name": "stdout",
     "output_type": "stream",
     "text": [
      "<class 'pandas.core.frame.DataFrame'>\n",
      "Int64Index: 30925738 entries, 0 to 30925737\n",
      "Data columns (total 19 columns):\n",
      " #   Column           Dtype         \n",
      "---  ------           -----         \n",
      " 0   id               int64         \n",
      " 1   origin_taz       object        \n",
      " 2   destination_taz  object        \n",
      " 3   trip_distance    float64       \n",
      " 4   pu_date          datetime64[ns]\n",
      " 5   year             int64         \n",
      " 6   month            int64         \n",
      " 7   day              int64         \n",
      " 8   hour             int64         \n",
      " 9   weekday          int64         \n",
      " 10  duration_min     float64       \n",
      " 11  trip_mph_avg     float64       \n",
      " 12  est_revenue      float64       \n",
      " 13  prcp             float64       \n",
      " 14  snwd             float64       \n",
      " 15  snow             float64       \n",
      " 16  tmax             int64         \n",
      " 17  tmin             int64         \n",
      " 18  awnd             float64       \n",
      "dtypes: datetime64[ns](1), float64(8), int64(8), object(2)\n",
      "memory usage: 4.6+ GB\n"
     ]
    }
   ],
   "source": [
    "df_merged.info()"
   ]
  },
  {
   "cell_type": "code",
   "execution_count": null,
   "metadata": {
    "id": "i6KV6ZkLCeTI"
   },
   "outputs": [],
   "source": [
    "#Show all dataframes in the environment:\n",
    "#%psearch df*"
   ]
  },
  {
   "cell_type": "code",
   "execution_count": null,
   "metadata": {
    "id": "akC8KMoICfEL"
   },
   "outputs": [],
   "source": []
  },
  {
   "cell_type": "code",
   "execution_count": null,
   "metadata": {
    "id": "4G7_B4TgCfIL"
   },
   "outputs": [],
   "source": []
  }
 ],
 "metadata": {
  "colab": {
   "collapsed_sections": [],
   "machine_shape": "hm",
   "name": "Uber_Data_Analysis.ipynb",
   "provenance": [],
   "toc_visible": true
  },
  "kernelspec": {
   "display_name": "Python 3",
   "language": "python",
   "name": "python3"
  },
  "language_info": {
   "codemirror_mode": {
    "name": "ipython",
    "version": 3
   },
   "file_extension": ".py",
   "mimetype": "text/x-python",
   "name": "python",
   "nbconvert_exporter": "python",
   "pygments_lexer": "ipython3",
   "version": "3.6.13"
  }
 },
 "nbformat": 4,
 "nbformat_minor": 1
}
